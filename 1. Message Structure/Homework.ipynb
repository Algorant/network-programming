{
 "cells": [
  {
   "cell_type": "markdown",
   "metadata": {},
   "source": [
    "# Filling in the Gaps\n",
    "\n",
    "A few questions were left somewhat unanswered in the lesson:\n",
    "\n",
    "* Why does `print(bytes([10, 100, 200])) -> b'\\nd\\xc8'` looks so odd? \n",
    "    * What's with the `\\n`? \n",
    "    * What's with the `\\x`? \n",
    "    * Are the `c` and the `8` related to the `\\x`?\n",
    "    * Is `d` related to either `\\n`, `\\x`, or neither?\n",
    "* How should we interpret these exotic byte literals when you encounter one _in the wild_?\n",
    "* How does the magical `int.from_bytes` function work?\n",
    "* How does its inverse function `int.to_bytes` work?\n",
    "\n",
    "To answer these questions we will make a `bites` class that acts just like `bytes`, but with a few minor differences: \n",
    "* Prints itself with strings instead of the special `bytes` literals and spaces (`\"00 ff\"`) instead of `\\x` separators.\n",
    "* Will duplicate the functionality of the magical `int.from_bytes` and `int.to_bytes` methods by implementing its `bites.from_int` and `bites.to_int` methods.\n",
    "\n",
    "Here's a skeleton of the class:"
   ]
  },
  {
   "cell_type": "code",
   "execution_count": null,
   "metadata": {},
   "outputs": [],
   "source": [
    "class bites:\n",
    "    \n",
    "    def __init__(self, values):\n",
    "        self.values = values\n",
    "        \n",
    "    def __repr__(self):\n",
    "        pass\n",
    "    \n",
    "    def to_int(self, byte_order):\n",
    "        pass\n",
    "    \n",
    "    @classmethod\n",
    "    def from_int(cls, n, length, byte_order):\n",
    "        pass    "
   ]
  },
  {
   "cell_type": "markdown",
   "metadata": {},
   "source": [
    "# Implementing `bites.from_int` in 5 Steps\n",
    "\n",
    "A \"byte\" is a value `x` such that `0 <= x < 256`.\n",
    "\n",
    "Simple.\n",
    "\n",
    "How can we represent a number 256 or higher as a series of bytes? Hmm ...\n",
    "\n",
    "Let's think about how we solve this with our normal decimal numbers. Instead of 256 separate values or \"places\", we only have 10 places with values `y` such that `0 <= y < 9`.\n",
    "\n",
    "What happens when we encounter a number outside this range? Say the number after 9 -- `9 + 1`? We no longer have a \"numberal\" or number symbol to represent this number. We could invent one of course, but quickly becomes unworkable due to the memorization demands.\n",
    "\n",
    "Instead we employ an ingenius trick to utilize _two numberals to rempresent 1 number_. It's really clever when you think of it. Of course, we write this `9 + 1` as `10` -- the left character represents that we have run out of numberals 1 time. It's the 10's place. The right numberal says that we haven't started going up again. We can repeat this procedure indefinitely\n",
    "\n",
    "```\n",
    "\n",
    "  ----------  ...  ---------- ---------- ----------\n",
    "    10**n's          100's       10's       1's  \n",
    "\n",
    "```\n",
    "\n",
    "Therefore, any number `N` can be represented as a sum of \n",
    "\n",
    "```\n",
    "an *  10**n + ... + a2 *  10**2 + a1 *  10**1 + a0 *  10**0\n",
    "```\n",
    "\n",
    "And can employ exactly the same trick to represent numbers greater than 256 as a series of bytes -- numbers 0 <= x < 256. Just replaces the old threshold 10 with the new threshold 256:\n",
    "\n",
    "```\n",
    "an * 256**n + ... + a2 * 256**2 + a1 * 256**1 + a0 * 256**0\n",
    "```\n",
    "\n",
    "The trick here is to go from an `int` to a list of values which each represent one place in the base 256 expansion of the `int` we're dealing with.\n",
    "\n",
    "So we have a representation. We could use a `simple` data structure to store this: `[an, ..., a2, a1, a0]`. With say a0 = 0, a1 = 1, and a2 = 2 we would have `[2, 1, 0]`. This would save the number `2 * 256**2 + 1 * 256**1 + 0 * 256**0 = 65792` as 3 bytes. Simple enough!\n",
    "\n",
    "Now we just need an algorithm to go back and forth between normal Python `int`s. I believe the \"int -> base 256 places\" case is more intuitive because it's simple multiplication:"
   ]
  },
  {
   "cell_type": "code",
   "execution_count": null,
   "metadata": {},
   "outputs": [],
   "source": [
    "N = 92837365\n",
    "\n",
    "print(\"binary: \", bin(N))\n",
    "print(\"octal: \", oct(N))\n",
    "print(\"hexidecimal: \", hex(N))"
   ]
  },
  {
   "cell_type": "markdown",
   "metadata": {},
   "source": [
    "Here is some logic to decompose `92837365` into base 256 places:"
   ]
  },
  {
   "cell_type": "code",
   "execution_count": null,
   "metadata": {},
   "outputs": [],
   "source": [
    "places = []\n",
    "n = N  # let's not modify N\n",
    "\n",
    "while n > 0:\n",
    "    places.insert(0, n % 256)\n",
    "    n = n // 256\n",
    "\n",
    "print(places)"
   ]
  },
  {
   "cell_type": "markdown",
   "metadata": {},
   "source": [
    "## Step 1:  `int_to_256_places(n)`"
   ]
  },
  {
   "cell_type": "markdown",
   "metadata": {},
   "source": [
    "Next, turn this into a function `int_to_256_places(n)`"
   ]
  },
  {
   "cell_type": "code",
   "execution_count": null,
   "metadata": {},
   "outputs": [],
   "source": [
    "def int_to_base_256_places(n):\n",
    "    places = []\n",
    "    while n > 0:\n",
    "        places.insert(0, n % 256)\n",
    "        n = n // 256\n",
    "    return places"
   ]
  },
  {
   "cell_type": "code",
   "execution_count": null,
   "metadata": {
    "scrolled": true
   },
   "outputs": [],
   "source": [
    "def test():\n",
    "    assert int_to_base_256_places(N) == [5, 136, 149, 245]\n",
    "    \n",
    "test()"
   ]
  },
  {
   "cell_type": "markdown",
   "metadata": {},
   "source": [
    "## Step 2: `int_to_places(n, base)`\n",
    "\n",
    "Now add a second parameter to the function and rename it to `int_to_places(n, base)` so that it works with any base.\n",
    "\n",
    "Test it against the binary, octal, and hex representations we say above. For example, we saw `hex(92837365)` was `0x58895f5`, so as a list it should be `[5, 8, 8, 9, 5, 15, 5]` (hex `f` equal to decimal `15`)."
   ]
  },
  {
   "cell_type": "code",
   "execution_count": null,
   "metadata": {},
   "outputs": [],
   "source": [
    "def int_to_places(n, base):\n",
    "    pass\n",
    "\n",
    "def int_to_places(n, base):\n",
    "    places = []\n",
    "    while n > 0:\n",
    "        places.insert(0, n % base)\n",
    "        n = n // base\n",
    "    return places\n",
    "\n",
    "print(int_to_places(N, 16))  # it this what you expect?"
   ]
  },
  {
   "cell_type": "code",
   "execution_count": null,
   "metadata": {},
   "outputs": [],
   "source": [
    "# Some automated tests to make absolutely sure you're correct!\n",
    "\n",
    "def test():\n",
    "    assert int_to_places(N, 256) == [5, 136, 149, 245]\n",
    "    assert int_to_places(N, 16) == [int(x, 16) for x in hex(N)[2:]]\n",
    "    assert int_to_places(N, 2) == [int(x, 2) for x in bin(N)[2:]]\n",
    "    \n",
    "test()"
   ]
  },
  {
   "cell_type": "markdown",
   "metadata": {},
   "source": [
    "## Step 3: `int_to_places(n, base, length)`\n",
    "\n",
    "Remember how every field in the protocol docs' \"Message Structure\" table has a `length` attribute?\n",
    "\n",
    "![image](../images/message-structure.png)\n",
    "\n",
    "We need to be able to support that, too. We should be able to say `int_to_places(1, 4)` and get [0, 0, 0, 1]. This feature helps us interpret and produce n-byte integer fields we cencounter in the Bitcoin protocol."
   ]
  },
  {
   "cell_type": "code",
   "execution_count": null,
   "metadata": {},
   "outputs": [],
   "source": [
    "def int_to_places(n, base, length):        \n",
    "    places = []\n",
    "    while len(places) < length:\n",
    "        places.insert(0, n % base)\n",
    "        n = n // base\n",
    "    # FIXME: keep this???\n",
    "#     if n != 0:\n",
    "#         raise ValueError(f'\"{n}\" cannot be expressed in \"{length}\" bites')\n",
    "    return places\n",
    "\n",
    "def test():\n",
    "    assert int_to_places(N, 256, 10) == [0] * 6 + [5, 136, 149, 245]\n",
    "    \n",
    "    vals = [int(x, 16) for x in hex(N)[2:]]\n",
    "    zeros = [0] * (20 - len(vals))\n",
    "    assert int_to_places(N, 16, 20) == zeros + vals\n",
    "\n",
    "test()"
   ]
  },
  {
   "cell_type": "markdown",
   "metadata": {},
   "source": [
    "## Step 4:  `int_to_places(n, base, length, byte_order)`\n",
    "\n",
    "This is how we've been choosing to represent the number `92837365`: `[5, 136, 149, 245]`\n",
    "\n",
    "The larger places on the left, smaller places to the right. Just like familiar decimal nubmers\n",
    "\n",
    "```\n",
    "    5     136     149     245\n",
    "-----   -----   -----   -----\n",
    "264^3   264^2   264^1   264^0\n",
    "```\n",
    "\n",
    "But isn't this choice completely arbitrary? Why not do the opposite: smaller places to the left, larger places to the right? \n",
    "\n",
    "```\n",
    "  245     149     136       5\n",
    "-----   -----   -----   -----\n",
    "264^0   264^1   264^2   264^3\n",
    "```\n",
    "\n",
    "There are names for these:\n",
    "* Big Endian\n",
    "* Little Endian\n",
    "\n",
    "Somewhat confusingly, different areas of computer science prefer one way or the other: computers generally use \"little endian\" to store information internally, and \"big endian\" for network transmission. Even within Bitcoin, Satoshi didn't choose one way or the other. Satoshi generally preferred \"little endian\" but he encodes IP addresses using \"big endian\", for instance. What a mess!\n",
    "\n",
    "You can find an interesting discussion of \"endianness\" [here](https://bitcoin.stackexchange.com/questions/2063/why-does-the-bitcoin-protocol-use-the-little-endian-notation) and a nice YouTube video [here](https://www.youtube.com/watch?v=seZLUbgbB7Y)\n",
    "\n",
    "What we've been doing is \"Bit Endian\" byte order. Add another parameter to our function so that it can handle \"Little Endian\" byte order. If `byte_order` is `\"little\"` you just need to reverse the list:"
   ]
  },
  {
   "cell_type": "code",
   "execution_count": null,
   "metadata": {},
   "outputs": [],
   "source": [
    "def int_to_places(n, base, length, byte_order):\n",
    "    places = []\n",
    "    while len(places) < length:\n",
    "        places.insert(0, n % base)\n",
    "        n = n // base\n",
    "    if byte_order == \"little\":\n",
    "        places.reverse()\n",
    "    return places"
   ]
  },
  {
   "cell_type": "code",
   "execution_count": null,
   "metadata": {},
   "outputs": [],
   "source": [
    "def test():\n",
    "    vals = [5, 136, 149, 245]\n",
    "    assert int_to_places(N, 256, len(vals), 'big') == vals\n",
    "    assert int_to_places(N, 256, len(vals), 'little') == vals[::-1]\n",
    "\n",
    "    vals = [int(x, 16) for x in hex(N)[2:]]\n",
    "    assert int_to_places(N, 16, len(vals), 'big') == vals\n",
    "    assert int_to_places(N, 16, len(vals), 'little') == vals[::-1]\n",
    "\n",
    "test()"
   ]
  },
  {
   "cell_type": "markdown",
   "metadata": {},
   "source": [
    "## Step 5:  `bites.from_int(n, base, length, byte_order)`\n",
    "\n",
    "\n",
    "Let's put it all together. Fill out the `from_int` method below and get the tests to pass"
   ]
  },
  {
   "cell_type": "code",
   "execution_count": null,
   "metadata": {},
   "outputs": [],
   "source": [
    "class bites:\n",
    "    \n",
    "    def __init__(self, values):\n",
    "        self.values = values\n",
    "        \n",
    "    def __repr__(self):\n",
    "        pass\n",
    "    \n",
    "    def to_int(self, num_bytes, byte_order):\n",
    "        pass\n",
    "    \n",
    "    @classmethod\n",
    "    def from_int(cls, n, length, byte_order):\n",
    "        places = int_to_places(n, 256, length, byte_order)\n",
    "        return cls(places)"
   ]
  },
  {
   "cell_type": "code",
   "execution_count": null,
   "metadata": {},
   "outputs": [],
   "source": [
    "def test():\n",
    "    vals = [5, 136, 149, 245]\n",
    "    assert bites.from_int(N, len(vals), 'big').values == vals\n",
    "    assert bites.from_int(N, len(vals), 'little').values == vals[::-1]\n",
    "    \n",
    "test()"
   ]
  },
  {
   "cell_type": "markdown",
   "metadata": {},
   "source": [
    "# Implement `bites.to_int(places)` in FIXME steps\n",
    "\n",
    "## Step 1: `base_256_places_to_int(places)`\n",
    "\n",
    "Write inverse function to `int_to_base_256_places` such that:\n",
    "\n",
    "`base_256_places_to_int([5, 136, 149, 245]) -> 92837365`"
   ]
  },
  {
   "cell_type": "code",
   "execution_count": null,
   "metadata": {},
   "outputs": [],
   "source": [
    "def base_256_places_to_int(places):\n",
    "    n = 0\n",
    "    while len(places):\n",
    "        place = places.pop(0)\n",
    "        n += \"FIXME\"\n",
    "    return n\n",
    "\n",
    "def base_256_places_to_int(places):\n",
    "    n = 0\n",
    "    for index, place in enumerate(reversed(places)):\n",
    "        n += place * 256 ** index\n",
    "    return n"
   ]
  },
  {
   "cell_type": "code",
   "execution_count": null,
   "metadata": {},
   "outputs": [],
   "source": [
    "def test():\n",
    "    assert base_256_places_to_int([5, 136, 149, 245]) == N\n",
    "\n",
    "test()"
   ]
  },
  {
   "cell_type": "markdown",
   "metadata": {},
   "source": [
    "## Step 2: `places_to_int(places, base)`\n",
    "\n",
    "Modify `base_256_places_to_int` so that it accepts arbitrary bases:"
   ]
  },
  {
   "cell_type": "code",
   "execution_count": null,
   "metadata": {},
   "outputs": [],
   "source": [
    "def places_to_int(places, base):\n",
    "    \"FIXME\"\n",
    "    \n",
    "def places_to_int(places, base):\n",
    "    n = 0\n",
    "    for index, place in enumerate(reversed(places)):\n",
    "        n += place * base ** index\n",
    "    return n"
   ]
  },
  {
   "cell_type": "code",
   "execution_count": null,
   "metadata": {},
   "outputs": [],
   "source": [
    "def test():\n",
    "    assert places_to_int([5, 136, 149, 245], 256) == N\n",
    "    assert places_to_int([int(x, 16) for x in hex(N)[2:]], 16) == N\n",
    "    assert places_to_int([int(x, 2) for x in bin(N)[2:]], 2) == N\n",
    "test()"
   ]
  },
  {
   "cell_type": "markdown",
   "metadata": {},
   "source": [
    "## Step 3: `places_to_int(places, base, byte_order)`\n",
    "\n",
    "Add byte order"
   ]
  },
  {
   "cell_type": "code",
   "execution_count": null,
   "metadata": {},
   "outputs": [],
   "source": [
    "def places_to_int(places, base, byte_order):\n",
    "    \"FIXME\"\n",
    "\n",
    "def places_to_int(places, base, byte_order):\n",
    "    if byte_order == 'big':\n",
    "        places = reversed(places)\n",
    "    n = 0\n",
    "    for index, place in enumerate(places):\n",
    "        n += place * base ** index\n",
    "    return n"
   ]
  },
  {
   "cell_type": "code",
   "execution_count": null,
   "metadata": {},
   "outputs": [],
   "source": [
    "def test():\n",
    "    assert places_to_int([5, 136, 149, 245], 256, 'big') == N\n",
    "    assert places_to_int([5, 136, 149, 245][::-1], 256, 'little') == N\n",
    "    \n",
    "    assert places_to_int([int(x, 16) for x in hex(N)[2:]], 16, 'big') == N\n",
    "    assert places_to_int([int(x, 16) for x in hex(N)[2:]][::-1], 16, 'little') == N\n",
    "\n",
    "test()"
   ]
  },
  {
   "cell_type": "markdown",
   "metadata": {},
   "source": [
    "## Step 4: `bites.to_int(base, byte_order)`\n",
    "\n",
    "Bring it all together"
   ]
  },
  {
   "cell_type": "code",
   "execution_count": null,
   "metadata": {},
   "outputs": [],
   "source": [
    "class bites:\n",
    "    \n",
    "    def __init__(self, values):\n",
    "        self.values = values\n",
    "        \n",
    "    def __repr__(self):\n",
    "        return repr(self.values)\n",
    "    \n",
    "    def to_int(self, byte_order):\n",
    "        return places_to_int(self.values, 256, byte_order)\n",
    "    \n",
    "    @classmethod\n",
    "    def from_int(cls, n, length, byte_order):\n",
    "        places = int_to_places(n, 256, length, byte_order)\n",
    "        return cls(places)\n",
    "    \n",
    "    @classmethod\n",
    "    def from_hex(cls, hx):\n",
    "        # FIXME\n",
    "        places = [int(hx[i:i+2], 16) for i in range(0, len(hx), 2)]\n",
    "        return cls(places)\n",
    "    \n",
    "    # FIXME\n",
    "    def __eq__(self, other):\n",
    "        return self.values == other.values"
   ]
  },
  {
   "cell_type": "code",
   "execution_count": null,
   "metadata": {},
   "outputs": [],
   "source": [
    "def test():\n",
    "    places = [5, 136, 149, 245]\n",
    "    assert bites(places).to_int('big') == N\n",
    "    assert bites(places[::-1]).to_int('little') == N\n",
    "\n",
    "test()"
   ]
  },
  {
   "cell_type": "markdown",
   "metadata": {},
   "source": [
    "# `bites.__repr__`\n",
    "\n",
    "The representations of Python objects are determined by `.__repr__()` methods.\n",
    "\n",
    "Let's see `bytes.__repr__` in action:"
   ]
  },
  {
   "cell_type": "code",
   "execution_count": null,
   "metadata": {},
   "outputs": [],
   "source": [
    "for i in range(256):\n",
    "    print(i, \"->\", bytes([i]))"
   ]
  },
  {
   "cell_type": "markdown",
   "metadata": {},
   "source": [
    "I want you to implement a function that can print `bites` instances in the same way. To assist with this one I'm going to give you a list of character codes that have special meaning to `bytes`.\n",
    "\n",
    "Below is a dictionary containing an `int -> ascii character` mapping of all numbers in 0 <= x < 256 with special meaning to `bytes`."
   ]
  },
  {
   "cell_type": "code",
   "execution_count": 310,
   "metadata": {
    "scrolled": false
   },
   "outputs": [
    {
     "name": "stdout",
     "output_type": "stream",
     "text": [
      "{9: '\\t', 10: '\\n', 13: '\\r', 32: ' ', 33: '!', 34: '\"', 35: '#', 36: '$', 37: '%', 38: '&', 39: \"'\", 40: '(', 41: ')', 42: '*', 43: '+', 44: ',', 45: '-', 46: '.', 47: '/', 48: '0', 49: '1', 50: '2', 51: '3', 52: '4', 53: '5', 54: '6', 55: '7', 56: '8', 57: '9', 58: ':', 59: ';', 60: '<', 61: '=', 62: '>', 63: '?', 64: '@', 65: 'A', 66: 'B', 67: 'C', 68: 'D', 69: 'E', 70: 'F', 71: 'G', 72: 'H', 73: 'I', 74: 'J', 75: 'K', 76: 'L', 77: 'M', 78: 'N', 79: 'O', 80: 'P', 81: 'Q', 82: 'R', 83: 'S', 84: 'T', 85: 'U', 86: 'V', 87: 'W', 88: 'X', 89: 'Y', 90: 'Z', 91: '[', 92: '\\\\', 93: ']', 94: '^', 95: '_', 96: '`', 97: 'a', 98: 'b', 99: 'c', 100: 'd', 101: 'e', 102: 'f', 103: 'g', 104: 'h', 105: 'i', 106: 'j', 107: 'k', 108: 'l', 109: 'm', 110: 'n', 111: 'o', 112: 'p', 113: 'q', 114: 'r', 115: 's', 116: 't', 117: 'u', 118: 'v', 119: 'w', 120: 'x', 121: 'y', 122: 'z', 123: '{', 124: '|', 125: '}', 126: '~'}\n"
     ]
    }
   ],
   "source": [
    "from utils import special_chars\n",
    "\n",
    "print(special_chars)"
   ]
  },
  {
   "cell_type": "markdown",
   "metadata": {},
   "source": [
    "Anything value left unassigned by that dictionary should be converted into it's hexidecimal representation -- using hex represeents a comprimise because it doesn't require memorizing 256 different characters to be able to represent all of these numbers in 1 character. \n",
    "\n",
    "But it's more space efficient than decimal for representing bytes -- hex can represent every byte in 2 characters while decimal would need 3 characters for 60% of all byte values (everything over 99).\n",
    "\n",
    "### Exercise: Implement a  `represent` function that works exactly like `bytes.__repr__` does\n",
    "\n",
    "Here's how it should work:\n",
    "\n",
    "`represent(bytes([145, 22, 75, 152, 83])) -> \"\\x91\\x16K\\x98S\"`\n",
    "\n",
    "The output should be a string. Hint: to put a `\\` in a string you need to escape like `\\\\`. So a newline `\\n` for example would need to be input as `\\\\n`."
   ]
  },
  {
   "cell_type": "code",
   "execution_count": 316,
   "metadata": {},
   "outputs": [
    {
     "name": "stdout",
     "output_type": "stream",
     "text": [
      "\\x91\\x16K\\x98S\n"
     ]
    }
   ],
   "source": [
    "def represent(b):\n",
    "    # let's operate on the underlying numbers\n",
    "    numbers = list(b)\n",
    "    result = \"\"\n",
    "    for n in numbers:\n",
    "        if n in special_chars:\n",
    "            result += special_chars[n]\n",
    "        else:\n",
    "            result += '\\\\x' + hex(n)[2:]\n",
    "    return result\n",
    "            \n",
    "print(represent(bytes([145, 22, 75, 152, 83])))"
   ]
  },
  {
   "cell_type": "code",
   "execution_count": 317,
   "metadata": {},
   "outputs": [],
   "source": [
    "def test():\n",
    "    assert represent(bytes([145, 22, 75, 152, 83])) == \"\\\\x91\\\\x16K\\\\x98S\"\n",
    "\n",
    "test()"
   ]
  },
  {
   "cell_type": "markdown",
   "metadata": {},
   "source": [
    "# Put it all together (with some help from our friends)\n",
    "\n",
    "I'm going to add 2 methods that our Lesson 1 code requires: `.strip` and `__eq__`. To simplify things I just convert to `bytes` and have it do all the work ..."
   ]
  },
  {
   "cell_type": "code",
   "execution_count": 338,
   "metadata": {},
   "outputs": [],
   "source": [
    "class bites:\n",
    "    \n",
    "    def __init__(self, values):\n",
    "        self.values = values\n",
    "    \n",
    "    def __eq__(self, other):\n",
    "        if isinstance(other, bytes):\n",
    "            return self.values == list(other)\n",
    "        return self.values == other.values\n",
    "    \n",
    "    def __repr__(self):\n",
    "        result = \"\"\n",
    "        for n in self.values:\n",
    "            if n in special_chars:\n",
    "                result += special_chars[n]\n",
    "            else:\n",
    "                result += '\\\\x' + hex(n)[2:]\n",
    "        return result\n",
    "    \n",
    "    def to_int(self, byte_order):\n",
    "        return places_to_int(self.values, 256, byte_order)\n",
    "    \n",
    "    @classmethod\n",
    "    def from_int(cls, n, length, byte_order):\n",
    "        places = int_to_places(n, 256, length, byte_order)\n",
    "        return cls(places)\n",
    "\n",
    "    def strip(self, pattern):\n",
    "        return bites(list(bytes(self.values).strip(pattern)))"
   ]
  },
  {
   "cell_type": "code",
   "execution_count": null,
   "metadata": {},
   "outputs": [],
   "source": [
    "# __eq__ needed for  magic bytes comparisons\n",
    "\n",
    "b'\\xf9\\xbe\\xb4\\xd9' == bites([0xF9, 0xBE, 0xB4, 0xD9])"
   ]
  },
  {
   "cell_type": "code",
   "execution_count": 318,
   "metadata": {
    "scrolled": true
   },
   "outputs": [
    {
     "name": "stdout",
     "output_type": "stream",
     "text": [
      "unstripped: version\\x00\\x00\\x00\\x00\\x00\n",
      "stripped: version\n"
     ]
    }
   ],
   "source": [
    "# strip() needed for reading commands\n",
    "\n",
    "b = bites(list(b\"version\\x00\\x00\\x00\\x00\\x00\"))\n",
    "\n",
    "print(\"unstripped:\", b)\n",
    "print(\"stripped:\", b.strip(b\"\\x00\"))"
   ]
  },
  {
   "cell_type": "markdown",
   "metadata": {},
   "source": [
    "### BiteStream\n",
    "\n",
    "This class turns `bytes`treams into `bites`treams"
   ]
  },
  {
   "cell_type": "code",
   "execution_count": null,
   "metadata": {},
   "outputs": [],
   "source": [
    "class BitesStream:\n",
    "\n",
    "    def __init__(self, stream):\n",
    "        self.stream = stream\n",
    "\n",
    "    def read(self, n):\n",
    "        # return bites.from_hex(self.stream.read(n).hex())\n",
    "        return bites(list(self.stream.read(n)))\n",
    "        \n",
    "    def __getattr__(self, name):\n",
    "        return getattr(self.f, name)"
   ]
  },
  {
   "cell_type": "markdown",
   "metadata": {},
   "source": [
    "### Hashing `bites`\n",
    "\n",
    "`hashlib.sha256` requires inputs to implement the \"Buffer API\".This "
   ]
  },
  {
   "cell_type": "code",
   "execution_count": null,
   "metadata": {},
   "outputs": [],
   "source": [
    "from hashlib import sha256\n",
    "\n",
    "def hash256(b):\n",
    "    values = sha256(sha256(bytes(b.values)).digest()).digest()\n",
    "    return b.__class__(values)"
   ]
  },
  {
   "cell_type": "markdown",
   "metadata": {},
   "source": [
    "# Reading Bitcoin Messages From `bites`"
   ]
  },
  {
   "cell_type": "markdown",
   "metadata": {},
   "source": [
    "A couple small tweeks to make our `NetworkEnvelope` class developed in Lesson 1 work with `bites` instead of `bytes`\n",
    "\n",
    "\n",
    "### hex reader\n",
    "\n",
    "This helper class will allow us to read hex strings out of our "
   ]
  },
  {
   "cell_type": "code",
   "execution_count": 323,
   "metadata": {},
   "outputs": [],
   "source": [
    "class BitesStream:\n",
    "\n",
    "    def __init__(self, stream):\n",
    "        self.stream = stream\n",
    "\n",
    "    def read(self, n):\n",
    "        # return bites.from_hex(self.stream.read(n).hex())\n",
    "        return bites(list(self.stream.read(n)))\n",
    "        \n",
    "    def __getattr__(self, name):\n",
    "        return getattr(self.f, name)"
   ]
  },
  {
   "cell_type": "markdown",
   "metadata": {},
   "source": [
    "### Update the hash function to work with `bites`"
   ]
  },
  {
   "cell_type": "code",
   "execution_count": 345,
   "metadata": {},
   "outputs": [],
   "source": [
    "from hashlib import sha256\n",
    "\n",
    "def calculate_checksum(b):\n",
    "    values = sha256(sha256(bytes(b.values)).digest()).digest()\n",
    "    checksum_values = values[:4]\n",
    "    return b.__class__(list(checksum_values))"
   ]
  },
  {
   "cell_type": "markdown",
   "metadata": {},
   "source": [
    "### Our job is done here!"
   ]
  },
  {
   "cell_type": "code",
   "execution_count": 348,
   "metadata": {},
   "outputs": [],
   "source": [
    "\n",
    "class NetworkEnvelope:\n",
    "\n",
    "    def __init__(self, command, payload):\n",
    "        self.command = command\n",
    "        self.payload = payload\n",
    "\n",
    "    @classmethod\n",
    "    def from_stream(cls, stream):\n",
    "        magic = stream.read(4)\n",
    "        if magic != NETWORK_MAGIC:\n",
    "            raise ValueError('Network magic is wrong')\n",
    "\n",
    "        command = stream.read(12).strip(b\"\\x00\")\n",
    "        payload_length = stream.read(4).to_int('little')\n",
    "        checksum = stream.read(4)\n",
    "        payload = stream.read(payload_length)\n",
    "        \n",
    "        if checksum != calculate_checksum(payload):\n",
    "            raise RuntimeError(\"Checksums don't match\")\n",
    "\n",
    "        return cls(command, payload)\n",
    "\n",
    "    def serialize(self):\n",
    "        raise NotImplementedError()\n",
    "\n",
    "    def __repr__(self):\n",
    "        return f\"<Message command={self.command}>\"\n"
   ]
  },
  {
   "cell_type": "code",
   "execution_count": 349,
   "metadata": {},
   "outputs": [
    {
     "name": "stdout",
     "output_type": "stream",
     "text": [
      "<Message command=version>\n",
      "\\x7f\\x11\\x1\\x0\r",
      "\\x4\\x0\\x0\\x0\\x0\\x0\\x0\\xe4\\x9dO\\\\x0\\x0\\x0\\x0\\x0\\x0\\x0\\x0\\x0\\x0\\x0\\x0\\x0\\x0\\x0\\x0\\x0\\x0\\x0\\x0\\x0\\x0\\xff\\xffFqPG\\xe64\r",
      "\\x4\\x0\\x0\\x0\\x0\\x0\\x0\\x0\\x0\\x0\\x0\\x0\\x0\\x0\\x0\\x0\\x0\\x0\\x0\\x0\\x0\\x0\\x0\\x0\\x0\\x9d\\xaf:s\\x8f\\xfdZ)\\x10/Satoshi:0.17.0/\\xa3\\x8d\\x8\\x0\\x1\n"
     ]
    }
   ],
   "source": [
    "import socket\n",
    "\n",
    "# magic \"version\" bytestring\n",
    "VERSION = b'\\xf9\\xbe\\xb4\\xd9version\\x00\\x00\\x00\\x00\\x00j\\x00\\x00\\x00\\x9b\"\\x8b\\x9e\\x7f\\x11\\x01\\x00\\x0f\\x04\\x00\\x00\\x00\\x00\\x00\\x00\\x93AU[\\x00\\x00\\x00\\x00\\x0f\\x04\\x00\\x00\\x00\\x00\\x00\\x00\\x00\\x00\\x00\\x00\\x00\\x00\\x00\\x00\\x00\\x00\\x00\\x00\\x00\\x00\\x00\\x00\\x00\\x00\\x0f\\x04\\x00\\x00\\x00\\x00\\x00\\x00\\x00\\x00\\x00\\x00\\x00\\x00\\x00\\x00\\x00\\x00\\x00\\x00\\x00\\x00\\x00\\x00\\x00\\x00rV\\xc5C\\x9b:\\xea\\x89\\x14/some-cool-software/\\x01\\x00\\x00\\x00\\x01'\n",
    "\n",
    "PEER_IP = \"67.164.73.145\"\n",
    "PEER_PORT = 8333\n",
    "\n",
    "sock = socket.socket()\n",
    "sock.connect((PEER_IP, PEER_PORT))\n",
    "stream = sock.makefile('rb')\n",
    "bites_stream = BitesStream(stream)\n",
    "\n",
    "# initiate the \"version handshake\"\n",
    "sock.send(VERSION)\n",
    "\n",
    "# receive their \"version\" response\n",
    "msg = NetworkEnvelope.from_stream(bites_stream)\n",
    "\n",
    "print(msg)\n",
    "print(msg.payload)"
   ]
  },
  {
   "cell_type": "code",
   "execution_count": null,
   "metadata": {},
   "outputs": [],
   "source": []
  }
 ],
 "metadata": {
  "kernelspec": {
   "display_name": "Python 3",
   "language": "python",
   "name": "python3"
  },
  "language_info": {
   "codemirror_mode": {
    "name": "ipython",
    "version": 3
   },
   "file_extension": ".py",
   "mimetype": "text/x-python",
   "name": "python",
   "nbconvert_exporter": "python",
   "pygments_lexer": "ipython3",
   "version": "3.7.1"
  }
 },
 "nbformat": 4,
 "nbformat_minor": 2
}
