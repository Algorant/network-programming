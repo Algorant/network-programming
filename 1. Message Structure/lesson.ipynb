{
 "cells": [
  {
   "cell_type": "markdown",
   "metadata": {},
   "source": [
    "# Prologue\n",
    "\n",
    "The next few lessons are a meditation on [`bytes`](https://docs.python.org/3/library/stdtypes.html#bytes). \n",
    "\n",
    "`bytes` are just a sequence of numbers 0 <= x < 256 with [ASCII](https://www.webopedia.com/TERM/A/ASCII.html) [literals](https://stackoverflow.com/a/34189196/2542016) and [representations (`.__repr__`)](https://stackoverflow.com/questions/1436703/difference-between-str-and-repr/2626364#2626364). That's it. Nothing more. Don't forget this and don't take your eyes off this fact.\n",
    "\n",
    "Try charerters not included in the ASCII scheme and see what happens:"
   ]
  },
  {
   "cell_type": "code",
   "execution_count": null,
   "metadata": {},
   "outputs": [],
   "source": [
    "b\"ñot ASCII\""
   ]
  },
  {
   "cell_type": "markdown",
   "metadata": {},
   "source": [
    "The byte literal `b\"I'm a string` may look like a string to you but it is not. "
   ]
  },
  {
   "cell_type": "code",
   "execution_count": null,
   "metadata": {},
   "outputs": [],
   "source": [
    "list(b\"I'm a string\")"
   ]
  },
  {
   "cell_type": "markdown",
   "metadata": {},
   "source": [
    "Python doesn't show these numbers themselves because there is a strong convention to give certain of these numbers special meaning according to the [ASCII scheme](http://www.asciitable.com/). For example, the byte `73` almost universally means `I`. So Python takes pity on the programmer and shows them `I` by default. But `73` is always only a `list(...)` away.\n",
    "\n",
    "`73`, the ASCII code for `I` is represented in hexidecimal as `0x49` but the hexidecimal number `0xfe` doesn't not correspond to any ASCII character. Notice how `\\x49` get replaced by `I` but `\\xfe` doesn't get swapped out because hexidecimal number `0xfe` equals decimal `254` is outside ASCII range:"
   ]
  },
  {
   "cell_type": "code",
   "execution_count": null,
   "metadata": {},
   "outputs": [],
   "source": [
    "b'\\x49\\xfe'"
   ]
  },
  {
   "cell_type": "markdown",
   "metadata": {},
   "source": [
    "The \"character essentials\" section of [this book chapter](https://www.oreilly.com/library/view/fluent-python/9781491946237/ch04.html) has an excellent description of what's going on:\n",
    "\n",
    "![image](../images/bytes.png)\n",
    "\n",
    "Finally, take a peak at [this StackOverflow answer](https://stackoverflow.com/questions/54358833/how-does-bytes-repr-representation-work/54358937#54358937) to see precisely how the CPython interpreter produces these representations.\n",
    "\n",
    "The miracle of protocol engineering is that we are able to create complex, powerful, almost biological systems like Bitcoin from the primitive ability to share sequences of small numbers with each other. It blows my mind and it should blow yours, too!\n",
    "\n",
    "So say it with me: **`bytes` are just a sequence of numbers 0 <= x < 256`**"
   ]
  },
  {
   "cell_type": "markdown",
   "metadata": {},
   "source": [
    "# Review\n",
    "\n",
    "[ping_pong.py from the digital cash videos](https://github.com/justinmoon/digital-cash/blob/master/experiments/ping_pong.py) is running on port 10000 on a computer with IP address `68.183.109.101`.\n",
    "\n",
    "Can you connect to it? Can you sent it a `ping` and read it's `pong` response?\n",
    "\n",
    "FIXME: this is down ..."
   ]
  },
  {
   "cell_type": "code",
   "execution_count": null,
   "metadata": {},
   "outputs": [],
   "source": [
    "import socket # hint\n",
    "\n",
    "sock = socket.socket()\n",
    "sock.connect((\"68.183.109.101\", 10000))\n",
    "sock.send(b\"ping\")\n",
    "response = sock.recv(1024)\n",
    "print(\"Response: \", response)\n"
   ]
  },
  {
   "cell_type": "markdown",
   "metadata": {},
   "source": [
    "# Connect to a Bitcoin Peer\n",
    "\n",
    "Since the Bitcoin Network is peer-to-peer, we must find some specific peer to connect to.\n",
    "\n",
    "[Bitnodes](https://bitnodes.earn.com/nodes/) has a nice listing of visible nodes in the Bitcoin network. Choose one. Look at the \"address\" column. You should see something like `\"35.187.200.6:8333\"`. This is the \"address\" of the node you've selected. This address is composed of two values: an Internet Protocol (IP) address (e.g. 35.187.200.6), and a port (e.g. 8333) separated by a colon. The IP indicates identifies the computer we are connecting to, and the port identifies a specific process running on that computer.\n",
    "\n",
    "Paste in the IP and port of the node you selected in the cell below."
   ]
  },
  {
   "cell_type": "code",
   "execution_count": null,
   "metadata": {},
   "outputs": [],
   "source": [
    "# FILL THESE IN!\n",
    "PEER_IP = \"\"\n",
    "PEER_PORT = 0"
   ]
  },
  {
   "cell_type": "markdown",
   "metadata": {},
   "source": [
    "Let's connect to this peer using a [socket](https://docs.python.org/3/library/socket.html#socket-objects), which is like a tunnel across the internet. We can interact with out peer by writing data into the socket using `sock.send(message_bytes)` and reading from the socket using `sock.recv(number_of_bytes_to_read)`. (Kinda like a file, right?)"
   ]
  },
  {
   "cell_type": "code",
   "execution_count": null,
   "metadata": {},
   "outputs": [],
   "source": [
    "sock = socket.socket()\n",
    "sock.connect((PEER_IP, PEER_PORT))\n",
    "\n",
    "response = sock.recv(1024)\n",
    "\n",
    "print(\"response: \", response)"
   ]
  },
  {
   "cell_type": "markdown",
   "metadata": {},
   "source": [
    "What do you think is happening? Take a moment and make a guess.\n",
    "\n",
    "Our peer is unresponsive. We're stuck on the line `response = sock.recv(1024)` attempting to receive bytes over TCP. This will wait forever until the Bitcoin node at the other end of our socket connection sends us a response or closes the connection.\n",
    "\n",
    "You may have noticed that to the left of every Jupyter cell is the text `In [ ]:` if the cell hasn't been executed yet, and somthing like `In [7]:` if the cell was the 7th cell executed. But the cell above says `In [*]:`. This means that it's still executing. _The code is stuck_. Hit the ■ button in the menu at the top of the screen (or type `escape ii`) to kill the process in the cell above.\n",
    "\n",
    "Why do you think it got stuck? Ponder this for a moment. I don't expect you to know the answer but try to think of some plausible ones ...\n",
    "\n",
    "# Version Handshake\n",
    "\n",
    "The reason the code got stuck is because we didn't properly introduce ourselves to our peer. With Bitcoin, we must perform a [Version Handshake](https://en.bitcoin.it/wiki/Version_Handshake) in order to begin exchanging messages.\n",
    "\n",
    "So let's try again. I'm going to give you a magic `VERSION` bytestring without telling you how I came up with it. Before calling `sock.recv(1024)` we will first call `sock.send(VERSION)` because the Bitcoin Version Handshake demands that the node which initiates the connection send the first `version` message."
   ]
  },
  {
   "cell_type": "code",
   "execution_count": null,
   "metadata": {},
   "outputs": [],
   "source": [
    "# Bitcoin network equivalent of \"hello\"\n",
    "VERSION = b'\\xf9\\xbe\\xb4\\xd9version\\x00\\x00\\x00\\x00\\x00j\\x00\\x00\\x00\\x9b\"\\x8b\\x9e\\x7f\\x11\\x01\\x00\\x0f\\x04\\x00\\x00\\x00\\x00\\x00\\x00\\x93AU[\\x00\\x00\\x00\\x00\\x0f\\x04\\x00\\x00\\x00\\x00\\x00\\x00\\x00\\x00\\x00\\x00\\x00\\x00\\x00\\x00\\x00\\x00\\x00\\x00\\x00\\x00\\x00\\x00\\x00\\x00\\x0f\\x04\\x00\\x00\\x00\\x00\\x00\\x00\\x00\\x00\\x00\\x00\\x00\\x00\\x00\\x00\\x00\\x00\\x00\\x00\\x00\\x00\\x00\\x00\\x00\\x00rV\\xc5C\\x9b:\\xea\\x89\\x14/some-cool-software/\\x01\\x00\\x00\\x00\\x01'\n",
    "\n",
    "sock = socket.socket()\n",
    "sock.connect((PEER_IP, PEER_PORT))\n",
    "\n",
    "# initiate the \"version handshake\"\n",
    "sock.send(VERSION)\n",
    "\n",
    "# receive their \"version\" response\n",
    "response = sock.recv(1024)\n",
    "\n",
    "print(response)"
   ]
  },
  {
   "cell_type": "markdown",
   "metadata": {},
   "source": [
    "The code no longer gets stuck at `response = sock.recv(1024)` because the peer answered our `version` message with their own `version` message. We're learning to say \"hello\" in the language of the Bitcoin network protocol!\n",
    "\n",
    "# Reading Network Messages\n",
    "\n",
    "This table in the [protocol documentation](https://en.bitcoin.it/wiki/Protocol_documentation#version) tells us what information the `version` message contains and how to decipher it. But before we can read the version message specifically (as opposed to the other 26 types), we need to learn to read a Bitcoin protocol message generally. This [\"message structure\"](https://en.bitcoin.it/wiki/Protocol_documentation#Message_structure) table tells us how.\n",
    "\n",
    "![image](../images/message-structure.png)\n",
    "\n",
    "`command` and `payload` tell us what kind of message we're dealing with, and the contents of that message. These two attributes contain all the useful information.\n",
    "\n",
    "`magic`, `length`, and `checksum` help us read and verify integrity of messages and don't contain any useful information on their own.\n",
    "\n",
    "Regarding the table, the \"description\" and \"comments\" columns tell us what each row in the table means. The \"field size\" column tell us the number of bytes each field takes up, and the \"data type\" column tells us how we should interpret these bytes -- e.g. whether they a number, a string, a list etc.\n",
    "\n",
    "At a high level we're faced with the problem of reading an arbitrary length input N bytes at a time. Our algorithm for reading network message would be:\n",
    "\n",
    "* `magic`: first 4 bytes\n",
    "* `command`: next 12 bytes\n",
    "* `length`: next 4 bytes, interpreted as an integer\n",
    "* `checksum`: next 4 bytes\n",
    "* `payload`: next `length` bytes\n",
    "\n",
    "Notice how we are able to stop exactly at the end of the message without reading one single byte too few or too many.\n",
    "\n",
    "How would you do this in python? Think about that for a second ...\n",
    "\n",
    "The most obvious tool in the Python toolbox would be the [_slice_](https://stackoverflow.com/questions/509211/understanding-pythons-slice-notation). Let's see how that looks:"
   ]
  },
  {
   "cell_type": "code",
   "execution_count": null,
   "metadata": {},
   "outputs": [],
   "source": [
    "print('4 \"magic\" bytes: ', VERSION[:4], '\\n')\n",
    "print('12 \"command\" bytes: ', VERSION[4:4+12], '\\n')\n",
    "payload_length_bytes = VERSION[4+12:4+12+4]\n",
    "print('4 \"length\" bytes:', payload_length_bytes, '\\n')\n",
    "print('4 \"checksum\" bytes:', VERSION[4+12+4:4+12+4+4], '\\n')\n",
    "# here I interpret these bytes as an integer. More on this later ...\n",
    "payload_length = int.from_bytes(payload_length_bytes, 'little')\n",
    "print(payload_length, ' \"payload\" bytes:', VERSION[4+12+4+4:4+12+4+4+payload_length], '\\n')\n",
    "print('Anything left over? ', bool(VERSION[4+12+4+4+payload_length:]), '\\n')"
   ]
  },
  {
   "cell_type": "markdown",
   "metadata": {},
   "source": [
    "Eek! That's some ugly code ...\n",
    "\n",
    "If you think about it, the challenge of reading files is somewhat similar to what we're doing. When dealing with files we read them in chunks (often \"lines\" separated by `\\n`) and frequently don't know how long they are. The programming interfaces for reading files are very mature and powerful. \n",
    "\n",
    "For example:"
   ]
  },
  {
   "cell_type": "code",
   "execution_count": null,
   "metadata": {},
   "outputs": [],
   "source": [
    "with open(\"safu.txt\") as f:\n",
    "    print(f.read(5))\n",
    "    print(f.read(3))\n",
    "    print(f.read(4))"
   ]
  },
  {
   "cell_type": "markdown",
   "metadata": {},
   "source": [
    "Promising, huh?\n",
    "\n",
    "Python has a wonderful [`io.BytesIO`](https://docs.python.org/3/library/io.html#io.BytesIO) utility for turning `bytes` into [\"file objects\"](https://docs.python.org/3/glossary.html#term-file-object) we can `.read(n)` from. It's just a sequence of `bytes` which behaves like a file does. Colloquially we use the terms \"file object\" and \"stream\" interchangeably -- `stream` will make a convenient variable name going forward.\n",
    "\n",
    "Let's try wrapping the `VERSION` bytes we've been using in a `io.BytesIO` and see if we can decompose the message more readably:"
   ]
  },
  {
   "cell_type": "code",
   "execution_count": null,
   "metadata": {
    "scrolled": true
   },
   "outputs": [],
   "source": [
    "from io import BytesIO\n",
    "\n",
    "def read_message(stream):\n",
    "    print('4 \"magic\" bytes: ', stream.read(4), '\\n')\n",
    "    print('12 \"command\" bytes: ', stream.read(12), '\\n')\n",
    "    payload_length_bytes = stream.read(4)\n",
    "    print('4 \"length\" bytes', payload_length_bytes, '\\n')\n",
    "    print('4 \"checksum\" bytes', stream.read(4), '\\n')\n",
    "    payload_length = int.from_bytes(payload_length_bytes, 'little')\n",
    "    print(payload_length, ' \"payload\" bytes', stream.read(payload_length), '\\n')\n",
    "    \n",
    "stream = BytesIO(VERSION)\n",
    "read_message(stream)\n",
    "\n",
    "print('Anything left over?: ', stream.read(1), '\\n')"
   ]
  },
  {
   "cell_type": "markdown",
   "metadata": {},
   "source": [
    "### Readibility Win\n",
    "\n",
    "`stream.read(payload_length)` is a lot easier to read than `version_bytes[4+12+4+4:4+12+4+4+payload_length]`, wouldn't you say?\n",
    "\n",
    "### Respecting Message Boundaries\n",
    "\n",
    "We currently read a fixed 1024 bytes from the socket whenever it has bytes to give us: `response = sock.recv(1024)`.\n",
    "\n",
    "1024 bytes will rarely be enough to read a `block` message, but it's often too much for a `version` message. Consequently, `response = sock.recv(1024)` introduces 2 massive bugs: \n",
    "\n",
    "1. We can't read messages larger than 1024 bytes because they get cut off at 1024 bytes.\n",
    "2. We may treat 2 small messages as if they are one single message, causing us to completely ignore the second message.\n",
    "\n",
    "For example, if you run it enough times (or with a strategically place `time.sleep(n)`) the socket example which sends a `version` message you will eventually output something like this: \n",
    "\n",
    "```\n",
    "b'\\xf9\\xbe\\xb4\\xd9version\\x00\\x00\\x00\\x00\\x00f\\x00\\x00\\x00f\\x9a\\xe5\\x06\\x7f\\x11\\x01\\x00\\r\\x04\\x00\\x00\\x00\\x00\\x00\\x00\\xb9kV[\\x00\\x00\\x00\\x00\\x0f\\x04\\x00\\x00\\x00\\x00\\x00\\x00\\x00\\x00\\x00\\x00\\x00\\x00\\x00\\x00\\x00\\x00\\x00\\x00\\x00\\x00\\x00\\x00\\x00\\x00\\r\\x04\\x00\\x00\\x00\\x00\\x00\\x00\\x00\\x00\\x00\\x00\\x00\\x00\\x00\\x00\\x00\\x00\\x00\\x00\\x00\\x00\\x00\\x00\\x00\\x00\\x92\\xed.\\xd6\\xba\\x90\\xa8\\t\\x10/Satoshi:0.16.0/d#\\x08\\x00\\x01\\xf9\\xbe\\xb4\\xd9verack\\x00\\x00\\x00\\x00\\x00\\x00\\x00\\x00\\x00\\x00]\\xf6\\xe0\\xe2'\n",
    "```\n",
    "\n",
    "If you look closely you may notice that the magic network string `\\xf9\\xbe\\xb4\\xd9` appears twice. `version` follows the first occurrence, and `verack` follows the second. This is not one message, it's two!\n",
    "\n",
    "If we could figure out how to `.read(n)` directly from a socket we could completely eliminate this class of bugs by always reading the exact number of bytes the protocol tells us to.\n",
    "\n",
    "### Reading From Sockets\n",
    "\n",
    "This technique works directly on a socket with one small modification: calling [`socket.socket().makefile`](https://docs.python.org/3/library/socket.html#socket.socket.makefile) to give us a socket-backed \"file object\" we can `.read(n)` from. Where before the socket resembled a file, now it basically is one!"
   ]
  },
  {
   "cell_type": "code",
   "execution_count": null,
   "metadata": {},
   "outputs": [],
   "source": [
    "sock = socket.socket()\n",
    "sock.connect((PEER_IP, PEER_PORT))\n",
    "\n",
    "# get a \"file object\" / \"stream\"\n",
    "# \"r\" for \"read\", \"b\" for \"bytes\"\n",
    "stream = sock.makefile('rb')\n",
    "\n",
    "sock.send(VERSION)\n",
    "\n",
    "# no modifications required!\n",
    "read_message(stream)\n",
    "\n",
    "print('Anything left over?: ', bytes(stream.peek()[:1]), '\\n')"
   ]
  },
  {
   "cell_type": "markdown",
   "metadata": {},
   "source": [
    "Pretty cool, huh?\n",
    "\n",
    "Did you notice that the last line of the output says `Anything left over?:  b'\\xf9'`. Why did this change? What's the significance of `b'\\xf9'`?\n",
    "\n",
    "Initially we were dealing with a file object with exactly one version message in its buffer. When connecting to a Bitcoin peer our socket-backed file object now contains 2 messages -- so one is left over after we read the first one. As expected it begins with `b'\\xf9'` -- the first character in the network bytes-representation network magic `b'\\xf9\\xbe\\xb4\\xd9'`!\n",
    "\n",
    "The rest of the stream is a [`verack`](https://en.bitcoin.it/wiki/Protocol_documentation#verack), the second step in the [Version Handshake](https://en.bitcoin.it/wiki/Version_Handshake)"
   ]
  },
  {
   "cell_type": "code",
   "execution_count": null,
   "metadata": {},
   "outputs": [],
   "source": [
    "read_message(stream)"
   ]
  },
  {
   "cell_type": "markdown",
   "metadata": {},
   "source": [
    "# Interpreting Network Messages\n",
    "\n",
    "Now that we know how to read bytes associated with each part of a Bitcoin network message, let's learn to interpret them.\n",
    "\n",
    "First, the \"network magic\" ..."
   ]
  },
  {
   "cell_type": "markdown",
   "metadata": {},
   "source": [
    "#  Interpreting `magic`"
   ]
  },
  {
   "cell_type": "markdown",
   "metadata": {},
   "source": [
    "Every time we receive a Bitcoin network message we want to start by reading the network magic and checking that it's equal to the bytes `b\"\\xf9\\xbe\\xb4\\xd9\"` (this value has been [hard-coded in Bitcoin Core](https://github.com/bitcoin/bitcoin/blob/ace87ea2b00a84b7a76e75f1ec93d1a4dce83f6f/src/chainparams.cpp#L104) since the beginning).\n",
    "\n",
    "Before we learn to do this, let's zoom out and ask \"What is this 'network magic', anyway?\"\n",
    "\n",
    "[This StackExchange post](https://bitcoin.stackexchange.com/questions/43189/what-is-the-magic-number-used-in-the-block-structure/43191#43191) contains the best answer I've seen. Make sure you browse the [Wikipedia article](https://en.wikipedia.org/wiki/Magic_number_(programming)#Magic_numbers_in_protocols) it links to. In brief, magic values are a common method in protocol design for tagging data structures with information indicating it's \"type\". \n",
    "\n",
    "Why did Satoshi choose `\\xf9\\xbe\\xb4\\xd9` for his prefix?\n",
    "1. [A note in the source code we inherited from him](https://github.com/bitcoin/bitcoin/blob/ace87ea2b00a84b7a76e75f1ec93d1a4dce83f6f/src/chainparams.cpp#L100).\n",
    "2. [It has some improbable mathematical properties](https://bitcoin.stackexchange.com/a/52456/85335) Satoshi probably liked for no practical reasons.\n",
    "\n",
    "Now how should we deal with these magic bytes in the process of reading and interpreting real Bitcoin network messages? This one is pretty simple -- just check whether they're equal to the values in the wiki / reference implementation!\n",
    "\n",
    "![image](../images/magic-values.png)\n",
    "### Exercise: Check Network Magic"
   ]
  },
  {
   "cell_type": "code",
   "execution_count": null,
   "metadata": {},
   "outputs": [],
   "source": [
    "NETWORK_MAGIC = b'\\xf9\\xbe\\xb4\\xd9'\n",
    "\n",
    "def read_magic(stream):\n",
    "    return stream.read(4)\n",
    "    \n",
    "def is_mainnet_msg(stream):\n",
    "    magic = read_magic(stream)\n",
    "    return magic == \"FIXME\"\n",
    "\n",
    "def is_testnet_msg(stream):\n",
    "    magic = read_magic(stream)\n",
    "    return magic == \"FIXME\""
   ]
  },
  {
   "cell_type": "code",
   "execution_count": null,
   "metadata": {},
   "outputs": [],
   "source": [
    "def test_magic():\n",
    "    mainnet_msg = b'\\xf9\\xbe\\xb4\\xd9version\\x00\\x00\\x00\\x00\\x00j\\x00\\x00\\x00\\x9b\"\\x8b\\x9e\\x7f\\x11\\x01\\x00\\x0f\\x04\\x00\\x00\\x00\\x00\\x00\\x00\\x93AU[\\x00\\x00\\x00\\x00\\x0f\\x04\\x00\\x00\\x00\\x00\\x00\\x00\\x00\\x00\\x00\\x00\\x00\\x00\\x00\\x00\\x00\\x00\\x00\\x00\\x00\\x00\\x00\\x00\\x00\\x00\\x0f\\x04\\x00\\x00\\x00\\x00\\x00\\x00\\x00\\x00\\x00\\x00\\x00\\x00\\x00\\x00\\x00\\x00\\x00\\x00\\x00\\x00\\x00\\x00\\x00\\x00rV\\xc5C\\x9b:\\xea\\x89\\x14/some-cool-software/\\x01\\x00\\x00\\x00\\x01'\n",
    "    testnet_msg = b'\\x0b\\x11\\x09\\x07version\\x00\\x00\\x00\\x00\\x00j\\x00\\x00\\x00\\x9b\"\\x8b\\x9e\\x7f\\x11\\x01\\x00\\x0f\\x04\\x00\\x00\\x00\\x00\\x00\\x00\\x93AU[\\x00\\x00\\x00\\x00\\x0f\\x04\\x00\\x00\\x00\\x00\\x00\\x00\\x00\\x00\\x00\\x00\\x00\\x00\\x00\\x00\\x00\\x00\\x00\\x00\\x00\\x00\\x00\\x00\\x00\\x00\\x0f\\x04\\x00\\x00\\x00\\x00\\x00\\x00\\x00\\x00\\x00\\x00\\x00\\x00\\x00\\x00\\x00\\x00\\x00\\x00\\x00\\x00\\x00\\x00\\x00\\x00rV\\xc5C\\x9b:\\xea\\x89\\x14/some-cool-software/\\x01\\x00\\x00\\x00\\x01'\n",
    "    \n",
    "    assert is_mainnet_msg(BytesIO(mainnet_msg)) is True\n",
    "    assert is_mainnet_msg(BytesIO(testnet_msg)) is False\n",
    "    \n",
    "    assert is_testnet_msg(BytesIO(testnet_msg)) is True\n",
    "    assert is_testnet_msg(BytesIO(mainnet_msg)) is False\n",
    "    \n",
    "    print(\"Tests passed!\")\n",
    "\n",
    "test_magic()"
   ]
  },
  {
   "cell_type": "markdown",
   "metadata": {},
   "source": [
    "# Interpret `command`\n",
    "\n",
    "In practice, when you receive a Bitcoin network message you want to check the `command` attribute and call a handler function that knows what to do with each of the 27 different kinds of Bitcoin peer-to-peer messages.\n",
    "\n",
    "By default commands are right padded with empty bytes (`b\"\\x00\"`) until 12 total bytes are reached. For example, a `version` command would look like `b\"version\\x00\\x00\\x00\\x00\\x00\"`. For readability sake, let's strip the empty byte padding so we can deal with the cleaner `b\"version` instead.\n",
    "\n",
    "### Exercise #3: Interpret `command`\n",
    "\n",
    "An easy one ..."
   ]
  },
  {
   "cell_type": "code",
   "execution_count": null,
   "metadata": {},
   "outputs": [],
   "source": [
    "def read_command(stream):\n",
    "    raw = stream.read(\"FIXME\")\n",
    "    command = raw.strip(b\"\\x00\")  # remove empty byte padding\n",
    "    return command\n",
    "    \n",
    "def is_version_msg(stream):\n",
    "    command = read_command(stream)\n",
    "    return \"FIXME\"\n",
    "    \n",
    "def is_verack_msg(stream):\n",
    "    command = read_command(stream)\n",
    "    return \"FIXME\""
   ]
  },
  {
   "cell_type": "code",
   "execution_count": null,
   "metadata": {},
   "outputs": [],
   "source": [
    "VERACK = b\"\\xf9\\xbe\\xb4\\xd9verack\\x00\\x00\\x00\\x00\\x00\\x00\\x00\\x00\\x00\\x00]\\xf6\\xe0\\xe2\"\n",
    "\n",
    "def read_command_test():\n",
    "    stream = BytesIO(VERSION)\n",
    "    stream.seek(4)\n",
    "    assert is_version_msg(stream) is True\n",
    "    stream.seek(-12, 1)\n",
    "    assert is_verack_msg(stream) is False\n",
    "\n",
    "    stream = BytesIO(VERACK)\n",
    "    stream.seek(4)\n",
    "    assert is_verack_msg(stream) is True\n",
    "    stream.seek(-12, 1)\n",
    "    assert is_version_msg(stream) is False\n",
    "    \n",
    "    print(\"Tests passed!\")\n",
    "\n",
    "read_command_test()"
   ]
  },
  {
   "cell_type": "markdown",
   "metadata": {},
   "source": [
    "# Read `payload`\n",
    "\n",
    "Lastly, let's parse the 3 payload-related portions of the message: \"length\", \"checksum\", and \"payload\".\n",
    "\n",
    "![image](../images/message-structure.png)\n",
    "\n",
    "The goal of these three attributes is to read and verify the integrity of the `payload` -- which could be a newly mined block, or a transaction, or a list of peer IP addresses.\n",
    "\n",
    "Payloads vary in length. A [`verack` message](https://en.bitcoin.it/wiki/Protocol_documentation#verack) has empty payload. A [`block` message](https://en.bitcoin.it/wiki/Protocol_documentation#block) payload may contain a thousand transactions.\n",
    "\n",
    "To deal with the varying payload sizes, messages always include a `length` parameter which tells us exactly how large the payload is. This helps us avoid reading part of the payload and stopping in the middle, or overshooting and reading into the next message (like the example above where I read two messages by accident).\n",
    "\n",
    "Once we read the payload, how can we be sure that what we receive is the same as what our peer node sent us? That nobody modified the message while it was being routed to us over the internet?\n",
    "\n",
    "For this we use a \"checksum\":\n",
    "\n",
    "Checksums are a simple idea: when you send data you also include a small fingerprint of that data. Your recipient can check the fingerprint against the data they receive and verify with some probability the message wasn't tampered with en route.\n",
    "\n",
    "The Bitcoin protocol creates such a fingerprint by running a [hashing algorithm](https://blog.jscrambler.com/hashing-algorithms/) called [SHA256](https://en.wikipedia.org/wiki/SHA-2) on the data twice and then grabbing the first 4 bytes of the result. How can we be sure this fingerprint is any good? \n",
    "\n",
    "1. Hashing functions are \"deterministic\": given an input `x`, a hashing algorithm `h` will _always_ produce the same output `h(x)`. Since the output is always the same, the first, say, four digits of the output will always be the same. \n",
    "2. Calculating the inverse of a hashing function `h(x) -> x` requires brute force, you'd need to try about 256^4 ≈ 500,000,000 payload modifications (a byte contains 256 possible values and there are 4 bytes) on average to produce a viable payload modification with the same checksum.\n",
    "3. TCP protocol applies a separate checksum verification to each message! \\[sidenote: [Speculating why Satoshi choose to add a second checksum on top of TCP](https://bitcoin.stackexchange.com/a/22887/85335).\\]\n",
    "\n",
    "So any attacker who wanted to modify a message payload in transit would need to fake out 2 different checksumming schemes at the same time -- and for very little payoff. Alas, Bitcoin makes no assumptions that network participants are honest. \n",
    "\n",
    "So all of this hopefully goes to convince you that if the TCP and SHA256 checksums are correct, it is unlikely that the payload was modified in transit! The protocol simply makes this too expensive for anyone to bother trying.\n",
    "\n",
    "### Reading Integers\n",
    "\n",
    "The first field of the 3 payload-related fields is the 4-byte `length`. The `length` bytes of the `version` messages we handled at the beginning were `b'j\\x00\\x00\\x00'`\n",
    "\n",
    "Here's the tricky part: What number do those bytes represent? More generally, how do we turn numbers into bytes and bytes into numbers?\n",
    "\n",
    "This is a question of \"type conversions,\" \"serialization,\" or \"encoding\". The TCP protocol only lets you send numbers between 0 and 255. But our messages almost always need to be more expressive than just a number between 0 and 255.\n",
    "\n",
    "Therefore we must define rules for conversion of every type of Python data to and from the universal TCP-compatible format `bytes`.\n",
    "\n",
    "Such rules were at work in this magical, unexplained line of code in the `read_message` function we defined earlier:\n",
    "\n",
    "```\n",
    "payload_length = int.from_bytes(stream.read(4), 'little')\n",
    "```\n",
    "\n",
    "I'm not going to explain how this work right now. The [homework](./Homework.ipynb) for this lesson dives into this magic _extensively_!"
   ]
  },
  {
   "cell_type": "code",
   "execution_count": null,
   "metadata": {
    "scrolled": true
   },
   "outputs": [],
   "source": [
    "stream = BytesIO(VERSION)\n",
    "\n",
    "stream.read(4 + 12) # throw away magic and command\n",
    "length = int.from_bytes(stream.read(4), 'little')\n",
    "stream.read(4)  # throw away checksum\n",
    "\n",
    "print(\"payload: \", stream.read(length), '\\n')\n",
    "print(\"anything left? \", stream.read(1))"
   ]
  },
  {
   "cell_type": "markdown",
   "metadata": {},
   "source": [
    "# Byte Order\n",
    "\n",
    "Now we know how to go from bytes to integers. But perhaps it's still a little confusing how this whole `list(b'j\\x00\\x00\\x00')` -> `[106, 0, 0, 0]` thing works. I know this confused the hell out of me for a long time."
   ]
  },
  {
   "cell_type": "markdown",
   "metadata": {},
   "source": [
    "[245, 149, 136, 5]\n",
    "\n",
    "So we decided to decompose our integer into bytes in the following fashion: small places to the left, larger places to the right:\n",
    "```\n",
    "  245     149     136       5\n",
    "-----   -----   -----   -----\n",
    "264^0   264^1   264^2   264^3\n",
    "```\n",
    "\n",
    "But why not do the opposite: smaller places to the right, larger places to the left?\n",
    "```\n",
    "    5     136     149     245\n",
    "-----   -----   -----   -----\n",
    "264^3   264^2   264^1   264^0\n",
    "```\n",
    "\n",
    "There are names for these:\n",
    "* Little Endian\n",
    "* Big Endian\n",
    "\n",
    "Somewhat confusingly, different areas of computer science prefer one way or the other: computers generally use \"little endian\" to store information internally, and \"big endian\" for network transmission. Even within Bitcoin, Satoshi didn't choose one way or the other. Satoshi generally preferred \"little endian\" but he encodes IP addresses using \"big endian\", for instance. What a mess!\n",
    "\n",
    "You can find an interesting discussion of \"endianness\" [here](https://bitcoin.stackexchange.com/questions/2063/why-does-the-bitcoin-protocol-use-the-little-endian-notation) and a nice YouTube video [here](https://www.youtube.com/watch?v=seZLUbgbB7Y)"
   ]
  },
  {
   "cell_type": "code",
   "execution_count": null,
   "metadata": {},
   "outputs": [],
   "source": [
    "def little_endian_to_int(b):\n",
    "    # FIXME: should we use our own toy implementation\n",
    "    # Should I ask them to write it once each way?\n",
    "    return int.from_bytes(b, 'little')"
   ]
  },
  {
   "cell_type": "code",
   "execution_count": null,
   "metadata": {},
   "outputs": [],
   "source": [
    "def little_endian_to_int_test():\n",
    "    assert little_endian_to_int(b'\\x01\\x00\\x00\\x00') == 1\n",
    "    assert little_endian_to_int(b'\\x00\\x00\\x00\\x01') == 256 ** 3\n",
    "    print(\"Tests passed!\")\n",
    "\n",
    "little_endian_to_int_test()"
   ]
  },
  {
   "cell_type": "code",
   "execution_count": null,
   "metadata": {},
   "outputs": [],
   "source": [
    "# FIXME: tests for each of these ..."
   ]
  },
  {
   "cell_type": "code",
   "execution_count": null,
   "metadata": {},
   "outputs": [],
   "source": [
    "from hashlib import sha256\n",
    "\n",
    "def read_length(stream):\n",
    "    raw = stream.read(4)\n",
    "    length = int.from_bytes(raw, 'little')\n",
    "    return length\n",
    "\n",
    "def read_checksum(stream):\n",
    "    raw = stream.read(4)\n",
    "    return raw\n",
    "\n",
    "def hash256(b):\n",
    "    \"\"\"sha256 twice\"\"\"\n",
    "    first_round = sha256(b).digest()\n",
    "    second_round = sha256(first_round).digest()\n",
    "    return second_round\n",
    "\n",
    "def calculate_checksum(b):\n",
    "    \"\"\"First 4 bytes of hash256()\"\"\"\n",
    "    hashed = hash256(b)\n",
    "    first_four_bytes = hashed[:4]\n",
    "    return first_four_bytes\n",
    "\n",
    "def read_payload(stream, length):\n",
    "    payload = stream.read(length)\n",
    "    return payload"
   ]
  },
  {
   "cell_type": "code",
   "execution_count": null,
   "metadata": {},
   "outputs": [],
   "source": [
    "stream = BytesIO(VERSION)\n",
    "stream.read(4 + 12) # throw away magic and command\n",
    "\n",
    "length = read_length(stream)\n",
    "checksum = read_checksum(stream)\n",
    "payload = read_payload(stream, length)\n",
    "\n",
    "print(\"Length: \", length)\n",
    "\n",
    "print(\"Checksum: \", checksum)\n",
    "\n",
    "print(\"Payload: \", payload)\n",
    "\n",
    "print(\"checksum == calculate_checksum(payload)?: \", \n",
    "      checksum == calculate_checksum(payload))"
   ]
  },
  {
   "cell_type": "markdown",
   "metadata": {},
   "source": [
    "Now you know how to parse and validate the integrity of Bitcoin protocol messages!\n",
    "\n",
    "Lastly, let's create a class that abstracts a Bitcoin protocol message.\n",
    "\n",
    "I want you to modify the `from_stream` method to add 2 things:\n",
    "1. Raise a `RuntimeError` if the network magic is wrong\n",
    "2. Raise a `RuntimeError` if the checksum is wrong."
   ]
  },
  {
   "cell_type": "code",
   "execution_count": null,
   "metadata": {},
   "outputs": [],
   "source": [
    "class NetworkEnvelope:\n",
    "    \n",
    "    def __init__(self, command, payload):\n",
    "        self.command = command\n",
    "        self.payload = payload\n",
    "\n",
    "    @classmethod\n",
    "    def from_stream(cls, stream):\n",
    "        magic = read_magic(stream)\n",
    "        # FIXME: verify magic\n",
    "        \n",
    "        magic = stream.read(4)\n",
    "        if magic != NETWORK_MAGIC:\n",
    "            raise ValueError('Network magic is wrong')\n",
    "\n",
    "        \n",
    "        command = read_command(stream)\n",
    "        payload_length = read_length(stream)\n",
    "        checksum = read_checksum(stream)\n",
    "        payload = read_payload(stream, payload_length)\n",
    "        # FIXME: verify checksum\n",
    "        \n",
    "        return cls(command, payload)\n",
    "\n",
    "    def serialize(self):\n",
    "        raise NotImplementedError()\n",
    "\n",
    "    def __repr__(self):\n",
    "        return f\"<Message command={self.command}>\""
   ]
  },
  {
   "cell_type": "code",
   "execution_count": null,
   "metadata": {},
   "outputs": [],
   "source": [
    "def test_magic():\n",
    "    stream = BytesIO(VERSION)\n",
    "    NetworkEnvelope.from_stream(stream)  # no error\n",
    "    \n",
    "    \n",
    "    bad_magic = b'\\xf9\\xbe\\xa4\\xd9version\\x00\\x00\\x00\\x00\\x00j\\x00\\x00\\x00\\x9b\"\\x8b\\x9e\\x7f\\x11\\x01\\x00\\x0f\\x04\\x00\\x00\\x00\\x00\\x00\\x00\\x93AU[\\x00\\x00\\x00\\x00\\x0f\\x04\\x00\\x00\\x00\\x00\\x00\\x00\\x00\\x00\\x00\\x00\\x00\\x00\\x00\\x00\\x00\\x00\\x00\\x00\\x00\\x00\\x00\\x00\\x00\\x00\\x0f\\x04\\x00\\x00\\x00\\x00\\x00\\x00\\x00\\x00\\x00\\x00\\x00\\x00\\x00\\x00\\x00\\x00\\x00\\x00\\x00\\x00\\x00\\x00\\x00\\x00rV\\xc5C\\x9b:\\xea\\x89\\x14/some-cool-software/\\x01\\x00\\x00\\x00\\x01'\n",
    "    stream = BytesIO(bad_magic)\n",
    "    try:\n",
    "        NetworkEnvelope.from_stream(stream)\n",
    "        raise Exception(\"Expected error\")\n",
    "    except RuntimeError as e:\n",
    "        print(f\"Observed expected error: '{e}'\")\n",
    "\n",
    "    \n",
    "test_magic()"
   ]
  },
  {
   "cell_type": "code",
   "execution_count": null,
   "metadata": {},
   "outputs": [],
   "source": [
    "def test_checksum():\n",
    "    stream = BytesIO(VERSION)\n",
    "    NetworkEnvelope.from_stream(stream)  # no error\n",
    "    \n",
    "    \n",
    "    bad_checksum = b'\\xf9\\xbe\\xb4\\xd9version\\x00\\x00\\x00\\x00\\x00j\\x00\\x00\\x00\\x9b\"\\x8b\\x9e\\x7f\\x12\\x01\\x00\\x0f\\x04\\x00\\x00\\x00\\x00\\x00\\x00\\x93AU[\\x00\\x00\\x00\\x00\\x0f\\x04\\x00\\x00\\x00\\x00\\x00\\x00\\x00\\x00\\x00\\x00\\x00\\x00\\x00\\x00\\x00\\x00\\x00\\x00\\x00\\x00\\x00\\x00\\x00\\x00\\x0f\\x04\\x00\\x00\\x00\\x00\\x00\\x00\\x00\\x00\\x00\\x00\\x00\\x00\\x00\\x00\\x00\\x00\\x00\\x00\\x00\\x00\\x00\\x00\\x00\\x00rV\\xc5C\\x9b:\\xea\\x89\\x14/some-cool-software/\\x01\\x00\\x00\\x00\\x01'\n",
    "    stream = BytesIO(bad_checksum)\n",
    "    try:\n",
    "        NetworkEnvelope.from_stream(stream)\n",
    "        raise Exception(\"Expected error\")\n",
    "    except RuntimeError as e:\n",
    "        print(f\"Observed expected error: '{e}'\")\n",
    "    \n",
    "test_checksum()"
   ]
  },
  {
   "cell_type": "markdown",
   "metadata": {},
   "source": [
    "# Finished Product"
   ]
  },
  {
   "cell_type": "code",
   "execution_count": null,
   "metadata": {},
   "outputs": [],
   "source": [
    "import socket\n",
    "\n",
    "# magic \"version\" bytestring\n",
    "VERSION = b'\\xf9\\xbe\\xb4\\xd9version\\x00\\x00\\x00\\x00\\x00j\\x00\\x00\\x00\\x9b\"\\x8b\\x9e\\x7f\\x11\\x01\\x00\\x0f\\x04\\x00\\x00\\x00\\x00\\x00\\x00\\x93AU[\\x00\\x00\\x00\\x00\\x0f\\x04\\x00\\x00\\x00\\x00\\x00\\x00\\x00\\x00\\x00\\x00\\x00\\x00\\x00\\x00\\x00\\x00\\x00\\x00\\x00\\x00\\x00\\x00\\x00\\x00\\x0f\\x04\\x00\\x00\\x00\\x00\\x00\\x00\\x00\\x00\\x00\\x00\\x00\\x00\\x00\\x00\\x00\\x00\\x00\\x00\\x00\\x00\\x00\\x00\\x00\\x00rV\\xc5C\\x9b:\\xea\\x89\\x14/some-cool-software/\\x01\\x00\\x00\\x00\\x01'\n",
    "\n",
    "sock = socket.socket()\n",
    "sock.connect((PEER_IP, PEER_PORT))\n",
    "stream = sock.makefile('rb')\n",
    "\n",
    "# initiate the \"version handshake\"\n",
    "sock.send(VERSION)\n",
    "\n",
    "# receive their \"version\" response\n",
    "msg = NetworkEnvelope.from_stream(stream)\n",
    "\n",
    "print(msg)\n",
    "print(msg.payload)"
   ]
  },
  {
   "cell_type": "markdown",
   "metadata": {},
   "source": [
    "You now know how to read a Bitcoin message directly from a socket, verify that it is structured correctly, and interpret it as an instance of a Python `NetworkEnvelope` class.\n",
    "\n",
    "After two more lessons and you'll be able to do the [Version Handshake](https://en.bitcoin.it/wiki/Version_Handshake) unassisted. We just need to learn how to read and create `version` and `verack` payloads. We'll cover this in the next lesson!\n",
    "\n",
    "Until then, head over to the [homework](./Homework.ipynb)."
   ]
  },
  {
   "cell_type": "code",
   "execution_count": null,
   "metadata": {},
   "outputs": [],
   "source": []
  }
 ],
 "metadata": {
  "kernelspec": {
   "display_name": "Python 3",
   "language": "python",
   "name": "python3"
  },
  "language_info": {
   "codemirror_mode": {
    "name": "ipython",
    "version": 3
   },
   "file_extension": ".py",
   "mimetype": "text/x-python",
   "name": "python",
   "nbconvert_exporter": "python",
   "pygments_lexer": "ipython3",
   "version": "3.7.1"
  }
 },
 "nbformat": 4,
 "nbformat_minor": 2
}
