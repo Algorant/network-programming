{
 "cells": [
  {
   "cell_type": "code",
   "execution_count": null,
   "metadata": {},
   "outputs": [],
   "source": [
    "%load_ext autoreload\n",
    "%autoreload 2"
   ]
  },
  {
   "cell_type": "markdown",
   "metadata": {},
   "source": [
    "# Reading Version Message Payloads\n",
    "\n",
    "In the last lesson we encountered the Bitcoin protocol's [Version Handshake](https://en.bitcoin.it/wiki/Version_Handshake). We saw how Bitcoin network peers will only converse with us if we first introduce ourselves with a `version` message.\n",
    "\n",
    "But _we cheated_. I gave you a serialized `version` message and didn't tell you how I created it.\n",
    "\n",
    "_We were lazy_: we didn't parse the cryptic `payload` of the `version` message that our peer sent us.\n",
    "\n",
    "_We were rude_! After listening for our peer's `version` message we stopped listening and never received or responded to their `verack` message -- completing the handshake. Our peer was left hanging ...\n",
    "\n",
    "So you see, we have much to fix!\n",
    "\n",
    "### Housekeeping\n",
    "\n",
    "Last time we created a `NetworkEnvelope` class. I'm going to throw that away and use functions and dictionaries instead. Simpler this way!\n",
    "\n",
    "Here's where we are:"
   ]
  },
  {
   "cell_type": "code",
   "execution_count": null,
   "metadata": {},
   "outputs": [],
   "source": [
    "from hashlib import sha256\n",
    "\n",
    "NETWORK_MAGIC = b'\\xf9\\xbe\\xb4\\xd9'\n",
    "\n",
    "def double_sha256(s):\n",
    "    return sha256(sha256(s).digest()).digest()\n",
    "\n",
    "def read_message(stream):\n",
    "    \"\"\" payload attributes at top level \"\"\"\n",
    "    msg = {}\n",
    "    magic = stream.read(4)\n",
    "    if magic != NETWORK_MAGIC:\n",
    "        raise Exception(f'Magic is wrong: {magic}')\n",
    "    msg['command'] = stream.read(12).strip(b'\\x00')\n",
    "    payload_length = int.from_bytes(stream.read(4), 'little')\n",
    "    checksum = stream.read(4)\n",
    "    msg['payload'] = stream.read(payload_length)\n",
    "    calculated_checksum = double_sha256(msg['payload'])[:4]\n",
    "    if calculated_checksum != checksum:\n",
    "        raise Exception('Checksum does not match')\n",
    "    return msg\n"
   ]
  },
  {
   "cell_type": "code",
   "execution_count": null,
   "metadata": {},
   "outputs": [],
   "source": [
    "import socket\n",
    "\n",
    "# magic \"version\" bytestring\n",
    "VERSION = b'\\xf9\\xbe\\xb4\\xd9version\\x00\\x00\\x00\\x00\\x00j\\x00\\x00\\x00\\x9b\"\\x8b\\x9e\\x7f\\x11\\x01\\x00\\x0f\\x04\\x00\\x00\\x00\\x00\\x00\\x00\\x93AU[\\x00\\x00\\x00\\x00\\x0f\\x04\\x00\\x00\\x00\\x00\\x00\\x00\\x00\\x00\\x00\\x00\\x00\\x00\\x00\\x00\\x00\\x00\\x00\\x00\\x00\\x00\\x00\\x00\\x00\\x00\\x0f\\x04\\x00\\x00\\x00\\x00\\x00\\x00\\x00\\x00\\x00\\x00\\x00\\x00\\x00\\x00\\x00\\x00\\x00\\x00\\x00\\x00\\x00\\x00\\x00\\x00rV\\xc5C\\x9b:\\xea\\x89\\x14/some-cool-software/\\x01\\x00\\x00\\x00\\x01'\n",
    "\n",
    "sock = socket.socket()\n",
    "sock.connect((\"35.198.151.21\", 8333))\n",
    "stream = sock.makefile('rb')\n",
    "\n",
    "# initiate the \"version handshake\"\n",
    "sock.send(VERSION)\n",
    "\n",
    "# receive their \"version\" response\n",
    "msg = read_message(stream)\n",
    "\n",
    "print(msg)\n",
    "print(msg['command'])\n",
    "print(msg['payload'])"
   ]
  },
  {
   "cell_type": "markdown",
   "metadata": {},
   "source": [
    "\n",
    "The payload of our message is still `bytes`. We need to decode the payload in the same way that we decoded the outer message structure itself. In order to do will apply exactly the same skills we started to learn last time in order to \n",
    "\n",
    "# Objective: Interpret the Message Payload\n",
    "\n",
    "Here's how payloads look now:\n",
    "\n",
    "```\n",
    "b'\\x7f\\x11\\x01\\x00\\r\\x04\\x00\\x00\\x00\\x00\\x00\\x0028j\\\\\\x00\\x00\\x00\\x00\\x00\\x00\\x00\\x00\\x00\\x00\\x00\\x00\\x00\\x00\\x00\\x00\\x00\\x00\\x00\\x00\\x00\\x00\\xff\\xffFqPG\\xa8\\xc6\\r\\x04\\x00\\x00\\x00\\x00\\x00\\x00\\x00\\x00\\x00\\x00\\x00\\x00\\x00\\x00\\x00\\x00\\x00\\x00\\x00\\x00\\x00\\x00\\x00\\x00!\\xf8\\xe8\\xff\\xceL+s\\x10/Satoshi:0.16.3/U\\x99\\x08\\x00\\x01'\n",
    "```\n",
    "\n",
    "In this lesson we'll learn to interpret these bytes as a dictionary like this:\n",
    "\n",
    "```\n",
    "{'latest_block': 563541,\n",
    " 'nonce': 8298811190300702753,\n",
    " 'receiver_address': {'ip': '::ffff:70.113.80.71',\n",
    "                      'port': 43206,\n",
    "                      'services': 0},\n",
    " 'relay': 1,\n",
    " 'sender_address': {'ip': '0.0.0.0', 'port': 0, 'services': 1037},\n",
    " 'services': 1037,\n",
    " 'timestamp': 1550465074,\n",
    " 'user_agent': b'/Satoshi:0.16.3/',\n",
    " 'version': 70015}\n",
    "```"
   ]
  },
  {
   "cell_type": "code",
   "execution_count": null,
   "metadata": {},
   "outputs": [],
   "source": [
    "# FIXME: kill\n",
    "\n",
    "from io import BytesIO\n",
    "from pprint import pprint\n",
    "from proto import read_version_payload\n",
    "\n",
    "pprint(read_version_payload(BytesIO(msg['payload'])))"
   ]
  },
  {
   "cell_type": "markdown",
   "metadata": {},
   "source": [
    "### The Payload\n",
    "\n",
    "Our next task is to parse this payload. Besides the \"/Satoshi:0.16.3/\" -- clearly a user agent -- the payload bytes of the example above have no ASCII meaning.\n",
    "\n",
    "But have no fear -- we will decode the message payload in the same manner as we decoded the overall message structure in our `read_message` method.\n",
    "\n",
    "[This chart](https://en.bitcoin.it/wiki/Protocol_documentation#version) from the protocol documentation will act as our blueprint:\n",
    "\n",
    "![image](../images/version-message.png)\n",
    "\n",
    "### Old Types\n",
    "\n",
    "Here we encounter some \"types\" we are now familiar with from the first lesson -- `int32_t` / `uint64_t` / `int64_t` -- which are different types in a \"low-level\" language like C++, but are all equivalent to the `int` type in Python. Our previously implemented `bytes_to_int` (FIXME) can handle these just fine.\n",
    "\n",
    "### New Types\n",
    "\n",
    "But we also encounter some new types: `net_addr`, `varstr`, and `bool`. \n",
    "\n",
    "Even worse, if we click on the [`varstr` link](https://en.bitcoin.it/wiki/Protocol_documentation#Variable_length_string) we see that it contains one additional type: `varint`. \n",
    "\n",
    "Worse still, the [`net_addr` link](https://en.bitcoin.it/wiki/Protocol_documentation#Network_address) contains `time`, `services`, `ip` and `port` fields nominally of types `uint32`, `uint64_t`, `uint16_t` and `char[16]` but in order for us to make sense of what they hell them mean each requires parsing: the `time` integer as a Unix timestamp, the `services` integer as a \"bitfield\" (whatever that is!), and IP address can be either IPv4 or IPv6 and our code must be able to tell the difference! Also, the `port` field is \"network byte-order\" according to the wiki.\n",
    "\n",
    "Oh, and remember how I mentioned that Satoshi usually, but not always, encoded his integers in \"little endian\" byte order (least significant digits is on the left)? Well, the `port` attribute of `net_addr` is encoded \"big endian\", where the *most* significant digit is on the left. Yes, the exact opposite of everything else!!!\n",
    "\n",
    "- [ ] Convert version message `bytes` to dictionary with appropriate keys and uninterpreted `bytes` values\n",
    "- [ ] Interpret Integer fields\n",
    "    - [ ] interpret `relay`\n",
    "    - [ ] interpret `timestamp`\n",
    "    - [ ] interpret `services`\n",
    "- [ ] Interpret variable-length fields\n",
    "- [ ] \n",
    "\n",
    "Hunker down for a looooooong lesson!"
   ]
  },
  {
   "cell_type": "markdown",
   "metadata": {},
   "source": [
    "### Exercise: `read_version_payload`\n",
    "\n",
    "Write a function `read_version_payload` which takes as an argument a stream containing the payload of a version message. The first eight bytes represent the version, and so on as described in the table above.\n",
    "\n",
    "Your function should return a dictionary with keys equal to the Version Message attributes and values equal to the uninterpreted bytes corresponding to that key:\n",
    "\n",
    "```\n",
    "{\n",
    "    'version': <raw version bytes>,\n",
    "    'services': <raw services bytes>,\n",
    "    'timestamp': <raw timestamp bytes>,\n",
    "    'receiver_address': <raw network address bytes>,\n",
    "    'sender_address': <raw network address bytes>,\n",
    "    'nonce': <raw nonce bytes>,\n",
    "    'user_agent': <raw user agent bytes>,\n",
    "    'start_height': <raw start height bytes>,\n",
    "    'relay': <raw relay bytes>,\n",
    "}\n",
    "```\n",
    "\n",
    "Throughout the lesson we will slowly add functions to interpret the raw bytes left uninterpreted in this function\n",
    "\n",
    "This exercise is simply asking you to read the correct number of bytes for every field and store these bytes under the correct key (listed ^^)"
   ]
  },
  {
   "cell_type": "code",
   "execution_count": null,
   "metadata": {},
   "outputs": [],
   "source": [
    "VERSION_PAYLOAD = b'\\x7f\\x11\\x01\\x00\\r\\x04\\x00\\x00\\x00\\x00\\x00\\x0028j\\\\\\x00\\x00\\x00\\x00\\x00\\x00\\x00\\x00\\x00\\x00\\x00\\x00\\x00\\x00\\x00\\x00\\x00\\x00\\x00\\x00\\x00\\x00\\xff\\xffFqPG\\xa8\\xc6\\r\\x04\\x00\\x00\\x00\\x00\\x00\\x00\\x00\\x00\\x00\\x00\\x00\\x00\\x00\\x00\\x00\\x00\\x00\\x00\\x00\\x00\\x00\\x00\\x00\\x00!\\xf8\\xe8\\xff\\xceL+s\\x10/Satoshi:0.16.3/U\\x99\\x08\\x00\\x01'"
   ]
  },
  {
   "cell_type": "code",
   "execution_count": null,
   "metadata": {},
   "outputs": [],
   "source": [
    "# FIXME: justins_read_varstr is shitty\n",
    "\n",
    "def read_version_payload(stream):\n",
    "    # We will build up this dictionary as we go\n",
    "    r = {}\n",
    "    \n",
    "    # First read the 4 byte `version` number and save to the r['version'] key \n",
    "    r['version'] = stream.read(4)\n",
    "    \n",
    "    # Your turn: follow this pattern to fill in the \"timestamp\", \"receiver_address\", \"sender_address\", and \"nonce\" fields\n",
    "    \n",
    "    # I will do the \"user_agent\" attribute for you. You will re-implement later ...\n",
    "    r['user_agent'] = justins_read_varstr(stream)\n",
    "    \n",
    "    # Your turn: Fill out the remaining \"start_height\" and \"relay\" attributes\n",
    "    \n",
    "    # Return the dictionary we've assembled\n",
    "    return r\n",
    "    \n",
    "    "
   ]
  },
  {
   "cell_type": "code",
   "execution_count": null,
   "metadata": {},
   "outputs": [],
   "source": [
    "def justins_read_varstr(stream):\n",
    "    from proto import read_varint\n",
    "    return stream.read(read_varint(stream))\n",
    "\n",
    "def read_version_payload(stream):\n",
    "    # We will build up this dictionary as we go\n",
    "    r = {}\n",
    "    \n",
    "    # First read the 4 byte `version` number and save to the r['version'] key \n",
    "    r['version'] = stream.read(4)\n",
    "    \n",
    "    # Your turn: follow this pattern to fill in the \"timestamp\", \"receiver_address\", \"sender_address\", and \"nonce\" fields\n",
    "    r['services'] = stream.read(8)\n",
    "    r['timestamp'] = stream.read(8)\n",
    "    r['receiver_address'] = stream.read(26)\n",
    "    r['sender_address'] = stream.read(26)\n",
    "    r['nonce'] = stream.read(8)\n",
    "    \n",
    "    # I will do the \"user_agent\" attribute for you. You will re-implement later ...\n",
    "    r['user_agent'] = justins_read_varstr(stream)\n",
    "    \n",
    "    # Your turn: Fill out the remaining \"start_height\" and \"relay\" attributes\n",
    "    r['start_height'] = stream.read(4)\n",
    "    r['relay'] = stream.read(1)\n",
    "        \n",
    "    # Return the dictionary we've assembled\n",
    "    return r\n",
    "    \n",
    "    "
   ]
  },
  {
   "cell_type": "code",
   "execution_count": null,
   "metadata": {
    "scrolled": true
   },
   "outputs": [],
   "source": [
    "# FIXME: should I import the unittests?\n",
    "\n",
    "VERSION_PAYLOAD = b'\\x7f\\x11\\x01\\x00\\r\\x04\\x00\\x00\\x00\\x00\\x00\\x0028j\\\\\\x00\\x00\\x00\\x00\\x00\\x00\\x00\\x00\\x00\\x00\\x00\\x00\\x00\\x00\\x00\\x00\\x00\\x00\\x00\\x00\\x00\\x00\\xff\\xffFqPG\\xa8\\xc6\\r\\x04\\x00\\x00\\x00\\x00\\x00\\x00\\x00\\x00\\x00\\x00\\x00\\x00\\x00\\x00\\x00\\x00\\x00\\x00\\x00\\x00\\x00\\x00\\x00\\x00!\\xf8\\xe8\\xff\\xceL+s\\x10/Satoshi:0.16.3/U\\x99\\x08\\x00\\x01'\n",
    "\n",
    "def assert_len(payload, field, expected_len):\n",
    "    observed_len = len(payload[field])\n",
    "    assert observed_len == expected_len,\\\n",
    "        f'The \"{field}\" field should be {expected_len} bytes, was {observed_len} bytes'\n",
    "\n",
    "def test_read_version_payload_initial():\n",
    "    stream = BytesIO(VERSION_PAYLOAD)\n",
    "    payload = read_version_payload(stream)\n",
    "\n",
    "    # Dictionary keys\n",
    "    observed_keys = set(payload.keys())\n",
    "    expected_keys = set(['version', 'services', 'timestamp', 'receiver_address', 'sender_address', \n",
    "                         'nonce', 'user_agent', 'start_height', 'relay'])\n",
    "    missing_keys = expected_keys - observed_keys\n",
    "    extra_keys = observed_keys - expected_keys\n",
    "    \n",
    "    assert not missing_keys, f\"The following keys were missing: {missing_keys}\"\n",
    "    assert not extra_keys, f\"Encountered unexpected key(s): {extra_keys}\"\n",
    "    \n",
    "    # Dictionary values\n",
    "    assert_len(payload, 'version', 4)\n",
    "    assert_len(payload, 'services', 8)\n",
    "    assert_len(payload, 'timestamp', 8)\n",
    "    assert_len(payload, 'receiver_address', 26)\n",
    "    assert_len(payload, 'sender_address', 26)\n",
    "    assert_len(payload, 'nonce', 8)\n",
    "    assert_len(payload, 'start_height', 4)\n",
    "    assert_len(payload, 'relay', 1)\n",
    "    \n",
    "    print(\"Test passed!\")\n",
    "    \n",
    "test_read_version_payload_initial()"
   ]
  },
  {
   "cell_type": "markdown",
   "metadata": {},
   "source": [
    "# Integer fields\n",
    "\n",
    "In the last lesson we wrote a function `read_length` that could read bytes and interpret them as integers, but it wasn't very flexible: it could only ever read 4 bytes at a time and could only interpret them as little endian byte-order.\n",
    "\n",
    "Let's break out the integer-interpretation into it's own functions depending on whether the bytes are little or big endian\n",
    "\n",
    "Let's write two helper functions `little_endian_to_int(bytes)` and `big_endian_to_int(bytes)` \n",
    "\n",
    "### Exercise: `little_endian_to_int(bytes)` and `big_endian_to_int(bytes)` "
   ]
  },
  {
   "cell_type": "code",
   "execution_count": null,
   "metadata": {},
   "outputs": [],
   "source": [
    "   \n"
   ]
  },
  {
   "cell_type": "code",
   "execution_count": null,
   "metadata": {},
   "outputs": [],
   "source": []
  },
  {
   "cell_type": "code",
   "execution_count": null,
   "metadata": {},
   "outputs": [],
   "source": [
    "def little_endian_to_int(b):\n",
    "    raise NotImplementedError()"
   ]
  },
  {
   "cell_type": "code",
   "execution_count": null,
   "metadata": {},
   "outputs": [],
   "source": [
    "def little_endian_to_int(b):\n",
    "    return int.from_bytes(b, 'little')"
   ]
  },
  {
   "cell_type": "code",
   "execution_count": null,
   "metadata": {},
   "outputs": [],
   "source": [
    "def test_little_endian_to_int():\n",
    "    i = 22\n",
    "    bytes = int.to_bytes(22, 10, 'little')\n",
    "    result = little_endian_to_int(bytes)\n",
    "    assert i == result, f'Correct answer: {i}. Your answer: {result}'\n",
    "    print(\"Test passed!\")\n",
    "\n",
    "test_little_endian_to_int()"
   ]
  },
  {
   "cell_type": "code",
   "execution_count": null,
   "metadata": {},
   "outputs": [],
   "source": [
    "def big_endian_to_int(b):\n",
    "    raise NotImplementedError()"
   ]
  },
  {
   "cell_type": "code",
   "execution_count": null,
   "metadata": {},
   "outputs": [],
   "source": [
    "def big_endian_to_int(b):\n",
    "    return int.from_bytes(b, 'big')"
   ]
  },
  {
   "cell_type": "code",
   "execution_count": null,
   "metadata": {},
   "outputs": [],
   "source": [
    "def test_big_endian_to_int():\n",
    "    i = 1_000_000\n",
    "    bytes = int.to_bytes(i, 7, 'big')\n",
    "    result = big_endian_to_int(bytes)\n",
    "    assert i == result, f'Correct answer: {i}. Your answer: {result}'\n",
    "    print(\"Test passed!\")\n",
    "    \n",
    "test_big_endian_to_int()"
   ]
  },
  {
   "cell_type": "markdown",
   "metadata": {},
   "source": [
    "This exercise is a little artificial. You should be able to accomplish each with a single line. `little_endian_to_int(bytes)` isn't all that much simpler than `int.from_bytes(bytes, 'little')`. It really just's binds the `byteorder` parameter to `little`. But it will hopefully be a little easier to remember and therefore represents a small improvement. At the very least I'm testing that you remember how to do a \"little endian bytes\" -> integer conversion."
   ]
  },
  {
   "cell_type": "markdown",
   "metadata": {},
   "source": [
    "### Exercise: Call `read_int` in appropriate places\n",
    "\n",
    "According to the protocol documentation, the following fields are integers: `version`, `services`, `timestamp`, `nonce`, `start_height`.\n",
    "\n",
    "Copy over the body of `read_version_payload` you wrote earlier and update the code that handles the fields above. Don't leave them as uninterpreted bytes. Convert them to integers with correct byte order (You can assume each field is little-endian unless the docs tell you otherwise)."
   ]
  },
  {
   "cell_type": "code",
   "execution_count": null,
   "metadata": {},
   "outputs": [],
   "source": [
    "def read_version_payload(stream):\n",
    "    raise NotImplementedError()"
   ]
  },
  {
   "cell_type": "code",
   "execution_count": null,
   "metadata": {},
   "outputs": [],
   "source": [
    "def read_version_payload(stream):\n",
    "    r = {}    \n",
    "    r['version'] = little_endian_to_int(stream.read(4))\n",
    "    r['services'] = little_endian_to_int(stream.read(8))\n",
    "    r['timestamp'] = little_endian_to_int(stream.read(8))\n",
    "    r['receiver_address'] = stream.read(26)\n",
    "    r['sender_address'] = stream.read(26)\n",
    "    r['nonce'] = little_endian_to_int(stream.read(8))\n",
    "    r['user_agent'] = justins_read_varstr(stream)\n",
    "    r['start_height'] = little_endian_to_int(stream.read(4))\n",
    "    r['relay'] = stream.read(1)\n",
    "    return r"
   ]
  },
  {
   "cell_type": "code",
   "execution_count": null,
   "metadata": {},
   "outputs": [],
   "source": [
    "def check_field(payload, field, bytes_value, int_value):\n",
    "    assert payload[field] == int_value,\\\n",
    "        f'Correct integer interpretation of {bytes_value} is {int_value}'\n",
    "   \n",
    "def test_read_version_payload_integer_fields():\n",
    "    stream = BytesIO(VERSION_PAYLOAD)\n",
    "    payload = read_version_payload(stream)\n",
    "\n",
    "    check_field(payload, 'version', b'\\x7f\\x11\\x01\\x00', 70015)   \n",
    "    check_field(payload, 'services', b'\\r\\x04\\x00\\x00\\x00\\x00\\x00\\x00', 1037)   \n",
    "    check_field(payload, 'timestamp', b'28j\\\\\\x00\\x00\\x00\\x00', 1550465074)   \n",
    "    check_field(payload, 'nonce', b'!\\xf8\\xe8\\xff\\xceL+s', 8298811190300702753)   \n",
    "    check_field(payload, 'start_height', b'U\\x99\\x08\\x00', 563541)\n",
    "\n",
    "    print('Test passed!')\n",
    "    \n",
    "test_read_version_payload_integer_fields()"
   ]
  },
  {
   "cell_type": "markdown",
   "metadata": {},
   "source": [
    "## What do the integers mean?\n",
    "\n",
    "Now that we know how to interpret these fields as integers, we will don't always know what they mean.\n",
    "\n",
    "`nonce` is pretty easy -- it's just a random number generated with every request. It's used by Bitcoin clients to determine whether they are connecting to themselves. Basically, you keep track of the nonce in every version message you send and reject any incoming version messages with a nonce in this list -- it's almost certainly you connecting to yourself. The chances of it being someone else are `256**8 == 18446744073709551616`\n",
    "\n",
    "`start_height` is also straightfoward: it's the block height the sending node claims to be at.\n",
    "\n",
    "`version` is also straightforward. It's just a number signifying a version of the Bitcoin protocol. Here's an exercise\n",
    "\n",
    "### Exercise: Given a version message payload, determine whether it can send a `pong` message \n",
    "\n",
    "This exercise should give you a taste of the kind of information the version number encodes. [This table](https://bitcoin.org/en/developer-reference#protocol-versions) will show you the way!"
   ]
  },
  {
   "cell_type": "code",
   "execution_count": null,
   "metadata": {},
   "outputs": [],
   "source": [
    "def can_send_pong(version_payload):\n",
    "    return "
   ]
  },
  {
   "cell_type": "code",
   "execution_count": null,
   "metadata": {},
   "outputs": [],
   "source": [
    "def can_send_pong(version_payload):\n",
    "    return version_payload['version'] >= 60001"
   ]
  },
  {
   "cell_type": "code",
   "execution_count": null,
   "metadata": {},
   "outputs": [],
   "source": [
    "index = VERSION_PAYLOAD.index( b'\\x7f\\x11\\x01\\x00')\n",
    "prefix = VERSION_PAYLOAD[:index]\n",
    "suffix = VERSION_PAYLOAD[index+4:]\n",
    "\n",
    "def test_can_send_pong():\n",
    "    for version, can_send in [(70015, True), (60001, True), (60000, False), (106, False)]:\n",
    "        stream = BytesIO(prefix + version.to_bytes(4, 'little') + suffix)\n",
    "        payload = read_version_payload(stream)\n",
    "        assert can_send == can_send_pong(payload),\\\n",
    "            f'Version \"{version}\" {\"can\" if can_send else \"cannot\"} send \"pong\" messages'\n",
    "\n",
    "    print(\"Test passed!\")\n",
    "    \n",
    "test_can_send_pong()"
   ]
  },
  {
   "cell_type": "markdown",
   "metadata": {},
   "source": [
    "Hopefully now you can see why the `version` number is so important. This number tells us which dialects of the bitcoin protocol our peer is capable of speaking. If they can't send `pong` messages, we shouldn't send them `ping`s!"
   ]
  },
  {
   "cell_type": "markdown",
   "metadata": {},
   "source": [
    "## Timestamp\n",
    "\n",
    "Next comes the `timestamp` field. This is simply a [\"Unix timestamps\"](https://en.wikipedia.org/wiki/Unix_time). \"Unix time\" is just a running count of the number of seconds elapsed since the start of the year 1970 -- so it is represented as an integer.\n",
    "\n",
    "Here's how we interpret a Unix timestamp in Python"
   ]
  },
  {
   "cell_type": "code",
   "execution_count": null,
   "metadata": {},
   "outputs": [],
   "source": [
    "from datetime import datetime, timedelta\n",
    "\n",
    "unix_time_as_justin_wrote_this_exercise = 1550538302\n",
    "t = datetime.fromtimestamp(unix_time_as_justin_wrote_this_exercise)\n",
    "\n",
    "n = datetime.now()"
   ]
  },
  {
   "cell_type": "code",
   "execution_count": null,
   "metadata": {},
   "outputs": [],
   "source": [
    "datetime.now() - timedelta(hours=2)"
   ]
  },
  {
   "cell_type": "markdown",
   "metadata": {},
   "source": [
    "### Exercise: Given a version message payload, tell me if the is from the last hour or not\n",
    "\n",
    "You'd probably never want to do something like this with a version message -- but blocks also have timestamps and the bitcoin protocol is supposed to reject blocks with timestamps that are too far in the future or past.\n",
    "\n",
    "One way to do this would be to use `time.time` to compare with raw timestamps -- you just need to count the seconds in an hour. One minute ago would be calculated with:"
   ]
  },
  {
   "cell_type": "code",
   "execution_count": null,
   "metadata": {},
   "outputs": [],
   "source": [
    "import time\n",
    "\n",
    "unix_now = time.time()\n",
    "print(\"Now: \", unix_now)\n",
    "\n",
    "one_min_ago = unix_now - 60\n",
    "print(\"One minute ago: \", one_min_ago)\n"
   ]
  },
  {
   "cell_type": "markdown",
   "metadata": {},
   "source": [
    "Another way would be to use `datetime.timedelta(days=0, seconds=0, microseconds=0, milliseconds=0, minutes=0, hours=0, weeks=0)` which would handle such calculations for you. For example, one day and one second ago would be calculated with:"
   ]
  },
  {
   "cell_type": "code",
   "execution_count": null,
   "metadata": {},
   "outputs": [],
   "source": [
    "dt_now = datetime.now()\n",
    "dt_now"
   ]
  },
  {
   "cell_type": "code",
   "execution_count": null,
   "metadata": {},
   "outputs": [],
   "source": [
    "dt_now - timedelta(days=1, seconds=1)"
   ]
  },
  {
   "cell_type": "code",
   "execution_count": null,
   "metadata": {},
   "outputs": [],
   "source": [
    "def is_less_than_one_hour_old(version_payload_dict):\n",
    "    raise NotImplementedError()"
   ]
  },
  {
   "cell_type": "code",
   "execution_count": null,
   "metadata": {},
   "outputs": [],
   "source": [
    "def is_less_than_one_hour_old(version_payload_dict):\n",
    "    return version_payload_dict['timestamp'] > time.time() - 60*60"
   ]
  },
  {
   "cell_type": "code",
   "execution_count": null,
   "metadata": {},
   "outputs": [],
   "source": [
    "\n",
    "# FIXME: would be much more intelligent to have a function that could just build this dictionary for me .,..\n",
    "def replace_bytes(base, index, new_bytes):\n",
    "    prefix = base[:index]\n",
    "    suffix = base[index+len(new_bytes):]\n",
    "    return prefix + new_bytes + suffix\n",
    "\n",
    "def test_is_less_than_one_hour_old():\n",
    "    five_min_ago = int(time.time() - 60*5)\n",
    "    raw_version_payload = replace_bytes(VERSION_PAYLOAD, 12, five_min_ago.to_bytes(8, 'little'))\n",
    "    version_payload_dict = read_version_payload(BytesIO(raw_version_payload))\n",
    "    assert is_less_than_one_hour_old(version_payload_dict)\n",
    "\n",
    "    five_hours_ago = int(time.time() - 60*60*5)\n",
    "    raw_version_payload = replace_bytes(VERSION_PAYLOAD, 12, five_hours_ago.to_bytes(8, 'little'))\n",
    "    version_payload_dict = read_version_payload(BytesIO(raw_version_payload))\n",
    "    assert not is_less_than_one_hour_old(version_payload_dict)\n",
    "\n",
    "    print(\"Test passed!\")\n",
    "\n",
    "test_is_less_than_one_hour_old()"
   ]
  },
  {
   "cell_type": "markdown",
   "metadata": {},
   "source": [
    "# \"Services\" Field\n",
    "\n",
    "[The version section of the protocol docs](https://en.bitcoin.it/wiki/Protocol_documentation#version) provides us with the following guide for interpreting the `services` field of the `version` payload:\n",
    "\n",
    "![image](../images/services.png)\n",
    "\n",
    "The type of this field is \"bitfield\". [Check out the wikipedia entry](https://en.wikipedia.org/wiki/Bit_field) for a more detailed explanation that I can provide.\n",
    "\n",
    "A bitfield is an integer. Every bit of the base-2 representation (e.g. \"101\" is base-2 representation of 5) holds some pre-defined meaning. This particular bitfield is 8 bytes / 64 bits (remember, a byte is just a collection of 8 bits so 8 bytes is 8*8=64 bits).\n",
    "\n",
    "From the table above we can see that the least significant digit in the binary representation (decimal value `2^0=1`) represents `NODE_NETWORK`, or whether this peer \"can be asked for full blocks or just headers\".\n",
    "\n",
    "The second least-significant digit (decimal value `2^1=2`): `NODE_GETUTXO`\n",
    "\n",
    "The third least-significant digit (decimal value `2^2=4`): `NODE_BLOOM`\n",
    "\n",
    "The fourth least-significant digit (decimal value `2^3=8`): `NODE_WITNESS`\n",
    "\n",
    "The eleventh least-significant digit (decimal value `2^10=1024`): `NODE_NETWORK_LIMITED`\n",
    "\n",
    "The rest of the bits (decimal values `2*n` where n in {4, 5, 6, 7, 8, 9, 11, 12, ..., 63} have no meaning, yet.\n",
    "\n",
    "So, in order to interpret this field we need to look up the nth bit in the table above and see if it means anything.\n",
    "\n",
    "So, our Python code could produce a dictionary like this for every node we connect to. This would allow us to look up what services that node offers _by name_ (which is why it's called a dictionary!):\n",
    "\n",
    "```\n",
    "{\n",
    "    'NODE_NETWORK': True,\n",
    "    'NODE_GETUTXO': False,\n",
    "    'NODE_BLOOM': True,\n",
    "    'NODE_WITNESS': False,\n",
    "    'NODE_NETWORK_LIMITED': True,\n",
    "}\n",
    "```\n",
    "\n",
    "Furthermore, we could write a function that produces this lookup table for us given an integer bitfield and a magical `check_bit(n)` function:\n",
    "\n",
    "```\n",
    "def services_int_to_dict(services_int):\n",
    "    return {\n",
    "        'NODE_\n",
    "        'NODE_NETWORK': check_bit(services_int, 0),           # 1    = 2**0\n",
    "        'NODE_GETUTXO': check_bit(services_int, 1),           # 2    = 2**1\n",
    "        'NODE_BLOOM': check_bit(services_int, 2),             # 4    = 2**2\n",
    "        'NODE_WITNESS': check_bit(services_int, 3),           # 8    = 2**3\n",
    "        'NODE_NETWORK_LIMITED': check_bit(services_int, 10),  # 1024 = 2**10\n",
    "    }\n",
    "```\n",
    "\n",
    "For now, I'm just going to give you a definition of the magical `check_bit` function:"
   ]
  },
  {
   "cell_type": "code",
   "execution_count": null,
   "metadata": {},
   "outputs": [],
   "source": [
    "def check_bit(number, index):\n",
    "    \"\"\"See if the bit at `index` in binary representation of `number` is on\"\"\"\n",
    "    mask = 1 << index\n",
    "    return bool(number & mask)"
   ]
  },
  {
   "cell_type": "markdown",
   "metadata": {},
   "source": [
    "### Exercise #7: Fill out the remainder of the `services_int_to_dict` and `read_services` functions:\n",
    "\n",
    "Replace each occurrence of `FIXME` with correct strings and numbers"
   ]
  },
  {
   "cell_type": "code",
   "execution_count": null,
   "metadata": {},
   "outputs": [],
   "source": [
    "def services_int_to_dict(services_int):\n",
    "    return {\n",
    "        'NODE_NETWORK': check_bit(services_int, \"FIXME\"),\n",
    "        'NODE_GETUTXO': check_bit(services_int, \"FIXME\"),\n",
    "        '?': check_bit(services_int, \"FIXME\"),\n",
    "        '??': check_bit(services_int, \"FIXME\"),\n",
    "        '???': check_bit(services_int, \"FIXME\"),\n",
    "    }"
   ]
  },
  {
   "cell_type": "code",
   "execution_count": null,
   "metadata": {},
   "outputs": [],
   "source": [
    "def services_int_to_dict(services_int):\n",
    "    return {\n",
    "        'NODE_NETWORK': check_bit(services_int, 0),\n",
    "        'NODE_GETUTXO': check_bit(services_int, 1),\n",
    "        'NODE_BLOOM': check_bit(services_int, 2),\n",
    "        'NODE_WITNESS': check_bit(services_int, 3),\n",
    "        'NODE_NETWORK_LIMITED': check_bit(services_int, 10),\n",
    "    }"
   ]
  },
  {
   "cell_type": "code",
   "execution_count": null,
   "metadata": {},
   "outputs": [],
   "source": [
    "def test_services_int_to_dict():\n",
    "    services = 1 + 2 + 4 + 1024\n",
    "    answer = {\n",
    "        'NODE_NETWORK': True,\n",
    "        'NODE_GETUTXO': True,\n",
    "        'NODE_BLOOM': True,\n",
    "        'NODE_WITNESS': False,\n",
    "        'NODE_NETWORK_LIMITED': True,\n",
    "    }\n",
    "    assert services_int_to_dict(services) == answer\n",
    "    print(\"Tests passed!\")\n",
    "\n",
    "test_services_int_to_dict()"
   ]
  },
  {
   "cell_type": "markdown",
   "metadata": {},
   "source": [
    "To give you a better idea what's going on here, check out these `read_services` outputs for some possible inputs:"
   ]
  },
  {
   "cell_type": "code",
   "execution_count": null,
   "metadata": {},
   "outputs": [],
   "source": [
    "from pprint import pprint\n",
    "\n",
    "bitfields = [\n",
    "    1,\n",
    "    8,\n",
    "    1 + 8,\n",
    "    1024,\n",
    "    8 + 1024,\n",
    "    1 + 2 + 4 + 8 + 1024,\n",
    "    2**5 + 2**9 + 2**25,\n",
    "]\n",
    "\n",
    "for bitfield in bitfields:\n",
    "    pprint(f\"(n={bitfield})\")\n",
    "    pprint(services_int_to_dict(bitfield))\n",
    "    print()"
   ]
  },
  {
   "cell_type": "markdown",
   "metadata": {},
   "source": [
    "### Exercise #8: Complete these function definitions to hammer home you understanding of this strange `services` \"bitfield\""
   ]
  },
  {
   "cell_type": "code",
   "execution_count": null,
   "metadata": {},
   "outputs": [],
   "source": [
    "def offers_node_network_service(services_bitfield):\n",
    "    # given integer services_bitfield, return whether the NODE_NETWORK bit is on\n",
    "    raise NotImplementedError()"
   ]
  },
  {
   "cell_type": "code",
   "execution_count": null,
   "metadata": {},
   "outputs": [],
   "source": [
    "def offers_node_network_service(services_bitfield):\n",
    "    services_dict = services_int_to_dict(services_bitfield)\n",
    "    return services_dict['NODE_NETWORK']"
   ]
  },
  {
   "cell_type": "code",
   "execution_count": null,
   "metadata": {},
   "outputs": [],
   "source": [
    "def test_offers_node_network_service():\n",
    "    assert offers_node_network_service(1) is True\n",
    "    assert offers_node_network_service(1 + 8) is True\n",
    "    assert offers_node_network_service(4) is False\n",
    "    print('Test passed!')\n",
    "\n",
    "test_offers_node_network_service()"
   ]
  },
  {
   "cell_type": "code",
   "execution_count": null,
   "metadata": {},
   "outputs": [],
   "source": [
    "def offers_node_bloom_and_node_witness_services(services_bitfield):\n",
    "    # given integer services_bitfield, return whether the \n",
    "    # NODE_BLOOM and NODE_WITNESS bits are on\n",
    "    raise NotImplementedError()"
   ]
  },
  {
   "cell_type": "code",
   "execution_count": null,
   "metadata": {},
   "outputs": [],
   "source": [
    "def offers_node_bloom_and_node_witness_services(services_bitfield):\n",
    "    services_dict = services_int_to_dict(services_bitfield)\n",
    "    return services_dict['NODE_BLOOM'] and services_dict['NODE_WITNESS']"
   ]
  },
  {
   "cell_type": "code",
   "execution_count": null,
   "metadata": {},
   "outputs": [],
   "source": [
    "def test_offers_node_bloom_and_node_witness_services():\n",
    "    assert offers_node_bloom_and_node_witness_services(1) is False\n",
    "    assert offers_node_bloom_and_node_witness_services(1 + 8) is False\n",
    "    assert offers_node_bloom_and_node_witness_services(4 + 8) is True\n",
    "    print('Test passed!')\n",
    "    \n",
    "test_offers_node_bloom_and_node_witness_services()"
   ]
  },
  {
   "cell_type": "markdown",
   "metadata": {},
   "source": [
    "As a parting note, here's a look at some nodes that define services not mentioned in the wiki:\n",
    "\n",
    "![image](../images/other-services.png)"
   ]
  },
  {
   "cell_type": "markdown",
   "metadata": {},
   "source": [
    "# Boolean Values\n",
    "\n",
    "We could have treated `relay` like an `int` given how in Python `True` / `False` values are equivalent to `1` / `0`:"
   ]
  },
  {
   "cell_type": "code",
   "execution_count": null,
   "metadata": {},
   "outputs": [],
   "source": [
    "print(\"True is 1: \", True == 1)\n",
    "print(\"False is 0: \", False == 0)"
   ]
  },
  {
   "cell_type": "markdown",
   "metadata": {},
   "source": [
    "But Python `bool` values will make the data in our programs more readable than just using `1` and `0` so let's write a `bytes_to_bool` function which will handle this for us:"
   ]
  },
  {
   "cell_type": "markdown",
   "metadata": {},
   "source": [
    "### Exercise: `bytes_to_bool(bytes)`\n",
    "\n",
    "Write a function that will interpret bytes as a boolean "
   ]
  },
  {
   "cell_type": "code",
   "execution_count": null,
   "metadata": {},
   "outputs": [],
   "source": [
    "def bytes_to_bool(bytes):\n",
    "    raise NotImplementedError()"
   ]
  },
  {
   "cell_type": "code",
   "execution_count": null,
   "metadata": {},
   "outputs": [],
   "source": [
    "\n",
    "\n",
    "def bytes_to_bool(bytes):\n",
    "    return bool(little_endian_to_int(bytes))"
   ]
  },
  {
   "cell_type": "code",
   "execution_count": null,
   "metadata": {},
   "outputs": [],
   "source": [
    "def test_bytes_to_bool():\n",
    "    assert bytes_to_bool(b'\\x00') is False,\\\n",
    "        f'bytes_to_bool(b\"\\x00\") should return False'\n",
    "    assert bytes_to_bool(b'\\x00') is False,\\\n",
    "        f'bytes_to_bool(b\"\\x01\") should return True'\n",
    "    print('Tests passed!')\n",
    "    \n",
    "test_bytes_to_bool()"
   ]
  },
  {
   "cell_type": "markdown",
   "metadata": {},
   "source": [
    "Question: must you be concered of the byteorder with this field?\n",
    "\n",
    "You actually don't need to be concerned. Byte-order only applies if you have multiple bytes."
   ]
  },
  {
   "cell_type": "code",
   "execution_count": null,
   "metadata": {},
   "outputs": [],
   "source": [
    "one = b'\\x01'\n",
    "little_endian_to_int(one) == big_endian_to_int(one)"
   ]
  },
  {
   "cell_type": "markdown",
   "metadata": {},
   "source": [
    "### Exercise: Use `bytes_to_bool` to the interpret the `relay` bytes in `read_version_payload`"
   ]
  },
  {
   "cell_type": "code",
   "execution_count": null,
   "metadata": {},
   "outputs": [],
   "source": [
    "def read_version_payload(stream):\n",
    "    raise NotImplementedError()"
   ]
  },
  {
   "cell_type": "code",
   "execution_count": null,
   "metadata": {},
   "outputs": [],
   "source": [
    "def read_version_payload(stream):\n",
    "    r = {}    \n",
    "    r['version'] = little_endian_to_int(stream.read(4))\n",
    "    r['services'] = little_endian_to_int(stream.read(8))\n",
    "    r['timestamp'] = little_endian_to_int(stream.read(8))\n",
    "    r['receiver_address'] = stream.read(26)\n",
    "    r['sender_address'] = stream.read(26)\n",
    "    r['nonce'] = little_endian_to_int(stream.read(8))\n",
    "    r['user_agent'] = justins_read_varstr(stream)\n",
    "    r['start_height'] = little_endian_to_int(stream.read(4))\n",
    "    r['relay'] = bytes_to_bool(stream.read(1))\n",
    "    return r"
   ]
  },
  {
   "cell_type": "code",
   "execution_count": null,
   "metadata": {},
   "outputs": [],
   "source": [
    "def test_read_version_payload_boolean_fields():\n",
    "    stream = BytesIO(VERSION_PAYLOAD)\n",
    "    payload = read_version_payload(stream)\n",
    "    assert payload['relay'] is True\n",
    "    \n",
    "    stream = BytesIO(VERSION_PAYLOAD[:-1] + b'\\x00')\n",
    "    payload = read_version_payload(stream)\n",
    "    assert payload['relay'] is False\n",
    "    \n",
    "    print('Test passed!')\n",
    "    \n",
    "test_read_version_payload_boolean_fields()"
   ]
  },
  {
   "cell_type": "markdown",
   "metadata": {},
   "source": [
    "## Timestamps\n",
    "\n",
    "FIXME: \n",
    "\n",
    "In a few different places we are faced with the same decision: an integer or other type has a special meaning. Should we leave it as an integer and define a special \"accessor\" function to translate to its special meaning, or should we convert it to the special meaning outright.\n",
    "\n",
    "First, leaving stuff as ints requires less work and adds less complexity so we will favor that going forward. But we'll define a library of functions \n",
    "\n",
    "Given that our first application of this code will be to write a crawler that saves everything to a SQL database, it would be very nice if we can leave our data in some kind of universal format like an integer.\n",
    "\n",
    "### Exercise: `read_timestamp`\n",
    "\n",
    "\n",
    "### Exercise: Call `read_timestamp` in appropriate places"
   ]
  },
  {
   "cell_type": "markdown",
   "metadata": {},
   "source": [
    "## Variable Length Fields\n",
    "\n",
    "In the first exercise of this lesson we encountered the `?`-length `user_agent` field. I gave you a `justins_read_varstr` function and the rest of the code magically worked.\n",
    "\n",
    "What the hell was going on there?\n",
    "\n",
    "\n",
    "\n",
    "### Exercise: `read_varint`\n",
    "\n",
    "\n",
    "### Exercise: `read_varstr`\n",
    "\n",
    "\n",
    "### Exercise: Call `read_varstr` in appropriate places\n",
    "\n",
    "\n",
    "## Services"
   ]
  },
  {
   "cell_type": "markdown",
   "metadata": {},
   "source": [
    "# \"Variable Length\" fields\n",
    "\n",
    "Next comes `var_str`, the type of the \"User Agent\", which is basically an advertisement of the Bitcoin software implementation that the node is using. You can see a listing of popular values [here](https://bitnodes.earn.com/nodes/).\n",
    "\n",
    "[\"Variable Length Strings\"](https://en.bitcoin.it/wiki/Protocol_documentation#Variable_length_string) are used for string fields of unpredictible length. This technique strives to use only the space it needs. It does so by prepending a \"variable length integer\" in front of the string value being communicated, which tells the receiver how many bytes they should read in order to read the encoded string value. This is kind of similar to how the payload bytes are handled in our `read_message` function -- first we read `length` and then we read `length`-many bytes to get our raw payload. Same idea here, but now the length of the string isn't an integer, but a \"variable length integer\".\n",
    "\n",
    "How does this `varint` work?\n",
    "\n",
    "The first byte of a `varint` is a marker which says how many bytes come after it:\n",
    "* `0xFF`: 8 byte integer follows\n",
    "* `0xFE`: 4 byte integer follows\n",
    "* `0xFD`: 2 byte integer follows\n",
    "* < `0xFD`: 0 bytes follow. Interpret first byte as a 1 byte integer.\n",
    "\n",
    "### Exercise #5:  Implement `read_varint`, since `read_varstr` will depend on it and the version message's `user_agent` requires `read_varstr`\n",
    "\n",
    "Since this is a somewhat complicated function, I've outlined it for you. Replace the `\"FIXME\"`s:"
   ]
  },
  {
   "cell_type": "code",
   "execution_count": null,
   "metadata": {},
   "outputs": [],
   "source": [
    "def read_varint(stream):\n",
    "    i = read_int(stream, 1)\n",
    "    if i == 0xff:\n",
    "        return read_int(stream, 8)\n",
    "    elif i == 0xfe:\n",
    "        return \"FIXME\"\n",
    "    elif \"FIXME\":\n",
    "        return \"FIXME\"\n",
    "    else:\n",
    "        \"FIXME\""
   ]
  },
  {
   "cell_type": "code",
   "execution_count": null,
   "metadata": {},
   "outputs": [],
   "source": [
    "def read_varint(stream):\n",
    "    i = little_endian_to_int(stream.read(1))\n",
    "    if i == 0xff:\n",
    "        return little_endian_to_int(stream.read(8))\n",
    "    elif i == 0xfe:\n",
    "        return little_endian_to_int(stream.read(4))\n",
    "    elif i == 0xfd:\n",
    "        return little_endian_to_int(stream.read(2))\n",
    "    else:\n",
    "        return i"
   ]
  },
  {
   "cell_type": "code",
   "execution_count": null,
   "metadata": {},
   "outputs": [],
   "source": [
    "eight_byte_int = 2 ** (8 * 8) - 1\n",
    "four_byte_int = 2 ** (8 * 4) - 1\n",
    "two_byte_int = 2 ** (8 * 2) - 1\n",
    "one_byte_int = 7\n",
    "\n",
    "eight_byte_int_bytes = eight_byte_int.to_bytes(8, 'little')\n",
    "four_byte_int_bytes = four_byte_int.to_bytes(4, 'little')\n",
    "two_byte_int_bytes = two_byte_int.to_bytes(2, 'little')\n",
    "one_byte_int_bytes = one_byte_int.to_bytes(1, 'little')\n",
    "\n",
    "eight_byte_prefix = (0xff).to_bytes(1, 'little')\n",
    "four_byte_prefix = (0xfe).to_bytes(1, 'little')\n",
    "two_byte_prefix = (0xfd).to_bytes(1, 'little')\n",
    "\n",
    "eight_byte_var_int =  eight_byte_prefix + eight_byte_int_bytes\n",
    "four_byte_var_int = four_byte_prefix + four_byte_int_bytes\n",
    "two_byte_var_int = two_byte_prefix + two_byte_int_bytes\n",
    "one_byte_var_int = one_byte_int_bytes\n",
    "\n",
    "enumerated = (\n",
    "    (eight_byte_int, eight_byte_var_int),\n",
    "    (four_byte_int, four_byte_var_int),\n",
    "    (two_byte_int, two_byte_var_int),\n",
    "    (one_byte_int, one_byte_var_int),\n",
    ")\n",
    "\n",
    "def test_read_varint():\n",
    "    for correct_int, var_int in enumerated:\n",
    "        stream = BytesIO(var_int)\n",
    "        calculated_int = read_varint(stream)\n",
    "        assert correct_int == calculated_int, (correct_int, calculated_int)\n",
    "        \n",
    "    print('Test passed!')\n",
    "\n",
    "test_read_varint()"
   ]
  },
  {
   "cell_type": "markdown",
   "metadata": {},
   "source": [
    "Now that we have that out of the way:\n",
    "\n",
    "### Exercise #6: Implement `read_varstr`"
   ]
  },
  {
   "cell_type": "code",
   "execution_count": null,
   "metadata": {},
   "outputs": [],
   "source": [
    "def read_varstr(stream):\n",
    "    raise NotImplementedError()"
   ]
  },
  {
   "cell_type": "code",
   "execution_count": null,
   "metadata": {},
   "outputs": [],
   "source": [
    "def read_varstr(stream):\n",
    "    length = read_varint(stream)\n",
    "    string = stream.read(length)\n",
    "    return string"
   ]
  },
  {
   "cell_type": "code",
   "execution_count": null,
   "metadata": {},
   "outputs": [],
   "source": [
    "from proto import encode_varstr\n",
    "\n",
    "long_str = b\"A purely peer-to-peer version of electronic cash would allow online payments to be sent directly from one party to another without going through a financial institution. Digital signatures provide part of the solution, but the main benefits are lost if a trusted third party is still required to prevent double-spending. We propose a solution to the double-spending problem using a peer-to-peer network.  The network timestamps transactions by hashing them into an ongoing chain of hash-based proof-of-work, forming a record that cannot be changed without redoing the proof-of-work. The longest chain not only serves as proof of the sequence of events witnessed, but proof that it came from the largest pool of CPU power. As long as a majority of CPU power is controlled by nodes that are not cooperating to attack the network, they'll generate the longest chain and outpace attackers. The network itself requires minimal structure. Messages are broadcast on a best effort basis, and nodes can leave and rejoin the network at will, accepting the longest proof-of-work chain as proof of what happened while they were gone.\"\n",
    "long_var_str = encode_varstr(long_str)\n",
    "\n",
    "short_str = b\"!\"\n",
    "short_var_str = encode_varstr(short_str)\n",
    "\n",
    "enumerated = (\n",
    "    (short_str, short_var_str),\n",
    "    (long_str, long_var_str),\n",
    ")\n",
    "\n",
    "def test_read_varstr():\n",
    "    for correct_byte_str, var_str in enumerated:\n",
    "        stream = BytesIO(var_str)\n",
    "        calculated_byte_str = read_varstr(stream)\n",
    "        assert correct_byte_str == calculated_byte_str\n",
    "    print('Test passed!')\n",
    "    \n",
    "test_read_varstr()"
   ]
  },
  {
   "cell_type": "markdown",
   "metadata": {},
   "source": [
    "# \"Network Address\" Type\n",
    "\n",
    "[`net_addr`](https://en.bitcoin.it/wiki/Protocol_documentation#Network_address) is the most complicated new type we encounter this lesson, so we'll handle it last. Plus, it builds on the `timestamp` and `services` types we learned to read above.\n",
    "\n",
    "![image](../images/network-address.png)\n",
    "\n",
    "Network addresses require we interpret 4 new kinds of data:\n",
    "\n",
    "1. `time`: Unix timestamp. Already done.\n",
    "2. `services`: integer bitfield. Already done.\n",
    "3. `IP address`: complicated ...\n",
    "4. `port`: big-endian encoded `int`\n",
    "\n",
    "Since network addresses are sort of their own \"type\" -- and this code will be re-used when we write the crawler -- let's create a `read_address` which our `read_version_payload` function can call when it reaches the network address bytes.\n",
    "\n",
    "We give it a `has_timestamp` variable because the docs mention how the `timestamp` attribute is always present *except* in version messages. So the `has_timestamp` flag will be used to denote whether or not we're in such a context ..."
   ]
  },
  {
   "cell_type": "markdown",
   "metadata": {},
   "source": [
    "FIXME: make this into an exercise"
   ]
  },
  {
   "cell_type": "code",
   "execution_count": null,
   "metadata": {},
   "outputs": [],
   "source": [
    "IPV4_PREFIX = b\"\\x00\" * 10 + b\"\\xff\" * 2\n",
    "\n",
    "def bytes_to_ip(b):\n",
    "    # IPv4\n",
    "    if b[0:12] == IPV4_PREFIX:\n",
    "        return socket.inet_ntop(socket.AF_INET, b[12:16])\n",
    "\n",
    "    # IPv6\n",
    "    else:\n",
    "        return socket.inet_ntop(socket.AF_INET6, b)\n",
    "\n",
    "def read_address(stream, has_timestamp):\n",
    "    r = {}\n",
    "    if has_timestamp:\n",
    "        r[\"timestamp\"] = little_endian_to_int(stream.read(4))\n",
    "    r[\"services\"] = little_endian_to_int(stream.read(8))\n",
    "    r[\"ip\"] = bytes_to_ip(stream.read(16))\n",
    "    r[\"port\"] = big_endian_to_int(stream.read(2))\n",
    "    return r\n"
   ]
  },
  {
   "cell_type": "code",
   "execution_count": null,
   "metadata": {},
   "outputs": [],
   "source": [
    "def test_read_address():\n",
    "    services = 7\n",
    "    services_bytes = services.to_bytes(8, 'little')\n",
    "    ipv4 = '10.10.10.10'\n",
    "    ipv4_bytes = IPV4_PREFIX + socket.inet_pton(socket.AF_INET, ipv4)\n",
    "    ipv6 = '2a02:1205:501e:d30:f57a:6958:7e47:2694'\n",
    "    ipv6_bytes = socket.inet_pton(socket.AF_INET6, ipv6)\n",
    "    port = 8333\n",
    "    port_bytes = port.to_bytes(2, 'big')\n",
    "    \n",
    "    # IPv4\n",
    "    stream = BytesIO(services_bytes + ipv4_bytes + port_bytes)\n",
    "    address = read_address(stream, has_timestamp=False)\n",
    "    assert address['services'] == services\n",
    "    assert address['ip'] == ipv4\n",
    "    assert address['port'] == port\n",
    "    \n",
    "    # IPv6\n",
    "    stream = BytesIO(services_bytes + ipv6_bytes + port_bytes)\n",
    "    address = read_address(stream, has_timestamp=False)\n",
    "    assert address['ip'] == ipv6\n",
    "    \n",
    "    print('Test passed!')\n",
    "\n",
    "test_read_address()"
   ]
  },
  {
   "cell_type": "markdown",
   "metadata": {},
   "source": [
    "# Putting it all together"
   ]
  },
  {
   "cell_type": "code",
   "execution_count": null,
   "metadata": {},
   "outputs": [],
   "source": [
    "# FIXME make into exercise\n",
    "def read_version_payload(stream):\n",
    "    r = {}\n",
    "    r[\"version\"] = little_endian_to_int(stream.read(4))\n",
    "    r[\"services\"] = little_endian_to_int(stream.read(8))\n",
    "    r[\"timestamp\"] = little_endian_to_int(stream.read(8))\n",
    "    r[\"receiver_address\"] = read_address(stream, has_timestamp=False)\n",
    "    r[\"sender_address\"] = read_address(stream, has_timestamp=False)\n",
    "    r[\"nonce\"] = little_endian_to_int(stream.read(8))\n",
    "    r[\"user_agent\"] = read_varstr(stream)\n",
    "    r[\"start_height\"] = little_endian_to_int(stream.read(4))\n",
    "    r[\"relay\"] = little_endian_to_int(stream.read(1))\n",
    "    return r\n",
    "\n",
    "version_payload = read_version_payload(BytesIO(VERSION_PAYLOAD))\n",
    "version_payload"
   ]
  },
  {
   "cell_type": "code",
   "execution_count": null,
   "metadata": {},
   "outputs": [],
   "source": [
    "services_int_to_dict(version_payload['services'])"
   ]
  },
  {
   "cell_type": "code",
   "execution_count": null,
   "metadata": {},
   "outputs": [],
   "source": [
    "def test_read_version_payload_final():\n",
    "    \n",
    "    # TODO: copy paste all the prior test code here so that it \n",
    "    \n",
    "    # Or maybe just call all the prior functions here???\n",
    "    \n",
    "    pass"
   ]
  },
  {
   "cell_type": "markdown",
   "metadata": {},
   "source": [
    "Homework:\n",
    "* follow along with this article: https://coinlogic.wordpress.com/2014/03/09/the-bitcoin-protocol-4-network-messages-1-version/. It covers how to use Wireshark to observe the messages that `bitcoind` sends."
   ]
  }
 ],
 "metadata": {
  "kernelspec": {
   "display_name": "Python 3",
   "language": "python",
   "name": "python3"
  },
  "language_info": {
   "codemirror_mode": {
    "name": "ipython",
    "version": 3
   },
   "file_extension": ".py",
   "mimetype": "text/x-python",
   "name": "python",
   "nbconvert_exporter": "python",
   "pygments_lexer": "ipython3",
   "version": "3.7.2"
  }
 },
 "nbformat": 4,
 "nbformat_minor": 2
}
