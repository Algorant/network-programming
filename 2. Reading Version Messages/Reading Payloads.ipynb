{
 "cells": [
  {
   "cell_type": "code",
   "execution_count": 15,
   "metadata": {},
   "outputs": [],
   "source": [
    "# FIXME: I'm probably leaking my IP address all over the place ..."
   ]
  },
  {
   "cell_type": "code",
   "execution_count": 10,
   "metadata": {},
   "outputs": [],
   "source": [
    "%load_ext autoreload\n",
    "%autoreload 2"
   ]
  },
  {
   "cell_type": "markdown",
   "metadata": {},
   "source": [
    "# Reading Version Message Payloads\n",
    "\n",
    "In the last lesson we encountered the Bitcoin protocol's [Version Handshake](https://en.bitcoin.it/wiki/Version_Handshake). We saw how Bitcoin network peers will only converse with us if we first introduce ourselves with a `version` message.\n",
    "\n",
    "But _we cheated_. I gave you a serialized `version` message and didn't tell you how I created it.\n",
    "\n",
    "_We were lazy_: we didn't parse the cryptic `payload` of the `version` message that our peer sent us.\n",
    "\n",
    "_We were rude_! After listening for our peer's `version` message we stopped listening and never received or responded to their `verack` message -- completing the handshake. Our peer was left hanging ...\n",
    "\n",
    "So you see, we have much to fix!\n",
    "\n",
    "### Housekeeping\n",
    "\n",
    "Last time we created a `NetworkEnvelope` class. I'm going to throw that away and use functions and dictionaries instead. Simpler this way!\n",
    "\n",
    "Here's where we are:"
   ]
  },
  {
   "cell_type": "code",
   "execution_count": 8,
   "metadata": {},
   "outputs": [],
   "source": [
    "from hashlib import sha256\n",
    "\n",
    "NETWORK_MAGIC = b'\\xf9\\xbe\\xb4\\xd9'\n",
    "\n",
    "def double_sha256(s):\n",
    "    return sha256(sha256(s).digest()).digest()\n",
    "\n",
    "def read_message(stream):\n",
    "    \"\"\" payload attributes at top level \"\"\"\n",
    "    msg = {}\n",
    "    magic = stream.read(4)\n",
    "    if magic != NETWORK_MAGIC:\n",
    "        raise Exception(f'Magic is wrong: {magic}')\n",
    "    msg['command'] = stream.read(12).strip(b'\\x00')\n",
    "    payload_length = int.from_bytes(stream.read(4), 'little')\n",
    "    checksum = stream.read(4)\n",
    "    msg['payload'] = stream.read(payload_length)\n",
    "    calculated_checksum = double_sha256(msg['payload'])[:4]\n",
    "    if calculated_checksum != checksum:\n",
    "        raise Exception('Checksum does not match')\n",
    "    return msg\n"
   ]
  },
  {
   "cell_type": "code",
   "execution_count": 9,
   "metadata": {},
   "outputs": [
    {
     "name": "stdout",
     "output_type": "stream",
     "text": [
      "{'command': b'version', 'payload': b'\\x7f\\x11\\x01\\x00\\r\\x04\\x00\\x00\\x00\\x00\\x00\\x0028j\\\\\\x00\\x00\\x00\\x00\\x00\\x00\\x00\\x00\\x00\\x00\\x00\\x00\\x00\\x00\\x00\\x00\\x00\\x00\\x00\\x00\\x00\\x00\\xff\\xffFqPG\\xa8\\xc6\\r\\x04\\x00\\x00\\x00\\x00\\x00\\x00\\x00\\x00\\x00\\x00\\x00\\x00\\x00\\x00\\x00\\x00\\x00\\x00\\x00\\x00\\x00\\x00\\x00\\x00!\\xf8\\xe8\\xff\\xceL+s\\x10/Satoshi:0.16.3/U\\x99\\x08\\x00\\x01'}\n",
      "b'version'\n",
      "b'\\x7f\\x11\\x01\\x00\\r\\x04\\x00\\x00\\x00\\x00\\x00\\x0028j\\\\\\x00\\x00\\x00\\x00\\x00\\x00\\x00\\x00\\x00\\x00\\x00\\x00\\x00\\x00\\x00\\x00\\x00\\x00\\x00\\x00\\x00\\x00\\xff\\xffFqPG\\xa8\\xc6\\r\\x04\\x00\\x00\\x00\\x00\\x00\\x00\\x00\\x00\\x00\\x00\\x00\\x00\\x00\\x00\\x00\\x00\\x00\\x00\\x00\\x00\\x00\\x00\\x00\\x00!\\xf8\\xe8\\xff\\xceL+s\\x10/Satoshi:0.16.3/U\\x99\\x08\\x00\\x01'\n"
     ]
    }
   ],
   "source": [
    "import socket\n",
    "\n",
    "# magic \"version\" bytestring\n",
    "VERSION = b'\\xf9\\xbe\\xb4\\xd9version\\x00\\x00\\x00\\x00\\x00j\\x00\\x00\\x00\\x9b\"\\x8b\\x9e\\x7f\\x11\\x01\\x00\\x0f\\x04\\x00\\x00\\x00\\x00\\x00\\x00\\x93AU[\\x00\\x00\\x00\\x00\\x0f\\x04\\x00\\x00\\x00\\x00\\x00\\x00\\x00\\x00\\x00\\x00\\x00\\x00\\x00\\x00\\x00\\x00\\x00\\x00\\x00\\x00\\x00\\x00\\x00\\x00\\x0f\\x04\\x00\\x00\\x00\\x00\\x00\\x00\\x00\\x00\\x00\\x00\\x00\\x00\\x00\\x00\\x00\\x00\\x00\\x00\\x00\\x00\\x00\\x00\\x00\\x00rV\\xc5C\\x9b:\\xea\\x89\\x14/some-cool-software/\\x01\\x00\\x00\\x00\\x01'\n",
    "\n",
    "sock = socket.socket()\n",
    "sock.connect((\"35.198.151.21\", 8333))\n",
    "stream = sock.makefile('rb')\n",
    "\n",
    "# initiate the \"version handshake\"\n",
    "sock.send(VERSION)\n",
    "\n",
    "# receive their \"version\" response\n",
    "msg = read_message(stream)\n",
    "\n",
    "print(msg)\n",
    "print(msg['command'])\n",
    "print(msg['payload'])"
   ]
  },
  {
   "cell_type": "markdown",
   "metadata": {},
   "source": [
    "\n",
    "The payload of our message is still `bytes`. We need to decode the payload in the same way that we decoded the outer message structure itself. In order to do will apply exactly the same skills we started to learn last time in order to \n",
    "\n",
    "# Objective: Interpret the Message Payload\n",
    "\n",
    "Here's how payloads look now:\n",
    "\n",
    "```\n",
    "b'\\x7f\\x11\\x01\\x00\\r\\x04\\x00\\x00\\x00\\x00\\x00\\x0028j\\\\\\x00\\x00\\x00\\x00\\x00\\x00\\x00\\x00\\x00\\x00\\x00\\x00\\x00\\x00\\x00\\x00\\x00\\x00\\x00\\x00\\x00\\x00\\xff\\xffFqPG\\xa8\\xc6\\r\\x04\\x00\\x00\\x00\\x00\\x00\\x00\\x00\\x00\\x00\\x00\\x00\\x00\\x00\\x00\\x00\\x00\\x00\\x00\\x00\\x00\\x00\\x00\\x00\\x00!\\xf8\\xe8\\xff\\xceL+s\\x10/Satoshi:0.16.3/U\\x99\\x08\\x00\\x01'\n",
    "```\n",
    "\n",
    "In this lesson we'll learn to interpret these bytes as a dictionary like this:\n",
    "\n",
    "```\n",
    "{'latest_block': 563541,\n",
    " 'nonce': 8298811190300702753,\n",
    " 'receiver_address': {'ip': '::ffff:70.113.80.71',\n",
    "                      'port': 43206,\n",
    "                      'services': 0},\n",
    " 'relay': 1,\n",
    " 'sender_address': {'ip': '0.0.0.0', 'port': 0, 'services': 1037},\n",
    " 'services': 1037,\n",
    " 'timestamp': 1550465074,\n",
    " 'user_agent': b'/Satoshi:0.16.3/',\n",
    " 'version': 70015}\n",
    "```"
   ]
  },
  {
   "cell_type": "code",
   "execution_count": 14,
   "metadata": {},
   "outputs": [
    {
     "name": "stdout",
     "output_type": "stream",
     "text": [
      "{'latest_block': 563541,\n",
      " 'nonce': 8298811190300702753,\n",
      " 'receiver_address': {'ip': '::ffff:70.113.80.71',\n",
      "                      'port': 43206,\n",
      "                      'services': 0},\n",
      " 'relay': 1,\n",
      " 'sender_address': {'ip': '0.0.0.0', 'port': 0, 'services': 1037},\n",
      " 'services': 1037,\n",
      " 'timestamp': 1550465074,\n",
      " 'user_agent': b'/Satoshi:0.16.3/',\n",
      " 'version': 70015}\n"
     ]
    }
   ],
   "source": [
    "# FIXME: kill\n",
    "\n",
    "from io import BytesIO\n",
    "from pprint import pprint\n",
    "from proto import read_version_payload\n",
    "\n",
    "pprint(read_version_payload(BytesIO(msg['payload'])))"
   ]
  },
  {
   "cell_type": "markdown",
   "metadata": {},
   "source": [
    "### The Payload\n",
    "\n",
    "Our next task is to parse this payload. Besides the \"/Satoshi:0.16.3/\" -- clearly a user agent -- the payload bytes of the example above have no ASCII meaning.\n",
    "\n",
    "But have no fear -- we will decode the message payload in the same manner as we decoded the overall message structure in our `read_message` method.\n",
    "\n",
    "[This chart](https://en.bitcoin.it/wiki/Protocol_documentation#version) from the protocol documentation will act as our blueprint:\n",
    "\n",
    "![image](../images/version-message.png)\n",
    "\n",
    "### Old Types\n",
    "\n",
    "Here we encounter some \"types\" we are now familiar with from the first lesson -- `int32_t` / `uint64_t` / `int64_t` -- which are different types in a \"low-level\" language like C++, but are all equivalent to the `int` type in Python. Our previously implemented `bytes_to_int` (FIXME) can handle these just fine.\n",
    "\n",
    "### New Types\n",
    "\n",
    "But we also encounter some new types: `net_addr`, `varstr`, and `bool`. \n",
    "\n",
    "Even worse, if we click on the [`varstr` link](https://en.bitcoin.it/wiki/Protocol_documentation#Variable_length_string) we see that it contains one additional type: `varint`. \n",
    "\n",
    "Worse still, the [`net_addr` link](https://en.bitcoin.it/wiki/Protocol_documentation#Network_address) contains `time`, `services`, `ip` and `port` fields nominally of types `uint32`, `uint64_t`, `uint16_t` and `char[16]` but in order for us to make sense of what they hell them mean each requires parsing: the `time` integer as a Unix timestamp, the `services` integer as a \"bitfield\" (whatever that is!), and IP address can be either IPv4 or IPv6 and our code must be able to tell the difference! Also, the `port` field is \"network byte-order\" according to the wiki.\n",
    "\n",
    "Oh, and remember how I mentioned that Satoshi usually, but not always, encoded his integers in \"little endian\" byte order (least significant digits is on the left)? Well, the `port` attribute of `net_addr` is encoded \"big endian\", where the *most* significant digit is on the left. Yes, the exact opposite of everything else!!!\n",
    "\n",
    "- [ ] Convert version message `bytes` to dictionary with appropriate keys and uninterpreted `bytes` values\n",
    "- [ ] Interpret Integer fields\n",
    "    - [ ] interpret `relay`\n",
    "    - [ ] interpret `timestamp`\n",
    "    - [ ] interpret `services`\n",
    "- [ ] Interpret variable-length fields\n",
    "- [ ] \n",
    "\n",
    "Hunker down for a looooooong lesson!"
   ]
  },
  {
   "cell_type": "markdown",
   "metadata": {},
   "source": [
    "### Exercise: `read_version_payload`\n",
    "\n",
    "Write a function `read_version_payload` which takes as an argument a stream containing the payload of a version message. The first eight bytes represent the version, and so on as described in the table above.\n",
    "\n",
    "Your function should return a dictionary with keys equal to the Version Message attributes and values equal to the uninterpreted bytes corresponding to that key:\n",
    "\n",
    "```\n",
    "{\n",
    "    'version': <raw version bytes>,\n",
    "    'services': <raw services bytes>,\n",
    "    'timestamp': <raw timestamp bytes>,\n",
    "    'receiver_address': <raw network address bytes>,\n",
    "    'sender_address': <raw network address bytes>,\n",
    "    'nonce': <raw nonce bytes>,\n",
    "    'user_agent': <raw user agent bytes>,\n",
    "    'start_height': <raw start height bytes>,\n",
    "    'relay': <raw relay bytes>,\n",
    "}\n",
    "```\n",
    "\n",
    "Throughout the lesson we will slowly add functions to interpret the raw bytes left uninterpreted in this function\n",
    "\n",
    "This exercise is simply asking you to read the correct number of bytes for every field and store these bytes under the correct key (listed ^^)"
   ]
  },
  {
   "cell_type": "code",
   "execution_count": null,
   "metadata": {},
   "outputs": [],
   "source": [
    "# FIXME: justins_read_varstr is shitty\n",
    "\n",
    "def read_version_payload(stream):\n",
    "    # We will build up this dictionary as we go\n",
    "    r = {}\n",
    "    \n",
    "    # First read the 4 byte `version` number and save to the r['version'] key \n",
    "    r['version'] = stream.read(4)\n",
    "    \n",
    "    # Your turn: follow this pattern to fill in the \"timestamp\", \"receiver_address\", \"sender_address\", and \"nonce\" fields\n",
    "    \n",
    "    # I will do the \"user_agent\" attribute for you. You will re-implement later ...\n",
    "    r['user_agent'] = justins_read_varstr(stream)\n",
    "    \n",
    "    # Your turn: Fill out the remaining \"start_height\" and \"relay\" attributes\n",
    "    \n",
    "    # Return the dictionary we've assembled\n",
    "    return r\n",
    "    \n",
    "    "
   ]
  },
  {
   "cell_type": "code",
   "execution_count": 40,
   "metadata": {},
   "outputs": [],
   "source": [
    "from proto import read_varint\n",
    "\n",
    "def justins_read_varstr(stream):\n",
    "    return stream.read(read_varint(stream))\n",
    "\n",
    "def read_version_payload(stream):\n",
    "    # We will build up this dictionary as we go\n",
    "    r = {}\n",
    "    \n",
    "    # First read the 4 byte `version` number and save to the r['version'] key \n",
    "    r['version'] = stream.read(4)\n",
    "    \n",
    "    # Your turn: follow this pattern to fill in the \"timestamp\", \"receiver_address\", \"sender_address\", and \"nonce\" fields\n",
    "    r['services'] = stream.read(8)\n",
    "    r['timestamp'] = stream.read(8)\n",
    "    r['receiver_address'] = stream.read(26)\n",
    "    r['sender_address'] = stream.read(26)\n",
    "    r['nonce'] = stream.read(8)\n",
    "    \n",
    "    # I will do the \"user_agent\" attribute for you. You will re-implement later ...\n",
    "    r['user_agent'] = justins_read_varstr(stream)\n",
    "    \n",
    "    # Your turn: Fill out the remaining \"start_height\" and \"relay\" attributes\n",
    "    r['start_height'] = stream.read(4)\n",
    "    r['relay'] = stream.read(1)\n",
    "    \n",
    "    r['foo'] = 1\n",
    "    \n",
    "    # Return the dictionary we've assembled\n",
    "    return r\n",
    "    \n",
    "    "
   ]
  },
  {
   "cell_type": "code",
   "execution_count": null,
   "metadata": {},
   "outputs": [],
   "source": [
    "VERSION = b'\\x7f\\x11\\x01\\x00\\r\\x04\\x00\\x00\\x00\\x00\\x00\\x0028j\\\\\\x00\\x00\\x00\\x00\\x00\\x00\\x00\\x00\\x00\\x00\\x00\\x00\\x00\\x00\\x00\\x00\\x00\\x00\\x00\\x00\\x00\\x00\\xff\\xffFqPG\\xa8\\xc6\\r\\x04\\x00\\x00\\x00\\x00\\x00\\x00\\x00\\x00\\x00\\x00\\x00\\x00\\x00\\x00\\x00\\x00\\x00\\x00\\x00\\x00\\x00\\x00\\x00\\x00!\\xf8\\xe8\\xff\\xceL+s\\x10/Satoshi:0.16.3/U\\x99\\x08\\x00\\x01'\n",
    "\n",
    "def assert_len(payload, field, expected_len):\n",
    "    observed_len = len(payload[field])\n",
    "    assert observed_len == expected_len,\\\n",
    "        f'The \"{field}\" field should be {expected_len} bytes, was {observed_len} bytes'\n",
    "\n",
    "def test_read_version_payload_initial():\n",
    "    stream = BytesIO(VERSION)\n",
    "    payload = read_version_payload(stream)\n",
    "    \n",
    "    # FIXME: make assertions on any absent keys\n",
    "    observed_keys = set(payload.keys())\n",
    "    expected_keys = set(['version', 'services', 'timestamp', 'receiver_address', 'sender_address', \n",
    "                         'nonce', 'user_agent', 'start_height', 'relay'])\n",
    "    missing_keys = expected_keys - observed_keys\n",
    "    extra_keys = observed_keys - expected_keys\n",
    "    \n",
    "    assert not missing_keys, f\"The following keys were missing: {missing_keys}\"\n",
    "    assert not extra_keys, f\"Encountered unexpected key(s): {extra_keys}\"\n",
    "    \n",
    "    # FIXME: make assertions on any extra keys\n",
    "    \n",
    "    # Values are correct sizes\n",
    "    assert_len(payload, 'version', 4)\n",
    "    assert_len(payload, 'services', 8)\n",
    "    assert_len(payload, 'timestamp', 8)\n",
    "    assert_len(payload, 'receiver_address', 26)\n",
    "    assert_len(payload, 'sender_address', 26)\n",
    "    assert_len(payload, 'nonce', 8)\n",
    "    assert_len(payload, 'start_height', 4)\n",
    "    assert_len(payload, 'relay', 1)\n",
    "    \n",
    "    print(\"Test passed!\")\n",
    "    \n",
    "test_read_version_payload_initial()"
   ]
  },
  {
   "cell_type": "code",
   "execution_count": 33,
   "metadata": {},
   "outputs": [
    {
     "data": {
      "text/plain": [
       "{'a'}"
      ]
     },
     "execution_count": 33,
     "metadata": {},
     "output_type": "execute_result"
    }
   ],
   "source": [
    "set(list('abc')) - set(list('bc'))"
   ]
  },
  {
   "cell_type": "code",
   "execution_count": 24,
   "metadata": {},
   "outputs": [
    {
     "ename": "AssertionError",
     "evalue": "The \"a\" field should be 2 bytes, was 3 bytes",
     "output_type": "error",
     "traceback": [
      "\u001b[0;31m---------------------------------------------------------------------------\u001b[0m",
      "\u001b[0;31mAssertionError\u001b[0m                            Traceback (most recent call last)",
      "\u001b[0;32m<ipython-input-24-25d3116551be>\u001b[0m in \u001b[0;36m<module>\u001b[0;34m\u001b[0m\n\u001b[0;32m----> 1\u001b[0;31m \u001b[0massert_len\u001b[0m\u001b[0;34m(\u001b[0m\u001b[0;34m{\u001b[0m\u001b[0;34m'a'\u001b[0m\u001b[0;34m:\u001b[0m \u001b[0;34m'123'\u001b[0m\u001b[0;34m}\u001b[0m\u001b[0;34m,\u001b[0m \u001b[0;34m'a'\u001b[0m\u001b[0;34m,\u001b[0m \u001b[0;36m2\u001b[0m\u001b[0;34m)\u001b[0m\u001b[0;34m\u001b[0m\u001b[0;34m\u001b[0m\u001b[0m\n\u001b[0m",
      "\u001b[0;32m<ipython-input-23-d1424611c600>\u001b[0m in \u001b[0;36massert_len\u001b[0;34m(payload, field, expected_len)\u001b[0m\n\u001b[1;32m      3\u001b[0m \u001b[0;32mdef\u001b[0m \u001b[0massert_len\u001b[0m\u001b[0;34m(\u001b[0m\u001b[0mpayload\u001b[0m\u001b[0;34m,\u001b[0m \u001b[0mfield\u001b[0m\u001b[0;34m,\u001b[0m \u001b[0mexpected_len\u001b[0m\u001b[0;34m)\u001b[0m\u001b[0;34m:\u001b[0m\u001b[0;34m\u001b[0m\u001b[0;34m\u001b[0m\u001b[0m\n\u001b[1;32m      4\u001b[0m     \u001b[0mobserved_len\u001b[0m \u001b[0;34m=\u001b[0m \u001b[0mlen\u001b[0m\u001b[0;34m(\u001b[0m\u001b[0mpayload\u001b[0m\u001b[0;34m[\u001b[0m\u001b[0mfield\u001b[0m\u001b[0;34m]\u001b[0m\u001b[0;34m)\u001b[0m\u001b[0;34m\u001b[0m\u001b[0;34m\u001b[0m\u001b[0m\n\u001b[0;32m----> 5\u001b[0;31m     \u001b[0;32massert\u001b[0m \u001b[0mobserved_len\u001b[0m \u001b[0;34m==\u001b[0m \u001b[0mexpected_len\u001b[0m\u001b[0;34m,\u001b[0m \u001b[0;34mf'The \"{field}\" field should be {expected_len} bytes, was {observed_len} bytes'\u001b[0m\u001b[0;34m\u001b[0m\u001b[0;34m\u001b[0m\u001b[0m\n\u001b[0m\u001b[1;32m      6\u001b[0m \u001b[0;34m\u001b[0m\u001b[0m\n\u001b[1;32m      7\u001b[0m \u001b[0;32mdef\u001b[0m \u001b[0mtest_read_version_payload_initial\u001b[0m\u001b[0;34m(\u001b[0m\u001b[0;34m)\u001b[0m\u001b[0;34m:\u001b[0m\u001b[0;34m\u001b[0m\u001b[0;34m\u001b[0m\u001b[0m\n",
      "\u001b[0;31mAssertionError\u001b[0m: The \"a\" field should be 2 bytes, was 3 bytes"
     ]
    }
   ],
   "source": [
    "assert_len({'a': '123'}, 'a', 2)"
   ]
  },
  {
   "cell_type": "markdown",
   "metadata": {},
   "source": [
    "## Integer fields\n",
    "\n",
    "\n",
    "\n",
    "### Exercise: `read_int`\n",
    "\n",
    "\n",
    "### Exercise: Call `read_int` in appropriate places\n",
    "\n",
    "(version, services, nonce, start_height)\n",
    "\n",
    "\n",
    "### Exercise: `read_bool`\n",
    "\n",
    "\n",
    "\n",
    "### Exercise: Call `read_bool` in appropriate places\n",
    "\n",
    "(relay)\n",
    "\n",
    "## Timestamps\n",
    "\n",
    "In a few different places we are faced with the same decision: an integer or other type has a special meaning. Should we leave it as an integer and define a special \"accessor\" function to translate to its special meaning, or should we convert it to the special meaning outright.\n",
    "\n",
    "First, leaving stuff as ints requires less work and adds less complexity so we will favor that going forward. But we'll define a library of functions \n",
    "\n",
    "Given that our first application of this code will be to write a crawler that saves everything to a SQL database, it would be very nice if we can leave our data in some kind of universal format like an integer.\n",
    "\n",
    "### Exercise: `read_timestamp`\n",
    "\n",
    "\n",
    "### Exercise: Call `read_timestamp` in appropriate places\n",
    "\n",
    "\n",
    "## Variable Length Fields\n",
    "\n",
    "\n",
    "### Exercise: `read_varint`\n",
    "\n",
    "\n",
    "### Exercise: `read_varstr`\n",
    "\n",
    "\n",
    "### Exercise: Call `read_varstr` in appropriate places\n",
    "\n",
    "\n",
    "## Services\n",
    "\n"
   ]
  },
  {
   "cell_type": "code",
   "execution_count": null,
   "metadata": {},
   "outputs": [],
   "source": [
    "def test_read_version_payload_final():\n",
    "    \n",
    "    # TODO: copy paste all the prior test code here so that it \n",
    "    \n",
    "    # Or maybe just call all the prior functions here???\n",
    "    \n",
    "    pass"
   ]
  }
 ],
 "metadata": {
  "kernelspec": {
   "display_name": "Python 3",
   "language": "python",
   "name": "python3"
  },
  "language_info": {
   "codemirror_mode": {
    "name": "ipython",
    "version": 3
   },
   "file_extension": ".py",
   "mimetype": "text/x-python",
   "name": "python",
   "nbconvert_exporter": "python",
   "pygments_lexer": "ipython3",
   "version": "3.7.2"
  }
 },
 "nbformat": 4,
 "nbformat_minor": 2
}
