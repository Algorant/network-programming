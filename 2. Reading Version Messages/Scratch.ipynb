{
 "cells": [
  {
   "cell_type": "code",
   "execution_count": 1,
   "metadata": {},
   "outputs": [],
   "source": [
    "%load_ext autoreload\n",
    "%autoreload 2"
   ]
  },
  {
   "cell_type": "markdown",
   "metadata": {},
   "source": [
    "General questions:\n",
    "* for data types that include a varint, should I add a `count` field when deserializing?\n",
    "* naming: \n",
    "    * should `msg` always be a dictionary? \n",
    "    * what variable should represent the bytestring?\n",
    "- should i nest `net_addr` and `services`?"
   ]
  },
  {
   "cell_type": "code",
   "execution_count": 3,
   "metadata": {},
   "outputs": [],
   "source": [
    "from lib import *"
   ]
  },
  {
   "cell_type": "code",
   "execution_count": null,
   "metadata": {},
   "outputs": [],
   "source": [
    "def deserialize_address(stream, timestamp):\n",
    "    r = {}\n",
    "    if timestamp:\n",
    "        r[\"time\"] = little_endian_to_int(stream.read(4))\n",
    "    r[\"services\"] = stream.read(8)\n",
    "    r[\"ip\"] = bytes_to_ip(stream.read(16))\n",
    "    r[\"port\"] = big_endian_to_int(stream.read(2))\n",
    "    return r\n",
    "\n",
    "\n",
    "def deserialize_version_payload(stream):\n",
    "    r = {}\n",
    "    r[\"version\"] = little_endian_to_int(stream.read(4))\n",
    "    r[\"services\"] = little_endian_to_int(stream.read(8))\n",
    "    r[\"timestamp\"] = little_endian_to_int(stream.read(8))\n",
    "    \n",
    "    # r[\"receiver_address\"] = deserialize_address(stream, timestamp=False)\n",
    "    r[\"receiver_services\"] = little_endian_to_int(stream.read(8))\n",
    "    r[\"receiver_ip\"] = bytes_to_ip(stream.read(16))\n",
    "    r[\"receiver_port\"] = big_endian_to_int(stream.read(2))\n",
    "    \n",
    "    # r[\"sender_address\"] = deserialize_address(stream, timestamp=False)\n",
    "    r[\"sender_services\"] = little_endian_to_int(stream.read(8))    \n",
    "    r[\"sender_ip\"] = bytes_to_ip(stream.read(16))\n",
    "    r[\"sender_port\"] = big_endian_to_int(stream.read(2))\n",
    "    \n",
    "    r[\"nonce\"] = little_endian_to_int(stream.read(8))\n",
    "    r[\"user_agent\"] = stream.read(read_varint(stream))\n",
    "    r[\"latest_block\"] = little_endian_to_int(stream.read(4))\n",
    "    r[\"relay\"] = little_endian_to_int(stream.read(1))\n",
    "    return r\n",
    "\n",
    "\n",
    "def deserialize_verack_payload(stream):\n",
    "    return {}\n",
    "\n",
    "def deserialize_addr_payload(stream):\n",
    "    r = {}\n",
    "    count = read_varint(stream)\n",
    "    r[\"addresses\"] = [read_address(stream) for _ in range(count)]\n",
    "    return r\n",
    "\n",
    "def deserialize_payload(command, stream):\n",
    "    command_to_handler = {\n",
    "        \"version\": deserialize_version_payload,\n",
    "        \"verack\": deserialize_empty_payload,\n",
    "        \"addr\": deserialize_addr_payload,\n",
    "    }\n",
    "    handler = command_to_handler[command]\n",
    "    return handler(stream)\n",
    "    \n",
    "    \n",
    "def deserialize_message(stream):\n",
    "    \"\"\"\n",
    "    nest payload attributes\n",
    "    \"\"\"\n",
    "    magic = stream.deserialize(4)\n",
    "    if magic != NETWORK_MAGIC:\n",
    "        raise Exception(f'Magic is wrong: {magic}')\n",
    "    command = stream.deserialize(12)\n",
    "    command = command.strip(b'\\x00')\n",
    "    payload_length = int.from_bytes(stream.deserialize(4), 'little')\n",
    "    checksum = stream.deserialize(4)\n",
    "    raw_payload = stream.deserialize(payload_length)\n",
    "    calculated_checksum = double_sha256(raw_payload)[:4]\n",
    "    if calculated_checksum != checksum:\n",
    "        raise Exception('Checksum does not match')\n",
    "    payload = deserialize_payload(command, BytesIO(raw_payload))\n",
    "    return {\n",
    "        \"command\": command,\n",
    "        \"payload\": payload,\n",
    "    }"
   ]
  },
  {
   "cell_type": "code",
   "execution_count": null,
   "metadata": {},
   "outputs": [],
   "source": [
    "def deserialize_message(stream):\n",
    "    \"\"\"\n",
    "    command and payload attributes at top level\n",
    "    \"\"\"\n",
    "    msg = {}\n",
    "    magic = stream.deserialize(4)\n",
    "    if magic != NETWORK_MAGIC:\n",
    "        raise Exception(f'Magic is wrong: {magic}')\n",
    "    command = stream.deserialize(12)\n",
    "    msg[\"command\"] = command.strip(b'\\x00')\n",
    "    payload_length = int.from_bytes(stream.deserialize(4), 'little')\n",
    "    checksum = stream.deserialize(4)\n",
    "    raw_payload = stream.deserialize(payload_length)\n",
    "    calculated_checksum = double_sha256(raw_payload)[:4]\n",
    "    if calculated_checksum != checksum:\n",
    "        raise Exception('Checksum does not match')\n",
    "    payload = deserialize_payload(command, BytesIO(raw_payload))\n",
    "    msg.update(payload)\n",
    "    return msg"
   ]
  },
  {
   "cell_type": "markdown",
   "metadata": {},
   "source": [
    "I tend to prefer this second one, especially if we avoid nexting the \"node observations\" ... \n",
    "\n",
    "It's much better than having \"network envelopes\" and \"payloads / messages\". One top level function shoudl hadnle everything\n",
    "\n"
   ]
  },
  {
   "cell_type": "code",
   "execution_count": null,
   "metadata": {},
   "outputs": [],
   "source": [
    "def serialize_version_payload(\n",
    "        version=70015, services=0, timestamp=None,\n",
    "        receiver_services=0,\n",
    "        receiver_ip='0.0.0.0', receiver_port=8333,\n",
    "        sender_services=0,\n",
    "        sender_ip='0.0.0.0', sender_port=8333,\n",
    "        nonce=None, user_agent=b'/buidl-bootcamp/',\n",
    "        latest_block=0, relay=True):\n",
    "    if timestamp is None:\n",
    "        timestamp = int(time.time())\n",
    "    if nonce is None:\n",
    "        nonce = randint(0, 2**64)\n",
    "    result = int_to_little_endian(version, 4)\n",
    "    result += int_to_little_endian(services, 8)\n",
    "    result += int_to_little_endian(timestamp, 8)\n",
    "    result += int_to_little_endian(receiver_services, 8)\n",
    "    result += ip_to_bytes(receiver_ip)\n",
    "    result += int_to_big_endian(receiver_port, 2)\n",
    "    result += int_to_little_endian(sender_services, 8)\n",
    "    result += ip_to_bytes(sender_ip)\n",
    "    result += int_to_little_endian(sender_port, 2)\n",
    "    result += int_to_little_endian(nonce, 8)\n",
    "    result += encode_varint(len(user_agent))\n",
    "    result += user_agent\n",
    "    result += int_to_little_endian(latest_block, 4)\n",
    "    result += int_to_little_endian(int(relay), 1)\n",
    "    return result\n",
    "\n",
    "\n",
    "def serialize_empty_payload(**kwargs):\n",
    "    return b\"\"\n",
    "\n",
    "def serialize_payload(**kwargs):\n",
    "    command_to_handler = {\n",
    "        \"version\": serialize_version_payload,\n",
    "        \"verack\": serialize_empty_payload,\n",
    "        \"getaddr\": serialize_empty_payload,\n",
    "    }\n",
    "    handler = command_to_handler[kwargs['command']]\n",
    "    return handler(**kwargs)\n",
    "\n",
    "def serialize_msg(**kwargs):\n",
    "    result = NETWORK_MAGIC\n",
    "    result += kwargs['command'] + b'\\x00' * (12 - len(command))\n",
    "    payload = serialize_payload(**kwargs)  # right now 'command' will blow this up ...\n",
    "    result += int_to_little_endian(len(payload), 4)\n",
    "    result += double_sha256(payload)[:4]\n",
    "    result += payload\n",
    "    return result\n"
   ]
  },
  {
   "cell_type": "code",
   "execution_count": 8,
   "metadata": {},
   "outputs": [
    {
     "data": {
      "text/plain": [
       "-1"
      ]
     },
     "execution_count": 8,
     "metadata": {},
     "output_type": "execute_result"
    }
   ],
   "source": [
    "def inner():\n",
    "    return -1\n",
    "\n",
    "def outer(**kwargs):\n",
    "    return inner(**kwargs)\n",
    "    \n",
    "outer()"
   ]
  },
  {
   "cell_type": "code",
   "execution_count": 17,
   "metadata": {
    "scrolled": true
   },
   "outputs": [
    {
     "name": "stdout",
     "output_type": "stream",
     "text": [
      "response:  b'\\xf9\\xbe\\xb4\\xd9versio'\n"
     ]
    }
   ],
   "source": [
    "from proto import serialize_msg\n",
    "# FILL THESE IN!\n",
    "address = (\"35.198.151.21\", 8333)\n",
    "\n",
    "sock = socket.create_connection(address)\n",
    "stream = sock.makefile(\"rb\")\n",
    "\n",
    "msg = serialize_msg(command=b'version')\n",
    "sock.send(msg)\n",
    "\n",
    "response = stream.read(10)\n",
    "\n",
    "print(\"response: \", response)"
   ]
  },
  {
   "cell_type": "code",
   "execution_count": null,
   "metadata": {},
   "outputs": [],
   "source": []
  }
 ],
 "metadata": {
  "kernelspec": {
   "display_name": "Python 3",
   "language": "python",
   "name": "python3"
  },
  "language_info": {
   "codemirror_mode": {
    "name": "ipython",
    "version": 3
   },
   "file_extension": ".py",
   "mimetype": "text/x-python",
   "name": "python",
   "nbconvert_exporter": "python",
   "pygments_lexer": "ipython3",
   "version": "3.7.2"
  }
 },
 "nbformat": 4,
 "nbformat_minor": 2
}
