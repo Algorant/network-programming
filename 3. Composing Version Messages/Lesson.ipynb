{
 "cells": [
  {
   "cell_type": "code",
   "execution_count": 1,
   "metadata": {},
   "outputs": [],
   "source": [
    "%load_ext autoreload\n",
    "%autoreload 2"
   ]
  },
  {
   "cell_type": "markdown",
   "metadata": {},
   "source": [
    "# Finishing the Handshake\n",
    "\n",
    "Take a peek at [where we left off last time](../2.%20Reading%20Version%20Messages/Lesson.ipynb#Putting-it-all-together).\n",
    "\n",
    "We were able to entice a response from our peer and then interpret it. However, three problems remain:\n",
    "1. Our initial `version` message payload is hardcoded. We should be able to construct it using any parameters we like.\n",
    "2. After receiving our peer's `version` response, we don't listen for their `verack` response as the [version handshake](https://en.bitcoin.it/wiki/Version_Handshake) says we should.\n",
    "3. We don't send our `verack` upon receipt of our peer's `verack`, the final step in the handshake.\n",
    "\n",
    "Once we fix all these problems our program will be able to join the Bitcoin peer-to-peer network just like a [Bitcoin Core](https://github.com/bitcoin/bitcoin) full node does.  We won't be able to participate nearly as fully or effectively as Bitcoin Core node, but it's a start!\n",
    "\n",
    "The last 2 problems are easy to fix. `verack` messages are easy to serialize and deserialize because they [have no payload](https://en.bitcoin.it/wiki/Protocol_documentation#verack). \n",
    "\n",
    "Problem #1 will be more involved. We've spent a lot of time learning to _deserialize_ Bitcoin network messages: to turn raw bytes into Python objects. The 1st problem demands we do the opposite: _serialize_ Bitcoin messages, to turn Python objects into raw bytes that can be sent over the network to our peers, who may not even have Python installed!\n",
    "\n",
    "If you've ever done any web development I'm sure you've learned to serialize and deserialize JSON, which is the de facto data representation on the web. Bitcoin is no different, but it uses raw bytes instead of JSON.\n",
    "\n",
    "Let's tackle these problems one-by-one."
   ]
  },
  {
   "cell_type": "markdown",
   "metadata": {},
   "source": [
    "# Problem #1: Constructing Version Messages\n",
    "\n",
    "We desire a `serialize_version_payload` function like this:\n",
    "\n",
    "```python\n",
    "version_payoad = serialize_version_payload(\n",
    "    version=7011,\n",
    "    user_agent=b'/buidl-army/',\n",
    ")\n",
    "msg = serialize_msg(command=b'verack', payload=version_payload)\n",
    "sock.send(msg)\n",
    "```\n",
    "\n",
    "`serialize_version_payload` would set default values for every parameter in a version messge and you could override those values by passing them as arguments. So, for example, it would generate a current `timestamp`. It would also have to throw in some dummy data for `recipient_address` and `sender_address`, but these aren't all that bad because node software throws out these attributes anyway.\n",
    "\n",
    "Again, such a function would do the exact opposite from the `read_version_payload` we wrote earlier. The `serialize_message` function would do the opposite of [`read_message`](http://localhost:8889/notebooks/2.%20Reading%20Version%20Messages/Lesson.ipynb#Housekeeping) function we wrote earlier. Now that we learned to do all these `bytes` -> python data conversions, hopefully the inverse python -> `bytes` data conversions will be a little easier!\n",
    "\n",
    "These two functions would prepare the bytes of the the payload, then the bytes of the whole message -- which can be sent directly over the wire via socket to our peer.\n",
    "\n",
    "So which should we implement first? Let's do `serialize_version_payload` because these ideas are fresher in our minds."
   ]
  },
  {
   "cell_type": "markdown",
   "metadata": {},
   "source": [
    "# `serialize_version_payload`\n",
    "\n",
    "Below is the outline of a function which can serialize a payload dictionary -- the kind returned by `read_version_payload` last lesson -- into raw bytes that can be sent over a socket connection."
   ]
  },
  {
   "cell_type": "markdown",
   "metadata": {},
   "source": [
    "[this file](/edit/3.%20Composing%20Version%20Messages/exercises.py)"
   ]
  },
  {
   "cell_type": "code",
   "execution_count": 48,
   "metadata": {},
   "outputs": [],
   "source": [
    "import time\n",
    "from random import randint\n",
    "\n",
    "ZERO = b'\\x00'\n",
    "\n",
    "dummy_address = {\n",
    "    \"services\": 0,\n",
    "    \"ip\": '0.0.0.0',\n",
    "    \"port\": 8333\n",
    "}\n",
    "\n",
    "def serialize_version_payload(\n",
    "        version=70015, services=0, timestamp=None,\n",
    "        receiver_address=dummy_address,\n",
    "        sender_address=dummy_address,\n",
    "        nonce=None, user_agent=b'/buidl-army/',\n",
    "        start_height=0, relay=True):\n",
    "    if timestamp is None:\n",
    "        timestamp = int(time.time())\n",
    "    if nonce is None:\n",
    "        nonce = randint(0, 2**64)\n",
    "    # message starts empty, we add to it for every field\n",
    "    msg = b''\n",
    "    # version\n",
    "    msg += ZERO * 4\n",
    "    # services\n",
    "    msg += ZERO * 8\n",
    "    # timestamp\n",
    "    msg += ZERO * 8\n",
    "    # receiver address\n",
    "    msg += ZERO * 26\n",
    "    # sender address\n",
    "    msg += ZERO * 26\n",
    "    # nonce\n",
    "    msg += ZERO * 8\n",
    "    # user agent\n",
    "    msg += ZERO * 1 # zero byte signifies an empty varstr\n",
    "    # start height\n",
    "    msg += ZERO * 4\n",
    "    # relay\n",
    "    msg += ZERO * 1\n",
    "    return msg"
   ]
  },
  {
   "cell_type": "code",
   "execution_count": 50,
   "metadata": {},
   "outputs": [
    {
     "name": "stdout",
     "output_type": "stream",
     "text": [
      "{'version': 0, 'services': 0, 'timestamp': 0, 'receiver_address': {'services': 0, 'ip': '0.0.0.0', 'port': 0}, 'sender_address': {'services': 0, 'ip': '0.0.0.0', 'port': 0}, 'nonce': 0, 'user_agent': b'', 'start_height': 0, 'relay': 0}\n"
     ]
    }
   ],
   "source": [
    "from io import BytesIO\n",
    "from lib import read_version_payload\n",
    "\n",
    "version_payload_bytes = serialize_version_payload()\n",
    "version_payload_dict = read_version_payload(BytesIO(version_payload_bytes))\n",
    "print(version_payload_dict)"
   ]
  },
  {
   "cell_type": "markdown",
   "metadata": {},
   "source": [
    "A few observations:\n",
    "\n",
    "It has default parameters for every field in a a version message. \n",
    "\n",
    "We need the `if` statements for `timestamp` and `nonce` because the defaults for these values need to be computed when the function is actually run and not when the code is first executed -- `timestamp` should be current unix time when the function is called, `nonce` should be a different random 8-byte number every time the function is called.\n",
    "\n",
    "Finally, we stick the correct number of zero bytes (`b'\\x00'`) for each field as sort of a placeholder.\n",
    "\n",
    "In this lesson we will go field-by-field through this function and replace the zero bytes with the `bytes` serialization of that field.\n",
    "\n",
    "Let's start with the integer fields because there so many of them and because they're simple."
   ]
  },
  {
   "cell_type": "markdown",
   "metadata": {},
   "source": [
    "# Integer Fields\n",
    "\n",
    "`b\\x01` is one way to encode the integer `1` as `bytes` -- in a single byte.\n",
    "\n",
    "But that's not the only way to encode the integer `1` as `bytes` ...\n",
    "\n",
    "`b\\x01\\x00` is another way -- in 2 bytes with little-endian order. \n",
    "\n",
    "`b\\x00\\x00\\x01` is yet another way -- in 3 bytes with big-endian order.\n",
    "\n",
    "We can always pad the encoding with zero-bytes in higher orders-of-magnitude.\n",
    "\n",
    "This ability is essential because it allows use to have fields with fixed size, and fixed field sizes are one of the ways we make sense of the endless string of bytes we receive from our peers. Also, these fixed sized fields can allow for room to grow in the future. For example, timestamps increase over time. We need to make room for them to grow indefinitely into the future.\n",
    "\n",
    "For example, this is how you'd calculate the current unix time:"
   ]
  },
  {
   "cell_type": "code",
   "execution_count": 3,
   "metadata": {},
   "outputs": [
    {
     "data": {
      "text/plain": [
       "1551149436"
      ]
     },
     "execution_count": 3,
     "metadata": {},
     "output_type": "execute_result"
    }
   ],
   "source": [
    "import time\n",
    "\n",
    "now = int(time.time())\n",
    "now"
   ]
  },
  {
   "cell_type": "markdown",
   "metadata": {},
   "source": [
    "Some `timestamp` fields in the bitcoin protocol are only 4 bytes. These require no padding:"
   ]
  },
  {
   "cell_type": "code",
   "execution_count": 51,
   "metadata": {},
   "outputs": [
    {
     "data": {
      "text/plain": [
       "b'|\\xa9t\\\\'"
      ]
     },
     "execution_count": 51,
     "metadata": {},
     "output_type": "execute_result"
    }
   ],
   "source": [
    "now.to_bytes(4, 'little')"
   ]
  },
  {
   "cell_type": "markdown",
   "metadata": {},
   "source": [
    "But eventually these fields will start overflowing. Here I calculate the highest Unix timestamp which can be serialized in only 4 bytes -- `FF FF FF FF`. Then I show the date it corresponds to -- the date these 4 byte timestamp fields will overflow."
   ]
  },
  {
   "cell_type": "code",
   "execution_count": 64,
   "metadata": {
    "scrolled": true
   },
   "outputs": [
    {
     "name": "stdout",
     "output_type": "stream",
     "text": [
      "The biggest 4 byte Unix timestamp is 4294967295\n",
      "4 byte timestamp fields in the Bitcoin protocol will overflow at 2106-02-07 00:28:16\n"
     ]
    }
   ],
   "source": [
    "from datetime import datetime\n",
    "\n",
    "# The biggest 4-byte little endian number: 256**4\n",
    "n_bytes = b'\\xff\\xff\\xff\\xff'\n",
    "n = int.from_bytes(n_bytes, 'little')\n",
    "print('The biggest 4 byte Unix timestamp is', n)\n",
    "\n",
    "overflow_date = datetime.fromtimestamp(n+1)\n",
    "print('4 byte timestamp fields in the Bitcoin protocol will overflow at', overflow_date)"
   ]
  },
  {
   "cell_type": "markdown",
   "metadata": {},
   "source": [
    "This is a big problem and will most likely require a hard fork in the distant future. One of Satoshi's bigger screwups for sure!\n",
    "\n",
    "Other `timestamp` fields, however, are 8 bytes. This is much better. They currently have four bytes of padding and have lots of space to grow in the future:"
   ]
  },
  {
   "cell_type": "code",
   "execution_count": 65,
   "metadata": {},
   "outputs": [
    {
     "name": "stdout",
     "output_type": "stream",
     "text": [
      "Much zero-byte padding, so growing room: \n"
     ]
    },
    {
     "data": {
      "text/plain": [
       "b'|\\xa9t\\\\\\x00\\x00\\x00\\x00'"
      ]
     },
     "execution_count": 65,
     "metadata": {},
     "output_type": "execute_result"
    }
   ],
   "source": [
    "print('Much zero-byte padding, so growing room: ')\n",
    "now.to_bytes(8, 'little')"
   ]
  },
  {
   "cell_type": "markdown",
   "metadata": {},
   "source": [
    "In fact, this range goes so high that your computer probably can't even interpret the high end as a timestamp:"
   ]
  },
  {
   "cell_type": "code",
   "execution_count": 67,
   "metadata": {},
   "outputs": [
    {
     "name": "stdout",
     "output_type": "stream",
     "text": [
      "The biggest 8 byte Unix timestamp is 18446744073709551615\n"
     ]
    },
    {
     "ename": "OverflowError",
     "evalue": "timestamp out of range for platform time_t",
     "output_type": "error",
     "traceback": [
      "\u001b[0;31m---------------------------------------------------------------------------\u001b[0m",
      "\u001b[0;31mOverflowError\u001b[0m                             Traceback (most recent call last)",
      "\u001b[0;32m<ipython-input-67-ed99b3e6f553>\u001b[0m in \u001b[0;36m<module>\u001b[0;34m\u001b[0m\n\u001b[1;32m      5\u001b[0m \u001b[0;34m\u001b[0m\u001b[0m\n\u001b[1;32m      6\u001b[0m \u001b[0;31m# On my machine this date is so far into the future that it can't\u001b[0m\u001b[0;34m\u001b[0m\u001b[0;34m\u001b[0m\u001b[0;34m\u001b[0m\u001b[0m\n\u001b[0;32m----> 7\u001b[0;31m \u001b[0moverflow_date\u001b[0m \u001b[0;34m=\u001b[0m \u001b[0mdatetime\u001b[0m\u001b[0;34m.\u001b[0m\u001b[0mfromtimestamp\u001b[0m\u001b[0;34m(\u001b[0m\u001b[0mn\u001b[0m\u001b[0;34m)\u001b[0m\u001b[0;34m\u001b[0m\u001b[0;34m\u001b[0m\u001b[0m\n\u001b[0m\u001b[1;32m      8\u001b[0m \u001b[0mprint\u001b[0m\u001b[0;34m(\u001b[0m\u001b[0;34m'8-byte timestamp fields in Bitcoin will begin overflowing at'\u001b[0m\u001b[0;34m,\u001b[0m \u001b[0moverflow_date\u001b[0m\u001b[0;34m)\u001b[0m\u001b[0;34m\u001b[0m\u001b[0;34m\u001b[0m\u001b[0m\n",
      "\u001b[0;31mOverflowError\u001b[0m: timestamp out of range for platform time_t"
     ]
    }
   ],
   "source": [
    "# The biggest 4-byte little endian number: 256**4\n",
    "n_bytes = b'\\xff\\xff\\xff\\xff\\xff\\xff\\xff\\xff'\n",
    "n = int.from_bytes(n_bytes, 'little')\n",
    "print('The biggest 8 byte Unix timestamp is', n)\n",
    "\n",
    "# On my machine this date is so far into the future that it can't \n",
    "overflow_date = datetime.fromtimestamp(n+1)\n",
    "print('8-byte timestamp fields in Bitcoin will overflow on', overflow_date)"
   ]
  },
  {
   "cell_type": "markdown",
   "metadata": {},
   "source": [
    "8 byte Unix timetamp fields won't overflow for *billions* of years!"
   ]
  },
  {
   "cell_type": "code",
   "execution_count": 69,
   "metadata": {},
   "outputs": [
    {
     "name": "stdout",
     "output_type": "stream",
     "text": [
      "8-byte timestamp fields in Bitcoin will overflow in the year 584,942,419,325\n"
     ]
    }
   ],
   "source": [
    "secs_in_year = 365 * 24 * 60 * 60\n",
    "\n",
    "years = n // secs_in_year\n",
    "\n",
    "print(f'8-byte timestamp fields in Bitcoin will overflow in the year {1970 + years:,d}')"
   ]
  },
  {
   "cell_type": "markdown",
   "metadata": {},
   "source": [
    "Now that's what I call breathing room!\n",
    "\n",
    "Anyway, hopefully now you see why it's nice to have fixed-length fields with some room to grow into the future. \n",
    "\n",
    "### Exercise: `int_to_little_endian(int, size)` and `int_to_big_endian(int, size)` \n",
    "\n",
    "What does all this mean for our code?\n",
    "\n",
    "In order to deal with such fields, our `int_to_little_endian` function needs to take 2 arguments -- the integer we will encode and the number of bytes our serialization should occupy.\n",
    "\n",
    "Take a shot little-endian serialization first:"
   ]
  },
  {
   "cell_type": "code",
   "execution_count": 70,
   "metadata": {},
   "outputs": [],
   "source": [
    "def int_to_little_endian(integer, length):\n",
    "    raise NotImplementedError()"
   ]
  },
  {
   "cell_type": "code",
   "execution_count": 71,
   "metadata": {},
   "outputs": [],
   "source": [
    "def int_to_little_endian(integer, length):\n",
    "    return integer.to_bytes(length, 'little')"
   ]
  },
  {
   "cell_type": "code",
   "execution_count": 72,
   "metadata": {},
   "outputs": [
    {
     "name": "stdout",
     "output_type": "stream",
     "text": [
      "Test passed!\n"
     ]
    }
   ],
   "source": [
    "def test_int_to_little_endian():\n",
    "    integer = 22\n",
    "    bytes = b'\\x16\\x00\\x00\\x00\\x00\\x00\\x00\\x00\\x00\\x00'\n",
    "    result = int_to_little_endian(integer, 10)\n",
    "    assert bytes == result, f'Correct answer: {bytes}. Your answer: {result}'\n",
    "    print(\"Test passed!\")\n",
    "\n",
    "test_int_to_little_endian()"
   ]
  },
  {
   "cell_type": "markdown",
   "metadata": {},
   "source": [
    "Now give big-endian serialization a try:"
   ]
  },
  {
   "cell_type": "code",
   "execution_count": 73,
   "metadata": {},
   "outputs": [],
   "source": [
    "def int_to_big_endian(integer, length):\n",
    "    raise NotImplementedError()"
   ]
  },
  {
   "cell_type": "code",
   "execution_count": 74,
   "metadata": {},
   "outputs": [],
   "source": [
    "def int_to_big_endian(integer, length):\n",
    "    return integer.to_bytes(length, 'big')"
   ]
  },
  {
   "cell_type": "code",
   "execution_count": 75,
   "metadata": {},
   "outputs": [
    {
     "name": "stdout",
     "output_type": "stream",
     "text": [
      "Test passed!\n"
     ]
    }
   ],
   "source": [
    "def test_int_to_big_endian():\n",
    "    integer = 22\n",
    "    bytes = b'\\x00\\x00\\x00\\x00\\x00\\x00\\x00\\x00\\x00\\x16'\n",
    "    result = int_to_big_endian(integer, 10)\n",
    "    assert bytes == result, f'Correct answer: {bytes}. Your answer: {result}'\n",
    "    print(\"Test passed!\")\n",
    "\n",
    "test_int_to_big_endian()"
   ]
  },
  {
   "cell_type": "markdown",
   "metadata": {},
   "source": [
    "### Exercise: Update `serialize_version_payload` to serialize all integer fields integers using `little_endian_to_int` and `big_endian_to_int`\n",
    "\n",
    "`version`, `services`, `timestamp`, `nonce`, and `start_height` are the fields we're interested in here."
   ]
  },
  {
   "cell_type": "code",
   "execution_count": 76,
   "metadata": {},
   "outputs": [],
   "source": [
    "def serialize_version_payload(\n",
    "        version=70015, services=0, timestamp=None,\n",
    "        receiver_address=dummy_address,\n",
    "        sender_address=dummy_address,\n",
    "        nonce=None, user_agent=b'/buidl-army/',\n",
    "        start_height=0, relay=True):\n",
    "    if timestamp is None:\n",
    "        timestamp = int(time.time())\n",
    "    if nonce is None:\n",
    "        nonce = randint(0, 2**64)\n",
    "    msg = b''\n",
    "    # version\n",
    "    msg += ZERO * 4\n",
    "    # services\n",
    "    msg += ZERO * 8\n",
    "    # timestamp\n",
    "    msg += ZERO * 8\n",
    "    # receiver address\n",
    "    msg += ZERO * 26\n",
    "    # sender address\n",
    "    msg += ZERO * 26\n",
    "    # nonce\n",
    "    msg += ZERO * 8\n",
    "    # user agent\n",
    "    msg += ZERO * 1 # a single zero byte is the empty varstr\n",
    "    # start height\n",
    "    msg += ZERO * 4\n",
    "    # relay\n",
    "    msg += ZERO * 1\n",
    "    return msg"
   ]
  },
  {
   "cell_type": "code",
   "execution_count": 77,
   "metadata": {},
   "outputs": [],
   "source": [
    "def serialize_version_payload(\n",
    "        version=70015, services=0, timestamp=None,\n",
    "        receiver_address=dummy_address,\n",
    "        sender_address=dummy_address,\n",
    "        nonce=None, user_agent=b'/buidl-bootcamp/',\n",
    "        start_height=0, relay=True):\n",
    "    if timestamp is None:\n",
    "        timestamp = int(time.time())\n",
    "    if nonce is None:\n",
    "        nonce = randint(0, 2**64)\n",
    "    msg = b''\n",
    "    # version\n",
    "    msg += int_to_little_endian(version, 4)\n",
    "    # services\n",
    "    msg += int_to_little_endian(services, 8)\n",
    "    # timestamp\n",
    "    msg += int_to_little_endian(timestamp, 8)\n",
    "    # receiver address\n",
    "    msg += ZERO * 26\n",
    "    # sender address\n",
    "    msg += ZERO * 26\n",
    "    # nonce\n",
    "    msg += int_to_little_endian(nonce, 8)\n",
    "    # user agent\n",
    "    msg += ZERO * 1 # zero byte signifies an empty varstr\n",
    "    # start height\n",
    "    msg += int_to_little_endian(start_height, 4)\n",
    "    # relay\n",
    "    msg += ZERO * 1\n",
    "    return msg"
   ]
  },
  {
   "cell_type": "code",
   "execution_count": 78,
   "metadata": {
    "scrolled": true
   },
   "outputs": [
    {
     "name": "stdout",
     "output_type": "stream",
     "text": [
      "Test passed!\n"
     ]
    }
   ],
   "source": [
    "from io import BytesIO\n",
    "from lib import read_version_payload\n",
    "\n",
    "def test_serialize_version_payload_integers():\n",
    "    now = int(time.time()) - 10\n",
    "    version_payload_dict = serialize_version_payload(\n",
    "        services=3, nonce=4, timestamp=now, start_height=50)\n",
    "    version_payload = read_version_payload(BytesIO(version_payload_dict))    \n",
    "    assert version_payload['version'] == 70015\n",
    "    assert version_payload['services'] == 3\n",
    "    assert version_payload['timestamp'] == now\n",
    "    assert version_payload['nonce'] == 4\n",
    "    assert version_payload['start_height'] == 50\n",
    "    print('Test passed!')\n",
    "    \n",
    "    \n",
    "test_serialize_version_payload_integers()"
   ]
  },
  {
   "cell_type": "markdown",
   "metadata": {},
   "source": [
    "## Services\n",
    "\n",
    "It's all well and good that we can serialize integers. But we still don't really know how to produce the integers themselves in one case: `services`\n",
    "\n",
    "Let's say I want to set my services bitfield to only offer support for `NODE_NETWORK` and `NODE_BLOOM`. It would currently require some tricky calculations by hand. Let's write a function that will take care of this for us:\n",
    "\n",
    "### Exercise: `services_dict_to_int`\n",
    "\n",
    "Here's how I would do this. I'd make a dictionary mapping `services_dict` keys to the the value of that bit:\n",
    "\n",
    "```python\n",
    "    key_to_multiplier = {\n",
    "        'NODE_NETWORK': 2**0,\n",
    "        'NODE_GETUTXO': 2**1,\n",
    "        'NODE_BLOOM': 2**2,\n",
    "        'NODE_WITNESS': 2**3,\n",
    "        'NODE_NETWORK_LIMITED': 2**10,\n",
    "    }\n",
    "```\n",
    "\n",
    "Then I'd look over the keys and value in `services_dict` (`for key, value in services_dict.items()`) and sum up the `services` integers with the assistance of `key_to_multiplier`."
   ]
  },
  {
   "cell_type": "code",
   "execution_count": 19,
   "metadata": {},
   "outputs": [],
   "source": [
    "def services_dict_to_int(services_dict):\n",
    "    raise NotImplementedError()"
   ]
  },
  {
   "cell_type": "code",
   "execution_count": 20,
   "metadata": {},
   "outputs": [],
   "source": [
    "def services_dict_to_int(services_dict):\n",
    "    key_to_multiplier = {\n",
    "        'NODE_NETWORK': 2**0,\n",
    "        'NODE_GETUTXO': 2**1,\n",
    "        'NODE_BLOOM': 2**2,\n",
    "        'NODE_WITNESS': 2**3,\n",
    "        'NODE_NETWORK_LIMITED': 2**10,\n",
    "    }\n",
    "    services_int = 0\n",
    "    for key, on_or_off in services_dict.items():\n",
    "        services_int += int(on_or_off) * key_to_multiplier.get(key, 0)\n",
    "    return services_int"
   ]
  },
  {
   "cell_type": "code",
   "execution_count": 21,
   "metadata": {},
   "outputs": [
    {
     "name": "stdout",
     "output_type": "stream",
     "text": [
      "Test passed!\n"
     ]
    }
   ],
   "source": [
    "def test_services_dict_to_int():\n",
    "    services_dict = {\n",
    "        'NODE_NETWORK': True,\n",
    "        'NODE_GETUTXO': False,\n",
    "        'NODE_BLOOM': True,\n",
    "        'NODE_WITNESS': False,\n",
    "        'NODE_CASH': True,\n",
    "        'NODE_NETWORK_LIMITED': True,\n",
    "    }\n",
    "    answer = 1 + 4 + 1024\n",
    "    result = services_dict_to_int(services_dict)\n",
    "    assert answer == result,\\\n",
    "        f'services_dict_to_int({repr(services_dict)}) should equal {answer}, was {result}'\n",
    "    print('Test passed!')\n",
    "    \n",
    "test_services_dict_to_int()"
   ]
  },
  {
   "cell_type": "markdown",
   "metadata": {},
   "source": [
    "### Exercise: Update `serialize_version_payload` to take `services_dict` argument\n",
    "\n",
    "Replace the `services` argument with a `services_dict` argument.\n",
    "\n",
    "Then use `services_dict_to_int` within the body of the function to convert `services_dict` into an integer. BTW give it a default value of the empty dictionary `{}`"
   ]
  },
  {
   "cell_type": "code",
   "execution_count": 79,
   "metadata": {},
   "outputs": [],
   "source": [
    "def serialize_version_payload(\n",
    "        version=70015, services=0, timestamp=None,\n",
    "        receiver_address=dummy_address,\n",
    "        sender_address=dummy_address,\n",
    "        nonce=None, user_agent=b'/buidl-army/',\n",
    "        start_height=0, relay=True):\n",
    "    raise NotImplementedError()"
   ]
  },
  {
   "cell_type": "code",
   "execution_count": 80,
   "metadata": {},
   "outputs": [],
   "source": [
    "def serialize_version_payload(\n",
    "        version=70015, services_dict={}, timestamp=None,\n",
    "        receiver_address=dummy_address,\n",
    "        sender_address=dummy_address,\n",
    "        nonce=None, user_agent=b'/buidl-army/',\n",
    "        start_height=0, relay=True):\n",
    "    if timestamp is None:\n",
    "        timestamp = int(time.time())\n",
    "    if nonce is None:\n",
    "        nonce = randint(0, 2**64)\n",
    "    msg = b''\n",
    "    # version\n",
    "    msg += int_to_little_endian(version, 4)\n",
    "    # services\n",
    "    services = services_dict_to_int(services_dict)\n",
    "    msg += int_to_little_endian(services, 8)\n",
    "    # timestamp\n",
    "    msg += int_to_little_endian(timestamp, 8)\n",
    "    # receiver address\n",
    "    msg += ZERO * 26\n",
    "    # sender address\n",
    "    msg += ZERO * 26\n",
    "    # nonce\n",
    "    msg += int_to_little_endian(nonce, 8)\n",
    "    # user agent\n",
    "    msg += ZERO * 1 # zero byte signifies an empty varstr\n",
    "    # start height\n",
    "    msg += int_to_little_endian(start_height, 4)\n",
    "    # relay\n",
    "    msg += ZERO * 1\n",
    "    return msg"
   ]
  },
  {
   "cell_type": "code",
   "execution_count": 81,
   "metadata": {},
   "outputs": [
    {
     "name": "stdout",
     "output_type": "stream",
     "text": [
      "Test passed!\n"
     ]
    }
   ],
   "source": [
    "def test_serialize_version_payload_services_dict():\n",
    "    now = int(time.time()) - 10\n",
    "    version_payload = serialize_version_payload(\n",
    "        services_dict={'NODE_NETWORK': True, 'NODE_BLOOM': True}, \n",
    "        nonce=4, timestamp=now, start_height=50)\n",
    "    version_payload = read_version_payload(BytesIO(version_payload))\n",
    "    assert version_payload['version'] == 70015\n",
    "    assert version_payload['services'] == 5\n",
    "    assert version_payload['timestamp'] == now\n",
    "    assert version_payload['nonce'] == 4\n",
    "    assert version_payload['start_height'] == 50\n",
    "    print('Test passed!')\n",
    "    \n",
    "test_serialize_version_payload_services_dict()"
   ]
  },
  {
   "cell_type": "markdown",
   "metadata": {},
   "source": [
    "# Boolen Fields\n",
    "\n",
    "### Exercise: `bool_to_bytes(bool)`\n",
    "\n",
    "Write a function that will interpret a boolean as bytes"
   ]
  },
  {
   "cell_type": "code",
   "execution_count": 82,
   "metadata": {},
   "outputs": [],
   "source": [
    "def bool_to_bytes(bool):\n",
    "    raise NotImplementedError()"
   ]
  },
  {
   "cell_type": "code",
   "execution_count": 83,
   "metadata": {},
   "outputs": [],
   "source": [
    "def bool_to_bytes(bool):\n",
    "    return bytes([int(bool)])"
   ]
  },
  {
   "cell_type": "code",
   "execution_count": 84,
   "metadata": {},
   "outputs": [
    {
     "name": "stdout",
     "output_type": "stream",
     "text": [
      "Test passed!\n"
     ]
    }
   ],
   "source": [
    "def test_bytes_to_bool():\n",
    "    assert bool_to_bytes(True) == b'\\x01', \\\n",
    "        f'bool_to_bytes(False) should equal b\"\\\\x01\", was {bool_to_bytes(True)}'\n",
    "    assert bool_to_bytes(False) == b'\\x00',\\\n",
    "        f'bool_to_bytes(False) should equal b\"\\\\x00\", was {bool_to_bytes(False)}'\n",
    "    print('Test passed!')\n",
    "    \n",
    "test_bytes_to_bool()"
   ]
  },
  {
   "cell_type": "code",
   "execution_count": null,
   "metadata": {},
   "outputs": [],
   "source": []
  },
  {
   "cell_type": "code",
   "execution_count": 91,
   "metadata": {},
   "outputs": [],
   "source": [
    "def serialize_version_payload(\n",
    "        version=70015, services_dict={}, timestamp=None,\n",
    "        receiver_address=dummy_address,\n",
    "        sender_address=dummy_address,\n",
    "        nonce=None, user_agent=b'/buidl-bootcamp/',\n",
    "        start_height=0, relay=True):\n",
    "    raise NotImplementedError()"
   ]
  },
  {
   "cell_type": "code",
   "execution_count": 208,
   "metadata": {},
   "outputs": [],
   "source": [
    "def serialize_version_payload(\n",
    "        version=70015, services_dict={}, timestamp=None,\n",
    "        receiver_address=dummy_address,\n",
    "        sender_address=dummy_address,\n",
    "        nonce=None, user_agent=b'/buidl-bootcamp/',\n",
    "        start_height=0, relay=True):\n",
    "    if timestamp is None:\n",
    "        timestamp = int(time.time())\n",
    "    if nonce is None:\n",
    "        nonce = randint(0, 2**64)\n",
    "    msg = b''\n",
    "    # version\n",
    "    msg += int_to_little_endian(version, 4)\n",
    "    # services\n",
    "    services = services_dict_to_int(services_dict)\n",
    "    msg += int_to_little_endian(services, 8)\n",
    "    # timestamp\n",
    "    msg += int_to_little_endian(timestamp, 8)\n",
    "    # receiver address\n",
    "    msg += ZERO * 26\n",
    "    # sender address\n",
    "    msg += ZERO * 26\n",
    "    # nonce\n",
    "    msg += int_to_little_endian(nonce, 8)\n",
    "    # user agent\n",
    "    msg += serialize_varstr(user_agent)\n",
    "    # start height\n",
    "    msg += int_to_little_endian(start_height, 4)\n",
    "    # relay\n",
    "    msg += bool_to_bytes(relay)\n",
    "    return msg"
   ]
  },
  {
   "cell_type": "code",
   "execution_count": 93,
   "metadata": {
    "scrolled": true
   },
   "outputs": [
    {
     "name": "stdout",
     "output_type": "stream",
     "text": [
      "Test passed!\n"
     ]
    }
   ],
   "source": [
    "def test_serialize_version_payload_services_dict():\n",
    "    now = int(time.time()) - 10\n",
    "    version_payload = serialize_version_payload(\n",
    "        services_dict={'NODE_NETWORK': True, 'NODE_BLOOM': True}, \n",
    "        nonce=4, timestamp=now, start_height=50, user_agent=b'/buidl-army/')\n",
    "    version_payload = read_version_payload(BytesIO(version_payload))\n",
    "    assert version_payload['version'] == 70015\n",
    "    assert version_payload['services'] == 5\n",
    "    assert version_payload['timestamp'] == now\n",
    "    assert version_payload['nonce'] == 4\n",
    "    assert version_payload['start_height'] == 50\n",
    "    assert version_payload['user_agent'] == b'/buidl-army/'\n",
    "    assert version_payload['relay'] is True\n",
    "    print('Test passed!')\n",
    "    \n",
    "test_serialize_version_payload_services_dict()"
   ]
  },
  {
   "cell_type": "markdown",
   "metadata": {},
   "source": [
    "# Variable Length Fields\n",
    "\n",
    "Next comes the `user_agent` field of type `varstr`.\n",
    "\n",
    "Remember how `varstr` is itself composed of 2 fields, a `varint` followed n raw bytes when n is the value of the `varint` field?\n",
    "\n",
    "![image](../images/varstr.png)\n",
    "\n",
    "Therefore `serialize_varstr` will need to call a `serialize_varint` function. So let's implement `serizlize_varint` first.\n",
    "\n",
    "### Exercise: `serialize_varint`\n",
    "\n",
    "Recall the algorithm for varint serialization of some number `n`:\n",
    "\n",
    "* If `n` is less than 253, return `n` as a single byte\n",
    "* Else if `n` can fit in 2 bytes (less than 256**2) return `b'fd'`, the marker for a 2 byte varint, followed by `n` serialized in 4 little-endian bytes. \n",
    "* Else if `n` can fit in 4 bytes (less than 256**4) return `b'fe'`, the marker for a 4 byte varint, followed by `n` serialized in 4 little-endian bytes. \n",
    "* Else if `n` can fit in 8 bytes (less than 256**8) return `b'ff'`, the marker for an 8 byte varint, followed by `n` serialized in 8 little-endian bytes. \n",
    "\n",
    "Try to implement this. \n",
    "\n",
    "If you want to play around with a finished version of the function to get a better sense for how it works you can make a new cell and import this one: `from lib import serialize_varint`"
   ]
  },
  {
   "cell_type": "code",
   "execution_count": 87,
   "metadata": {},
   "outputs": [],
   "source": [
    "def serialize_varint(i):\n",
    "    raise NotImplementedError()"
   ]
  },
  {
   "cell_type": "code",
   "execution_count": 88,
   "metadata": {},
   "outputs": [],
   "source": [
    "def serialize_varint(i):\n",
    "    if i < 0xfd:\n",
    "        return bytes([i])\n",
    "    elif i < 256**2:\n",
    "        return b'\\xfd' + int_to_little_endian(i, 2)\n",
    "    elif i < 256**4:\n",
    "        return b'\\xfe' + int_to_little_endian(i, 4)\n",
    "    elif i < 256**8:\n",
    "        return b'\\xff' + int_to_little_endian(i, 8)\n",
    "    else:\n",
    "        raise RuntimeError('integer too large: {}'.format(i))\n"
   ]
  },
  {
   "cell_type": "code",
   "execution_count": 89,
   "metadata": {},
   "outputs": [
    {
     "name": "stdout",
     "output_type": "stream",
     "text": [
      "Test passed!\n"
     ]
    }
   ],
   "source": [
    "def test_serialize_varint():\n",
    "    from lib import serialize_varint as _serialize_varint \n",
    "    numbers = [10+256**i for i in [0, 1, 3, 7]]\n",
    "    for i in numbers:\n",
    "        expected = _serialize_varint(i)\n",
    "        result = serialize_varint(i)\n",
    "        assert expected == result,\\\n",
    "            f'serialize_varint({i}) should return {expected}, returned {result}'\n",
    "\n",
    "    print('Test passed!')\n",
    "\n",
    "test_serialize_varint()"
   ]
  },
  {
   "cell_type": "markdown",
   "metadata": {},
   "source": [
    "### Exercise: `serialize_varstr(bytes)`\n",
    "\n",
    "There are two steps here: \n",
    "* Calculate the `varint` serialization of the length of the bytes\n",
    "* Return this varint concatenated with the bytes themselves"
   ]
  },
  {
   "cell_type": "code",
   "execution_count": 31,
   "metadata": {},
   "outputs": [],
   "source": [
    "def serialize_varstr(bytes):\n",
    "    raise NotImplementedError()"
   ]
  },
  {
   "cell_type": "code",
   "execution_count": 32,
   "metadata": {},
   "outputs": [],
   "source": [
    "def serialize_varstr(bytes):\n",
    "    return serialize_varint(len(bytes)) + bytes"
   ]
  },
  {
   "cell_type": "code",
   "execution_count": 90,
   "metadata": {},
   "outputs": [
    {
     "name": "stdout",
     "output_type": "stream",
     "text": [
      "Test passed!\n"
     ]
    }
   ],
   "source": [
    "def test_serialize_varstr():\n",
    "    from lib import serialize_varstr as _serialize_varstr \n",
    "    bytestrings = [\n",
    "        b\"hodl\",\n",
    "        b\"A purely peer-to-peer version of electronic cash would allow online payments to be sent directly from one party to another without going through a financial institution. Digital signatures provide part of the solution, but the main benefits are lost if a trusted third party is still required to prevent double-spending. We propose a solution to the double-spending problem using a peer-to-peer network.  The network timestamps transactions by hashing them into an ongoing chain of hash-based proof-of-work, forming a record that cannot be changed without redoing the proof-of-work. The longest chain not only serves as proof of the sequence of events witnessed, but proof that it came from the largest pool of CPU power. As long as a majority of CPU power is controlled by nodes that are not cooperating to attack the network, they'll generate the longest chain and outpace attackers. The network itself requires minimal structure. Messages are broadcast on a best effort basis, and nodes can leave and rejoin the network at will, accepting the longest proof-of-work chain as proof of what happened while they were gone.\",\n",
    "    ]\n",
    "    \n",
    "    for b in bytestrings:\n",
    "        answer = _serialize_varstr(b)\n",
    "        result = serialize_varstr(b)\n",
    "        assert result == answer,\\\n",
    "            f'serialize_varstr({b}) should be {answer}, was {result}'\n",
    "    \n",
    "    print('Test passed!')\n",
    "    \n",
    "test_serialize_varstr()"
   ]
  },
  {
   "cell_type": "markdown",
   "metadata": {},
   "source": [
    "### Exercise: Update `serialize_version_payload` to serialize the `user_agent` as a `varstr`"
   ]
  },
  {
   "cell_type": "code",
   "execution_count": 91,
   "metadata": {},
   "outputs": [],
   "source": [
    "def serialize_version_payload(\n",
    "        version=70015, services_dict={}, timestamp=None,\n",
    "        receiver_address=dummy_address,\n",
    "        sender_address=dummy_address,\n",
    "        nonce=None, user_agent=b'/buidl-bootcamp/',\n",
    "        start_height=0, relay=True):\n",
    "    raise NotImplementedError()"
   ]
  },
  {
   "cell_type": "code",
   "execution_count": 92,
   "metadata": {},
   "outputs": [],
   "source": [
    "def serialize_version_payload(\n",
    "        version=70015, services_dict={}, timestamp=None,\n",
    "        receiver_address=dummy_address,\n",
    "        sender_address=dummy_address,\n",
    "        nonce=None, user_agent=b'/buidl-bootcamp/',\n",
    "        start_height=0, relay=True):\n",
    "    if timestamp is None:\n",
    "        timestamp = int(time.time())\n",
    "    if nonce is None:\n",
    "        nonce = randint(0, 2**64)\n",
    "    msg = b''\n",
    "    # version\n",
    "    msg += int_to_little_endian(version, 4)\n",
    "    # services\n",
    "    services = services_dict_to_int(services_dict)\n",
    "    msg += int_to_little_endian(services, 8)\n",
    "    # timestamp\n",
    "    msg += int_to_little_endian(timestamp, 8)\n",
    "    # receiver address\n",
    "    msg += ZERO * 26\n",
    "    # sender address\n",
    "    msg += ZERO * 26\n",
    "    # nonce\n",
    "    msg += int_to_little_endian(nonce, 8)\n",
    "    # user agent\n",
    "    msg += serialize_varstr(user_agent)\n",
    "    # start height\n",
    "    msg += int_to_little_endian(start_height, 4)\n",
    "    # relay\n",
    "    msg += bool_to_bytes(relay)\n",
    "    return msg"
   ]
  },
  {
   "cell_type": "code",
   "execution_count": 93,
   "metadata": {
    "scrolled": true
   },
   "outputs": [
    {
     "name": "stdout",
     "output_type": "stream",
     "text": [
      "Test passed!\n"
     ]
    }
   ],
   "source": [
    "def test_serialize_version_payload_services_dict():\n",
    "    now = int(time.time()) - 10\n",
    "    version_payload = serialize_version_payload(\n",
    "        services_dict={'NODE_NETWORK': True, 'NODE_BLOOM': True}, \n",
    "        nonce=4, timestamp=now, start_height=50, user_agent=b'/buidl-army/')\n",
    "    version_payload = read_version_payload(BytesIO(version_payload))\n",
    "    assert version_payload['version'] == 70015\n",
    "    assert version_payload['services'] == 5\n",
    "    assert version_payload['timestamp'] == now\n",
    "    assert version_payload['nonce'] == 4\n",
    "    assert version_payload['start_height'] == 50\n",
    "    assert version_payload['user_agent'] == b'/buidl-army/'\n",
    "    print('Test passed!')\n",
    "    \n",
    "test_serialize_version_payload_services_dict()"
   ]
  },
  {
   "cell_type": "markdown",
   "metadata": {},
   "source": [
    "# \"Network Address\" Type\n",
    "\n",
    "![image](../images/network-address.png)\n",
    "\n",
    "Recall that network addresses are composed of 4 fields: `timestamp`, `services`, `ip` and a `port`. The latter three are always present, but the `timestamp` is present in all circumstances except version messages -- so our serialization code will need a flag for this just like our deserialization code had.\n",
    "\n",
    "Here's how we deserialized network messages in the last lesson:"
   ]
  },
  {
   "cell_type": "code",
   "execution_count": 39,
   "metadata": {},
   "outputs": [],
   "source": [
    "def read_address(stream, timestamp):\n",
    "    r = {}\n",
    "    if timestamp:\n",
    "        r[\"timestamp\"] = little_endian_to_int(stream.read(4))\n",
    "    r[\"services\"] = little_endian_to_int(stream.read(8))\n",
    "    r[\"ip\"] = bytes_to_ip(stream.read(16))\n",
    "    r[\"port\"] = big_endian_to_int(stream.read(2))\n",
    "    return r"
   ]
  },
  {
   "cell_type": "markdown",
   "metadata": {},
   "source": [
    "This takes a byte stream and a `has_timestamp` flag and returns a dictionary containing all the informtaion about this address. Once again, we need to do the opposite.\n",
    "\n",
    "Honestly, this lesson is running a little long and this code won't be terribly useful to us. I think you get the idea. I'm just going to give you this one:"
   ]
  },
  {
   "cell_type": "code",
   "execution_count": 40,
   "metadata": {},
   "outputs": [],
   "source": [
    "import socket\n",
    "\n",
    "IPV4_PREFIX = b\"\\x00\" * 10 + b\"\\x00\" * 2\n",
    "\n",
    "def ip_to_bytes(ip):\n",
    "    if \":\" in ip:\n",
    "        return socket.inet_pton(socket.AF_INET6, ip)\n",
    "    else:\n",
    "        return IPV4_PREFIX + socket.inet_pton(socket.AF_INET, ip)\n",
    "\n",
    "def serialize_address(address, has_timestamp):\n",
    "    result = b\"\"\n",
    "    if has_timestamp:\n",
    "        result += int_to_little_endian(address['timestamp'], 8)\n",
    "    result += int_to_little_endian(address['services'], 8)\n",
    "    result += ip_to_bytes(address['ip'])\n",
    "    result += int_to_big_endian(address['port'], 2)\n",
    "    return result"
   ]
  },
  {
   "cell_type": "markdown",
   "metadata": {},
   "source": [
    "### Exercise: Update `serialize_version_payload` to serialize network addresses\n",
    "\n",
    "Remember, in the context of the version message the `has_timestamp` flag should be set to false."
   ]
  },
  {
   "cell_type": "code",
   "execution_count": 94,
   "metadata": {},
   "outputs": [],
   "source": [
    "def serialize_version_payload(\n",
    "        version=70015, services_dict={}, timestamp=None,\n",
    "        receiver_address=dummy_address,\n",
    "        sender_address=dummy_address,\n",
    "        nonce=None, user_agent=b'/buidl-bootcamp/',\n",
    "        start_height=0, relay=True):\n",
    "    raise NotImplementedError()"
   ]
  },
  {
   "cell_type": "code",
   "execution_count": 209,
   "metadata": {},
   "outputs": [],
   "source": [
    "def serialize_version_payload(\n",
    "        version=70015, services_dict={}, timestamp=None,\n",
    "        receiver_address=dummy_address,\n",
    "        sender_address=dummy_address,\n",
    "        nonce=None, user_agent=b'/buidl-bootcamp/',\n",
    "        start_height=0, relay=True):\n",
    "    if timestamp is None:\n",
    "        timestamp = int(time.time())\n",
    "    if nonce is None:\n",
    "        nonce = randint(0, 2**64)\n",
    "    msg = b''\n",
    "    # version\n",
    "    msg += int_to_little_endian(version, 4)\n",
    "    # services\n",
    "    services = services_dict_to_int(services_dict)\n",
    "    msg += int_to_little_endian(services, 8)\n",
    "    # timestamp\n",
    "    msg += int_to_little_endian(timestamp, 8)\n",
    "    # receiver address\n",
    "    msg += serialize_address(receiver_address, has_timestamp=False)\n",
    "    # sender address\n",
    "    msg += serialize_address(sender_address, has_timestamp=False)\n",
    "    # nonce\n",
    "    msg += int_to_little_endian(nonce, 8)\n",
    "    # user agent\n",
    "    msg += serialize_varstr(user_agent)\n",
    "    # start height\n",
    "    msg += int_to_little_endian(start_height, 4)\n",
    "    # relay\n",
    "    msg += bool_to_bytes(relay)\n",
    "    return msg"
   ]
  },
  {
   "cell_type": "code",
   "execution_count": 96,
   "metadata": {
    "scrolled": false
   },
   "outputs": [
    {
     "name": "stdout",
     "output_type": "stream",
     "text": [
      "Test passed!\n"
     ]
    }
   ],
   "source": [
    "def test_serialize_version_payload_services_dict():\n",
    "    now = int(time.time()) - 10\n",
    "    version_payload = serialize_version_payload(\n",
    "        services_dict={'NODE_NETWORK': True, 'NODE_BLOOM': True}, \n",
    "        nonce=4, timestamp=now, start_height=50, user_agent=b'/buidl-army/')\n",
    "    version_payload = read_version_payload(BytesIO(version_payload))\n",
    "    assert version_payload['version'] == 70015\n",
    "    assert version_payload['services'] == 5\n",
    "    assert version_payload['timestamp'] == now\n",
    "    assert version_payload['receiver_address'] == dummy_address\n",
    "    assert version_payload['sender_address'] == dummy_address\n",
    "    assert version_payload['nonce'] == 4\n",
    "    assert version_payload['start_height'] == 50\n",
    "    assert version_payload['user_agent'] == b'/buidl-army/'\n",
    "\n",
    "    print('Test passed!')\n",
    "    \n",
    "test_serialize_version_payload_services_dict()"
   ]
  },
  {
   "cell_type": "markdown",
   "metadata": {},
   "source": [
    "# Serializing Messages\n",
    "\n",
    "We can completely serialize version message payloads. Yay!\n",
    "\n",
    "Now we just need to serialize the outer message structure itself. This will just be reversing the `read_message` function we created in the first lesson:"
   ]
  },
  {
   "cell_type": "code",
   "execution_count": 104,
   "metadata": {},
   "outputs": [],
   "source": [
    "# To refresh your memory ...\n",
    "\n",
    "def read_message(stream):\n",
    "    msg = {}\n",
    "    magic = stream.read(4)\n",
    "    if magic != NETWORK_MAGIC:\n",
    "        raise Exception(f'Magic is wrong: {magic}')\n",
    "    msg['command'] = stream.read(12).strip(b'\\x00')\n",
    "    payload_length = int.from_bytes(stream.read(4), 'little')\n",
    "    checksum = stream.read(4)\n",
    "    raw_payload = stream.read(payload_length)\n",
    "    calculated_checksum = double_sha256(raw_payload)[:4]\n",
    "    if calculated_checksum != checksum:\n",
    "        raise Exception('Checksum does not match')\n",
    "    # FIXME: read_payload didn't exist last lesson ...\n",
    "    msg['payload'] = read_payload(msg['command'], BytesIO(raw_payload))\n",
    "    return msg"
   ]
  },
  {
   "cell_type": "markdown",
   "metadata": {},
   "source": [
    "Here's an outline of how an inverse `serialize_message` function might work:"
   ]
  },
  {
   "cell_type": "code",
   "execution_count": 105,
   "metadata": {},
   "outputs": [],
   "source": [
    "def serialize_message(command, payload):\n",
    "    result = b'magic'\n",
    "    result += b'command'\n",
    "    result += b'payload length'\n",
    "    result += b'checksum'\n",
    "    result += b'payload'\n",
    "    return result"
   ]
  },
  {
   "cell_type": "markdown",
   "metadata": {},
   "source": [
    "First, fill in the network magic. Try not to look it up in the previous lesson code. Pretend that doesn't exist. Instead go to the wiki and figure out how to interpret what the wiki says into python."
   ]
  },
  {
   "cell_type": "code",
   "execution_count": 106,
   "metadata": {},
   "outputs": [],
   "source": [
    "def serialize_message(command, payload):\n",
    "    result = b'\\xf9\\xbe\\xb4\\xd9'\n",
    "    result += b'command'\n",
    "    result += b'payload length'\n",
    "    result += b'checksum'\n",
    "    result += b'payload'\n",
    "    return result"
   ]
  },
  {
   "cell_type": "code",
   "execution_count": 107,
   "metadata": {},
   "outputs": [],
   "source": [
    "def test():\n",
    "    nm = bytes([249, 190, 180, 217])\n",
    "    assert read_message(s) == nm"
   ]
  },
  {
   "cell_type": "markdown",
   "metadata": {},
   "source": [
    "Next, encode the payload. Remember that it needs to be a fixed length (look up the exact length in the wiki) and you should right-pad with zero bytes (`b\\x00`) until that length is reached"
   ]
  },
  {
   "cell_type": "code",
   "execution_count": 108,
   "metadata": {},
   "outputs": [],
   "source": [
    "def serialize_message(command, payload):\n",
    "    result = b'\\xf9\\xbe\\xb4\\xd9'\n",
    "    result += command + b'\\x00' * (12 - len(command))\n",
    "    result += b'payload length'\n",
    "    result += b'checksum'\n",
    "    result += b'payload'\n",
    "    return result"
   ]
  },
  {
   "cell_type": "markdown",
   "metadata": {},
   "source": [
    "After this we need to encode the payload length. \n",
    "\n",
    "Hints: \n",
    "* the `payload` argument is a dictionary. To get the payloads you need to call `serialize_payload` on that payload dictionary. \n",
    "    * FIXME this function doesn't exist in this notebook\n",
    "    * we could define it -- but kinda pointless since we only know about 1 message type at this point ...\n",
    "* You'll want to take the `len` of ^^, then encode it as the correct number of bytes. Make sure you consider endianness!"
   ]
  },
  {
   "cell_type": "code",
   "execution_count": null,
   "metadata": {},
   "outputs": [],
   "source": []
  },
  {
   "cell_type": "code",
   "execution_count": null,
   "metadata": {},
   "outputs": [],
   "source": [
    "def serialize_empty_payload(**kwargs):\n",
    "    return b\"\"\n",
    "\n",
    "\n",
    "def serialize_payload(command, payload):\n",
    "    command_to_handler = {\n",
    "        b\"version\": serialize_version_payload,\n",
    "        b\"verack\": serialize_empty_payload,\n",
    "    }\n",
    "    handler = command_to_handler[command]\n",
    "    return handler(**payload)"
   ]
  },
  {
   "cell_type": "code",
   "execution_count": 121,
   "metadata": {},
   "outputs": [],
   "source": [
    "def serialize_message(command, payload):\n",
    "    result = b'\\xf9\\xbe\\xb4\\xd9'\n",
    "    result += command + b'\\x00' * (12 - len(command))\n",
    "    result += int_to_little_endian(len(payload), 4)\n",
    "    result += b'checksum'\n",
    "    result += b'payload'\n",
    "    return result"
   ]
  },
  {
   "cell_type": "markdown",
   "metadata": {},
   "source": [
    "Second to last comes the checksum. \n",
    "\n",
    "I suggest you get the test to pass using the `compute_checksum` function I imported for you.\n",
    "\n",
    "Once you get that working, try to implement the `compute_checksum` yourself. It's good practice to remember how it works!"
   ]
  },
  {
   "cell_type": "code",
   "execution_count": 149,
   "metadata": {},
   "outputs": [],
   "source": [
    "import hashlib\n",
    "from lib import compute_checksum\n",
    "\n",
    "# Once you get this working with the imported `compute_checksum`,\n",
    "# Try implementing yourself here:\n",
    "# def compute_checksum(bytes):\n",
    "#     raise NotImplementedError()\n",
    "    \n",
    "# def compute_checksum(bytes):\n",
    "#     first_round = hashlib.sha256(bytes).digest()\n",
    "#     second_round = hashlib.sha256(first_round).digest()\n",
    "#     return second_round[:4]\n",
    "\n",
    "def serialize_message(command, payload):\n",
    "    result = b'\\xf9\\xbe\\xb4\\xd9'\n",
    "    result += command +  b'\\x00' * (12 - len(command))\n",
    "    result += int_to_little_endian(len(payload), 4)\n",
    "    result += compute_checksum(payload)\n",
    "    result += b'payload'\n",
    "    return result"
   ]
  },
  {
   "cell_type": "markdown",
   "metadata": {},
   "source": [
    "Lastly, add the payload"
   ]
  },
  {
   "cell_type": "code",
   "execution_count": 167,
   "metadata": {},
   "outputs": [],
   "source": [
    "def serialize_message(command, payload=b''):\n",
    "    result = b'\\xf9\\xbe\\xb4\\xd9'\n",
    "    result += command + b'\\x00' * (12 - len(command))\n",
    "    result += int_to_little_endian(len(payload), 4)\n",
    "    result += compute_checksum(payload)\n",
    "    result += payload\n",
    "    return result"
   ]
  },
  {
   "cell_type": "markdown",
   "metadata": {},
   "source": [
    "# Verack\n",
    "\n",
    "In order to complete the [version handshake](https://en.bitcoin.it/wiki/Version_Handshake), we also need to read and write verack messages.\n",
    "\n",
    "This is going to be easy, though -- verack messages don't contain any payload.\n",
    "\n",
    "To read a verack message it suffices to just call `read_message(stream)` which will return `{\"command\": b\"verack\": \"payload\": b\"\"}`. There's nothing left to do at this point. \n",
    "\n",
    "To serialize a verack message, we'd simply need to call `serialize_message(command=b\"verack\")` -- this would produce raw bytes that could be send over a socket. We don't pass in anything for `payload_dict` because veracks don't have a payload and the `payload_dict` parameter in `serialize_message` defaults to the empty dictionary.\n",
    "\n",
    "With this out of the way, it's time for the main event ..."
   ]
  },
  {
   "cell_type": "markdown",
   "metadata": {},
   "source": [
    "# The Handshake\n",
    "\n",
    "We're finally ready. Fill out this function which will connect to a bitcoin peer and open a connection with them:"
   ]
  },
  {
   "cell_type": "code",
   "execution_count": 210,
   "metadata": {},
   "outputs": [],
   "source": [
    "from pprint import pprint\n",
    "\n",
    "def handshake(address):\n",
    "    sock = socket.create_connection(address, timeout=1)\n",
    "    stream = sock.makefile(\"rb\")\n",
    "\n",
    "    # Step 1: our version message\n",
    "    sock.sendall(\"OUR VERSION MESSAGE\")\n",
    "    print(\"Sent version\")\n",
    "\n",
    "    # Step 2: their version message\n",
    "    peer_version = \"READ THEIR VERSION MESSAGE HERE\"\n",
    "    print(\"Version: \")\n",
    "    pprint(peer_version)\n",
    "\n",
    "    # Step 3: their version message\n",
    "    peer_verack = \"READ THEIR VERACK MESSAGE HERE\"\n",
    "    print(\"Verack: \", peer_verack)\n",
    "\n",
    "    # Step 4: our verack\n",
    "    sock.sendall(\"OUR VERACK HERE\")\n",
    "    print(\"Sent verack\")\n",
    "\n",
    "    return sock, stream"
   ]
  },
  {
   "cell_type": "code",
   "execution_count": 157,
   "metadata": {},
   "outputs": [
    {
     "ename": "TypeError",
     "evalue": "read_version_payload() missing 1 required positional argument: 'stream'",
     "output_type": "error",
     "traceback": [
      "\u001b[0;31m---------------------------------------------------------------------------\u001b[0m",
      "\u001b[0;31mTypeError\u001b[0m                                 Traceback (most recent call last)",
      "\u001b[0;32m<ipython-input-157-fc14fd0c170f>\u001b[0m in \u001b[0;36m<module>\u001b[0;34m\u001b[0m\n\u001b[1;32m      2\u001b[0m \u001b[0;34m\u001b[0m\u001b[0m\n\u001b[1;32m      3\u001b[0m \u001b[0;34m\u001b[0m\u001b[0m\n\u001b[0;32m----> 4\u001b[0;31m \u001b[0mprint\u001b[0m\u001b[0;34m(\u001b[0m\u001b[0mread_version_payload\u001b[0m\u001b[0;34m(\u001b[0m\u001b[0;34m)\u001b[0m\u001b[0;34m)\u001b[0m\u001b[0;34m\u001b[0m\u001b[0;34m\u001b[0m\u001b[0m\n\u001b[0m",
      "\u001b[0;31mTypeError\u001b[0m: read_version_payload() missing 1 required positional argument: 'stream'"
     ]
    }
   ],
   "source": [
    "V = b'\\xf9\\xbe\\xb4\\xd9version\\x00\\x00\\x00\\x00\\x00j\\x00\\x00\\x00\\x9b\"\\x8b\\x9e\\x7f\\x11\\x01\\x00\\x0f\\x04\\x00\\x00\\x00\\x00\\x00\\x00\\x93AU[\\x00\\x00\\x00\\x00\\x0f\\x04\\x00\\x00\\x00\\x00\\x00\\x00\\x00\\x00\\x00\\x00\\x00\\x00\\x00\\x00\\x00\\x00\\x00\\x00\\x00\\x00\\x00\\x00\\x00\\x00\\x0f\\x04\\x00\\x00\\x00\\x00\\x00\\x00\\x00\\x00\\x00\\x00\\x00\\x00\\x00\\x00\\x00\\x00\\x00\\x00\\x00\\x00\\x00\\x00\\x00\\x00rV\\xc5C\\x9b:\\xea\\x89\\x14/some-cool-software/\\x01\\x00\\x00\\x00\\x01'\n",
    "\n",
    "\n",
    "print(read_version_payload())"
   ]
  },
  {
   "cell_type": "code",
   "execution_count": 221,
   "metadata": {},
   "outputs": [],
   "source": [
    "from lib import read_message\n",
    "\n",
    "def handshake(address):\n",
    "    sock = socket.create_connection(address)\n",
    "    stream = sock.makefile(\"rb\")\n",
    "\n",
    "    # Step 1: our version message\n",
    "    version_payload = serialize_version_payload(user_agent=b'/finally/')\n",
    "    our_version = serialize_message(command=b\"version\", \n",
    "                                    payload=version_payload)\n",
    "\n",
    "    sock.sendall(our_version)\n",
    "    print(\"Sent version\")\n",
    "\n",
    "    # Step 2: their version message\n",
    "    peer_version = read_message(stream)\n",
    "    print(\"Version: \")\n",
    "    pprint(read_version_payload(BytesIO(peer_version['payload'])))\n",
    "\n",
    "    # Step 3: their version message\n",
    "    peer_verack = read_message(stream)\n",
    "    print(\"Verack: \", peer_verack)\n",
    "\n",
    "    # Step 4: our verack\n",
    "    our_verack = serialize_message(command=b\"verack\")\n",
    "    sock.sendall(our_verack)\n",
    "    print(\"Sent verack\")\n",
    "\n",
    "    return sock, stream"
   ]
  },
  {
   "cell_type": "code",
   "execution_count": 222,
   "metadata": {},
   "outputs": [
    {
     "name": "stdout",
     "output_type": "stream",
     "text": [
      "Sent version\n",
      "Version: \n",
      "{'nonce': 7623716393377179586,\n",
      " 'receiver_address': {'ip': '::ffff:104.5.61.4', 'port': 57134, 'services': 0},\n",
      " 'relay': 1,\n",
      " 'sender_address': {'ip': '0.0.0.0', 'port': 0, 'services': 1037},\n",
      " 'services': 1037,\n",
      " 'start_height': 564914,\n",
      " 'timestamp': 1551293522,\n",
      " 'user_agent': b'/Satoshi:0.17.1(LearnMeABitcoin)/',\n",
      " 'version': 70015}\n",
      "Verack:  {'command': b'verack', 'payload': b''}\n",
      "Sent verack\n"
     ]
    }
   ],
   "source": [
    "ADDRESS = (\"46.19.137.74\", 8333)\n",
    "\n",
    "sock = handshake(ADDRESS)"
   ]
  },
  {
   "cell_type": "markdown",
   "metadata": {},
   "source": [
    "There's no unittest accompanied here. You'll know it's working if it prints something like: \n",
    "\n",
    "```\n",
    "FIXME\n",
    "```\n",
    "\n",
    "Another, even more fun way to test it is to write a function that listens on the stream returned by `handshake` and prints out every message received:"
   ]
  },
  {
   "cell_type": "code",
   "execution_count": 215,
   "metadata": {},
   "outputs": [],
   "source": [
    "from lib import read_message\n",
    "\n",
    "def listen(address):\n",
    "    sock, stream = handshake(address)\n",
    "    while True:\n",
    "        message = read_message(stream)\n",
    "        print(f'Received message \"{message[\"command\"]}\"')"
   ]
  },
  {
   "cell_type": "code",
   "execution_count": 216,
   "metadata": {
    "scrolled": false
   },
   "outputs": [
    {
     "name": "stdout",
     "output_type": "stream",
     "text": [
      "Sent version\n",
      "Version: \n",
      "{'command': b'version',\n",
      " 'payload': {'nonce': 112871403585732136,\n",
      "             'receiver_address': {'ip': '::ffff:104.5.61.4',\n",
      "                                  'port': 45710,\n",
      "                                  'services': 0},\n",
      "             'relay': 1,\n",
      "             'sender_address': {'ip': '0.0.0.0', 'port': 0, 'services': 1037},\n",
      "             'services': 1037,\n",
      "             'start_height': 564911,\n",
      "             'timestamp': 1551292131,\n",
      "             'user_agent': b'/Satoshi:0.17.1(LearnMeABitcoin)/',\n",
      "             'version': 70015}}\n",
      "Verack:  {'command': b'verack', 'payload': {}}\n",
      "Sent verack\n",
      "Received message \"b'sendheaders'\"\n",
      "Received message \"b'sendcmpct'\"\n",
      "Received message \"b'sendcmpct'\"\n",
      "Received message \"b'ping'\"\n",
      "Received message \"b'addr'\"\n",
      "Received message \"b'inv'\"\n",
      "Received message \"b'inv'\"\n",
      "Received message \"b'inv'\"\n",
      "Received message \"b'inv'\"\n",
      "Received message \"b'inv'\"\n",
      "Received message \"b'inv'\"\n",
      "Received message \"b'inv'\"\n",
      "Received message \"b'inv'\"\n",
      "Received message \"b'inv'\"\n",
      "Received message \"b'addr'\"\n",
      "Received message \"b'inv'\"\n",
      "Received message \"b'inv'\"\n",
      "Received message \"b'inv'\"\n",
      "Received message \"b'inv'\"\n",
      "Received message \"b'inv'\"\n",
      "Received message \"b'inv'\"\n",
      "Received message \"b'addr'\"\n",
      "Received message \"b'inv'\"\n",
      "Received message \"b'inv'\"\n",
      "Received message \"b'inv'\"\n",
      "Received message \"b'inv'\"\n",
      "Received message \"b'inv'\"\n",
      "Received message \"b'inv'\"\n",
      "Received message \"b'inv'\"\n",
      "Received message \"b'inv'\"\n",
      "Received message \"b'inv'\"\n",
      "Received message \"b'inv'\"\n",
      "Received message \"b'inv'\"\n",
      "Received message \"b'inv'\"\n",
      "Received message \"b'inv'\"\n",
      "Received message \"b'inv'\"\n",
      "Received message \"b'inv'\"\n",
      "Received message \"b'inv'\"\n",
      "Received message \"b'inv'\"\n",
      "Received message \"b'inv'\"\n",
      "Received message \"b'inv'\"\n",
      "Received message \"b'inv'\"\n",
      "Received message \"b'inv'\"\n",
      "Received message \"b'inv'\"\n",
      "Received message \"b'inv'\"\n",
      "Received message \"b'inv'\"\n",
      "Received message \"b'inv'\"\n",
      "Received message \"b'addr'\"\n",
      "Received message \"b'inv'\"\n",
      "Received message \"b'addr'\"\n",
      "Received message \"b'inv'\"\n",
      "Received message \"b'inv'\"\n",
      "Received message \"b'inv'\"\n",
      "Received message \"b'inv'\"\n",
      "Received message \"b'inv'\"\n",
      "Received message \"b'addr'\"\n",
      "Received message \"b'inv'\"\n",
      "Received message \"b'inv'\"\n",
      "Received message \"b'inv'\"\n",
      "Received message \"b'inv'\"\n",
      "Received message \"b'inv'\"\n",
      "Received message \"b'inv'\"\n",
      "Received message \"b'inv'\"\n",
      "Received message \"b'inv'\"\n",
      "Received message \"b'inv'\"\n",
      "Received message \"b'addr'\"\n",
      "Received message \"b'inv'\"\n",
      "Received message \"b'inv'\"\n",
      "Received message \"b'inv'\"\n",
      "Received message \"b'inv'\"\n",
      "Received message \"b'inv'\"\n",
      "Received message \"b'inv'\"\n",
      "Received message \"b'inv'\"\n",
      "Received message \"b'inv'\"\n",
      "Received message \"b'inv'\"\n",
      "Received message \"b'inv'\"\n",
      "Received message \"b'inv'\"\n",
      "Received message \"b'inv'\"\n",
      "Received message \"b'inv'\"\n",
      "Received message \"b'inv'\"\n",
      "Received message \"b'inv'\"\n",
      "Received message \"b'inv'\"\n",
      "Received message \"b'inv'\"\n",
      "Received message \"b'inv'\"\n",
      "Received message \"b'inv'\"\n",
      "Received message \"b'inv'\"\n",
      "Received message \"b'inv'\"\n",
      "Received message \"b'inv'\"\n",
      "Received message \"b'inv'\"\n",
      "Received message \"b'addr'\"\n",
      "Received message \"b'inv'\"\n",
      "Received message \"b'inv'\"\n",
      "Received message \"b'inv'\"\n",
      "Received message \"b'inv'\"\n",
      "Received message \"b'inv'\"\n",
      "Received message \"b'inv'\"\n",
      "Received message \"b'inv'\"\n",
      "Received message \"b'addr'\"\n",
      "Received message \"b'inv'\"\n",
      "Received message \"b'inv'\"\n",
      "Received message \"b'addr'\"\n",
      "Received message \"b'inv'\"\n",
      "Received message \"b'inv'\"\n",
      "Received message \"b'inv'\"\n",
      "Received message \"b'inv'\"\n",
      "Received message \"b'inv'\"\n",
      "Received message \"b'inv'\"\n",
      "Received message \"b'inv'\"\n",
      "Received message \"b'addr'\"\n",
      "Received message \"b'inv'\"\n",
      "Received message \"b'inv'\"\n",
      "Received message \"b'inv'\"\n",
      "Received message \"b'inv'\"\n",
      "Received message \"b'inv'\"\n",
      "Received message \"b'inv'\"\n",
      "Received message \"b'inv'\"\n",
      "Received message \"b'inv'\"\n",
      "Received message \"b'inv'\"\n",
      "Received message \"b'inv'\"\n",
      "Received message \"b'addr'\"\n",
      "Received message \"b'inv'\"\n",
      "Received message \"b'inv'\"\n",
      "Received message \"b'inv'\"\n",
      "Received message \"b'inv'\"\n",
      "Received message \"b'inv'\"\n",
      "Received message \"b'addr'\"\n",
      "Received message \"b'inv'\"\n",
      "Received message \"b'inv'\"\n",
      "Received message \"b'inv'\"\n",
      "Received message \"b'inv'\"\n",
      "Received message \"b'inv'\"\n",
      "Received message \"b'inv'\"\n",
      "Received message \"b'inv'\"\n",
      "Received message \"b'inv'\"\n",
      "Received message \"b'inv'\"\n",
      "Received message \"b'inv'\"\n",
      "Received message \"b'inv'\"\n",
      "Received message \"b'addr'\"\n",
      "Received message \"b'inv'\"\n",
      "Received message \"b'inv'\"\n",
      "Received message \"b'inv'\"\n",
      "Received message \"b'inv'\"\n",
      "Received message \"b'inv'\"\n",
      "Received message \"b'inv'\"\n",
      "Received message \"b'inv'\"\n",
      "Received message \"b'inv'\"\n",
      "Received message \"b'addr'\"\n",
      "Received message \"b'inv'\"\n",
      "Received message \"b'inv'\"\n",
      "Received message \"b'inv'\"\n",
      "Received message \"b'inv'\"\n",
      "Received message \"b'inv'\"\n",
      "Received message \"b'inv'\"\n",
      "Received message \"b'addr'\"\n",
      "Received message \"b'inv'\"\n",
      "Received message \"b'inv'\"\n",
      "Received message \"b'inv'\"\n",
      "Received message \"b'inv'\"\n",
      "Received message \"b'inv'\"\n",
      "Received message \"b'inv'\"\n",
      "Received message \"b'addr'\"\n",
      "Received message \"b'inv'\"\n",
      "Received message \"b'inv'\"\n",
      "Received message \"b'inv'\"\n",
      "Received message \"b'inv'\"\n",
      "Received message \"b'inv'\"\n",
      "Received message \"b'inv'\"\n",
      "Received message \"b'inv'\"\n",
      "Received message \"b'inv'\"\n",
      "Received message \"b'inv'\"\n",
      "Received message \"b'inv'\"\n",
      "Received message \"b'inv'\"\n",
      "Received message \"b'inv'\"\n",
      "Received message \"b'inv'\"\n",
      "Received message \"b'inv'\"\n",
      "Received message \"b'inv'\"\n",
      "Received message \"b'inv'\"\n",
      "Received message \"b'inv'\"\n",
      "Received message \"b'inv'\"\n",
      "Received message \"b'inv'\"\n",
      "Received message \"b'inv'\"\n",
      "Received message \"b'inv'\"\n",
      "Received message \"b'inv'\"\n",
      "Received message \"b'inv'\"\n",
      "Received message \"b'inv'\"\n",
      "Received message \"b'inv'\"\n",
      "Received message \"b'inv'\"\n",
      "Received message \"b'inv'\"\n",
      "Received message \"b'inv'\"\n",
      "Received message \"b'inv'\"\n",
      "Received message \"b'inv'\"\n",
      "Received message \"b'inv'\"\n",
      "Received message \"b'addr'\"\n",
      "Received message \"b'inv'\"\n",
      "Received message \"b'inv'\"\n",
      "Received message \"b'inv'\"\n",
      "Received message \"b'inv'\"\n",
      "Received message \"b'inv'\"\n",
      "Received message \"b'addr'\"\n",
      "Received message \"b'inv'\"\n",
      "Received message \"b'inv'\"\n",
      "Received message \"b'inv'\"\n",
      "Received message \"b'inv'\"\n",
      "Received message \"b'inv'\"\n",
      "Received message \"b'inv'\"\n",
      "Received message \"b'inv'\"\n",
      "Received message \"b'inv'\"\n",
      "Received message \"b'inv'\"\n",
      "Received message \"b'addr'\"\n",
      "Received message \"b'inv'\"\n",
      "Received message \"b'inv'\"\n",
      "Received message \"b'inv'\"\n",
      "Received message \"b'inv'\"\n",
      "Received message \"b'inv'\"\n",
      "Received message \"b'addr'\"\n",
      "Received message \"b'inv'\"\n",
      "Received message \"b'addr'\"\n",
      "Received message \"b'inv'\"\n",
      "Received message \"b'inv'\"\n",
      "Received message \"b'inv'\"\n",
      "Received message \"b'inv'\"\n",
      "Received message \"b'inv'\"\n",
      "Received message \"b'inv'\"\n",
      "Received message \"b'inv'\"\n",
      "Received message \"b'inv'\"\n",
      "Received message \"b'inv'\"\n"
     ]
    },
    {
     "ename": "Exception",
     "evalue": "Magic is wrong: b''",
     "output_type": "error",
     "traceback": [
      "\u001b[0;31m---------------------------------------------------------------------------\u001b[0m",
      "\u001b[0;31mException\u001b[0m                                 Traceback (most recent call last)",
      "\u001b[0;32m<ipython-input-216-1214dadcf10c>\u001b[0m in \u001b[0;36m<module>\u001b[0;34m\u001b[0m\n\u001b[0;32m----> 1\u001b[0;31m \u001b[0mlisten\u001b[0m\u001b[0;34m(\u001b[0m\u001b[0mADDRESS\u001b[0m\u001b[0;34m)\u001b[0m\u001b[0;34m\u001b[0m\u001b[0;34m\u001b[0m\u001b[0m\n\u001b[0m",
      "\u001b[0;32m<ipython-input-215-9907aca18873>\u001b[0m in \u001b[0;36mlisten\u001b[0;34m(address)\u001b[0m\n\u001b[1;32m      4\u001b[0m     \u001b[0msock\u001b[0m\u001b[0;34m,\u001b[0m \u001b[0mstream\u001b[0m \u001b[0;34m=\u001b[0m \u001b[0mhandshake\u001b[0m\u001b[0;34m(\u001b[0m\u001b[0maddress\u001b[0m\u001b[0;34m)\u001b[0m\u001b[0;34m\u001b[0m\u001b[0;34m\u001b[0m\u001b[0m\n\u001b[1;32m      5\u001b[0m     \u001b[0;32mwhile\u001b[0m \u001b[0;32mTrue\u001b[0m\u001b[0;34m:\u001b[0m\u001b[0;34m\u001b[0m\u001b[0;34m\u001b[0m\u001b[0m\n\u001b[0;32m----> 6\u001b[0;31m         \u001b[0mmessage\u001b[0m \u001b[0;34m=\u001b[0m \u001b[0mread_message\u001b[0m\u001b[0;34m(\u001b[0m\u001b[0mstream\u001b[0m\u001b[0;34m)\u001b[0m\u001b[0;34m\u001b[0m\u001b[0;34m\u001b[0m\u001b[0m\n\u001b[0m\u001b[1;32m      7\u001b[0m         \u001b[0mprint\u001b[0m\u001b[0;34m(\u001b[0m\u001b[0;34mf'Received message \"{message[\"command\"]}\"'\u001b[0m\u001b[0;34m)\u001b[0m\u001b[0;34m\u001b[0m\u001b[0;34m\u001b[0m\u001b[0m\n",
      "\u001b[0;32m~/dev/network-programming/3. Composing Version Messages/lib.py\u001b[0m in \u001b[0;36mread_message\u001b[0;34m(stream)\u001b[0m\n\u001b[1;32m    157\u001b[0m     \u001b[0mmagic\u001b[0m \u001b[0;34m=\u001b[0m \u001b[0mstream\u001b[0m\u001b[0;34m.\u001b[0m\u001b[0mread\u001b[0m\u001b[0;34m(\u001b[0m\u001b[0;36m4\u001b[0m\u001b[0;34m)\u001b[0m\u001b[0;34m\u001b[0m\u001b[0;34m\u001b[0m\u001b[0m\n\u001b[1;32m    158\u001b[0m     \u001b[0;32mif\u001b[0m \u001b[0mmagic\u001b[0m \u001b[0;34m!=\u001b[0m \u001b[0mNETWORK_MAGIC\u001b[0m\u001b[0;34m:\u001b[0m\u001b[0;34m\u001b[0m\u001b[0;34m\u001b[0m\u001b[0m\n\u001b[0;32m--> 159\u001b[0;31m         \u001b[0;32mraise\u001b[0m \u001b[0mException\u001b[0m\u001b[0;34m(\u001b[0m\u001b[0;34mf'Magic is wrong: {magic}'\u001b[0m\u001b[0;34m)\u001b[0m\u001b[0;34m\u001b[0m\u001b[0;34m\u001b[0m\u001b[0m\n\u001b[0m\u001b[1;32m    160\u001b[0m     \u001b[0mmsg\u001b[0m\u001b[0;34m[\u001b[0m\u001b[0;34m'command'\u001b[0m\u001b[0;34m]\u001b[0m \u001b[0;34m=\u001b[0m \u001b[0mstream\u001b[0m\u001b[0;34m.\u001b[0m\u001b[0mread\u001b[0m\u001b[0;34m(\u001b[0m\u001b[0;36m12\u001b[0m\u001b[0;34m)\u001b[0m\u001b[0;34m.\u001b[0m\u001b[0mstrip\u001b[0m\u001b[0;34m(\u001b[0m\u001b[0;34mb'\\x00'\u001b[0m\u001b[0;34m)\u001b[0m\u001b[0;34m\u001b[0m\u001b[0;34m\u001b[0m\u001b[0m\n\u001b[1;32m    161\u001b[0m     \u001b[0mpayload_length\u001b[0m \u001b[0;34m=\u001b[0m \u001b[0mint\u001b[0m\u001b[0;34m.\u001b[0m\u001b[0mfrom_bytes\u001b[0m\u001b[0;34m(\u001b[0m\u001b[0mstream\u001b[0m\u001b[0;34m.\u001b[0m\u001b[0mread\u001b[0m\u001b[0;34m(\u001b[0m\u001b[0;36m4\u001b[0m\u001b[0;34m)\u001b[0m\u001b[0;34m,\u001b[0m \u001b[0;34m'little'\u001b[0m\u001b[0;34m)\u001b[0m\u001b[0;34m\u001b[0m\u001b[0;34m\u001b[0m\u001b[0m\n",
      "\u001b[0;31mException\u001b[0m: Magic is wrong: b''"
     ]
    }
   ],
   "source": [
    "listen(ADDRESS)"
   ]
  },
  {
   "cell_type": "code",
   "execution_count": 207,
   "metadata": {},
   "outputs": [
    {
     "name": "stdout",
     "output_type": "stream",
     "text": [
      "{'command': b'version', 'payload': {'version': 70015, 'services': 1039, 'timestamp': 1532314003, 'receiver_address': {'services': 1039, 'ip': '0.0.0.0', 'port': 0}, 'sender_address': {'services': 1039, 'ip': '0.0.0.0', 'port': 0}, 'nonce': 9937819966277768818, 'user_agent': b'/some-cool-software/', 'start_height': 1, 'relay': 1}}\n",
      "{'command': b'version', 'payload': {'version': 70015, 'services': 0, 'timestamp': 1551290679, 'receiver_address': {'services': 0, 'ip': '0.0.0.0', 'port': 8333}, 'sender_address': {'services': 0, 'ip': '0.0.0.0', 'port': 8333}, 'nonce': 2654525627436538055, 'user_agent': b'/finally/', 'start_height': 0, 'relay': 0}}\n"
     ]
    }
   ],
   "source": [
    "version_payload = serialize_version_payload(user_agent=b'/finally/')\n",
    "second = serialize_message(command=b\"version\", \n",
    "                                payload=version_payload)\n",
    "first = b'\\xf9\\xbe\\xb4\\xd9version\\x00\\x00\\x00\\x00\\x00j\\x00\\x00\\x00\\x9b\"\\x8b\\x9e\\x7f\\x11\\x01\\x00\\x0f\\x04\\x00\\x00\\x00\\x00\\x00\\x00\\x93AU[\\x00\\x00\\x00\\x00\\x0f\\x04\\x00\\x00\\x00\\x00\\x00\\x00\\x00\\x00\\x00\\x00\\x00\\x00\\x00\\x00\\x00\\x00\\x00\\x00\\x00\\x00\\x00\\x00\\x00\\x00\\x0f\\x04\\x00\\x00\\x00\\x00\\x00\\x00\\x00\\x00\\x00\\x00\\x00\\x00\\x00\\x00\\x00\\x00\\x00\\x00\\x00\\x00\\x00\\x00\\x00\\x00rV\\xc5C\\x9b:\\xea\\x89\\x14/some-cool-software/\\x01\\x00\\x00\\x00\\x01'\n",
    "\n",
    "print(read_message(BytesIO(first)))\n",
    "\n",
    "print(read_message(BytesIO(second)))"
   ]
  },
  {
   "cell_type": "markdown",
   "metadata": {},
   "source": [
    "Hopefully this exercise gives you a bit of a sense of what a full node does.\n",
    "\n",
    "It starts by establishing connections to a few peers. It sends messages over these sockets to request data it is interested in, and has listeners like the one above which read messages one-by-one and route them to handler functions that can handle messages of each different type.\n",
    "\n",
    "In the next lesson we'll extend this \"listener\" idea into a crawler. Whenever we connect to a new node we will request they send a list of their peers. Once we receive this message, we'll add the addresses to a queue. In this way we will ask ever address in the network about its peers and "
   ]
  },
  {
   "cell_type": "markdown",
   "metadata": {},
   "source": [
    "## Exercise: first hack at `serialize_address`\n",
    "\n",
    "### Exercise: `ip_to_bytes`\n",
    "\n",
    "### Exercise: finish `serialize_address`\n",
    "\n",
    "??? or should we just do `ip_to_bytes` and then the entirety of `serialize_address` \n",
    "\n",
    "\n",
    "# Serializing Messages\n",
    "\n",
    "### Exercise: `serialize_command`\n",
    "\n",
    "* or should i give them `serialize_command`, `compute_checksum`, `NETWORK_MAGIC` etc and ask them to put it together\n",
    "    * they should probably implement `serialize_command`\n",
    "    \n",
    "### Exercise: `handshake`\n",
    "\n",
    "reminder how to send bytes\n",
    "\n",
    "sequence of messages\n",
    "\n",
    "exercise:\n",
    "* "
   ]
  },
  {
   "cell_type": "code",
   "execution_count": null,
   "metadata": {},
   "outputs": [],
   "source": []
  },
  {
   "cell_type": "code",
   "execution_count": null,
   "metadata": {},
   "outputs": [],
   "source": []
  }
 ],
 "metadata": {
  "kernelspec": {
   "display_name": "Python 3",
   "language": "python",
   "name": "python3"
  },
  "language_info": {
   "codemirror_mode": {
    "name": "ipython",
    "version": 3
   },
   "file_extension": ".py",
   "mimetype": "text/x-python",
   "name": "python",
   "nbconvert_exporter": "python",
   "pygments_lexer": "ipython3",
   "version": "3.7.2"
  }
 },
 "nbformat": 4,
 "nbformat_minor": 2
}
