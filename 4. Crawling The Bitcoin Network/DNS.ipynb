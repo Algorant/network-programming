{
 "cells": [
  {
   "cell_type": "code",
   "execution_count": null,
   "metadata": {},
   "outputs": [],
   "source": [
    "%load_ext autoreload\n",
    "%autoreload 2"
   ]
  },
  {
   "cell_type": "markdown",
   "metadata": {},
   "source": [
    "# DNS Seeds"
   ]
  },
  {
   "cell_type": "markdown",
   "metadata": {},
   "source": [
    "By this time you've probably hit this error:\n",
    "\n",
    "![image](../images/empty-list.png)\n",
    "\n",
    "It would be much better if we could prime our crawler with more addresses. It would be especially good if they were addresses of \"high quality\" nodes that are always online and have juicy peer lists to share with us.\n",
    "\n",
    "This is exactly what DNS seeds are for. Prominent bitcoin core developers run DNS servers from domains they contol which resolve not to the address of a machine serving a website -- which is true of most domain names -- but to a list of addresses of high quality bitcoin full nodes.\n",
    "\n",
    "These domains are actually [hard-coded into Bitcoin Core](https://github.com/bitcoin/bitcoin/blob/v0.17.1/src/chainparams.cpp#L127)!\n",
    "\n",
    "Some of them run [this crawler / server written by Peter Wuille](https://github.com/sipa/bitcoin-seeder).\n",
    "\n",
    "Let's learn to query these DNS seeds:"
   ]
  },
  {
   "cell_type": "markdown",
   "metadata": {},
   "source": [
    "In your terminal type:\n",
    "\n",
    "```shell\n",
    "$ dig dnsseed.bitcoin.dashjr.org\n",
    "```\n",
    "\n",
    "This will perform a DNS lookup. We are interest in the \"answers\" sections, which shows a number of DNS \"A records\" for the host name `dnsseed.bitcoin.dashjr.org`. These are IP addresses of Bitcoin nodes!\n",
    "\n",
    "![image](../images/dig.png)\n",
    "\n",
    "\n",
    "How can we do this from Python?\n",
    "\n",
    "Python's built-in [`socket.getaddrinfo`](https://docs.python.org/3/library/socket.html#socket.getaddrinfo) function can accomplish this."
   ]
  },
  {
   "cell_type": "code",
   "execution_count": null,
   "metadata": {},
   "outputs": [],
   "source": [
    "# Copied from Bitcoin Core's src/chainparams.cpp file\n",
    "\n",
    "DNS_SEEDS = [\n",
    "    'dnsseed.bitcoin.dashjr.org', \n",
    "    'dnsseed.bluematt.me',\n",
    "    'seed.bitcoin.sipa.be', \n",
    "    'seed.bitcoinstats.com',\n",
    "    'seed.bitcoin.jonasschnelli.ch',\n",
    "    'seed.btc.petertodd.org',\n",
    "    'seed.bitcoin.sprovoost.nl',\n",
    "    'dnsseed.emzy.de',\n",
    "]"
   ]
  },
  {
   "cell_type": "code",
   "execution_count": null,
   "metadata": {},
   "outputs": [],
   "source": [
    "import socket\n",
    "\n",
    "# getaddrinfo translates hostname -> ip address ... but it's messy\n",
    "addr_info = socket.getaddrinfo(DNS_SEEDS[0], 8333)\n",
    "addr_info"
   ]
  },
  {
   "cell_type": "code",
   "execution_count": null,
   "metadata": {},
   "outputs": [],
   "source": [
    "# Third param can filter down IPv4 or IPv6\n",
    "\n",
    "# IPv4 example\n",
    "socket.getaddrinfo(DNS_SEEDS[0], 8333, socket.AF_INET)"
   ]
  },
  {
   "cell_type": "code",
   "execution_count": null,
   "metadata": {},
   "outputs": [],
   "source": [
    "# IPv6 example\n",
    "socket.getaddrinfo(DNS_SEEDS[0], 8333, socket.AF_INET6)"
   ]
  },
  {
   "cell_type": "code",
   "execution_count": null,
   "metadata": {},
   "outputs": [],
   "source": [
    "# 0 accepts both (what we want)\n",
    "socket.getaddrinfo(DNS_SEEDS[0], 8333, 0)"
   ]
  },
  {
   "cell_type": "code",
   "execution_count": null,
   "metadata": {},
   "outputs": [],
   "source": [
    "# 4th paramter sets the socket type (TCP, UDP, or RAW)\n",
    "\n",
    "socket.getaddrinfo(DNS_SEEDS[0], 8333, 0, socket.SOCK_STREAM)"
   ]
  },
  {
   "cell_type": "code",
   "execution_count": null,
   "metadata": {},
   "outputs": [],
   "source": [
    "# Question: how would you getch the addresses configured for UDP?\n",
    "\n",
    "socket.getaddrinfo(DNS_SEEDS[0], 8333, socket.AF_INET, ???)"
   ]
  },
  {
   "cell_type": "code",
   "execution_count": null,
   "metadata": {},
   "outputs": [],
   "source": [
    "# We want to accept IPv4 & IPv6 (3rd param set to 0)\n",
    "# But only TCP socket types (4th param set to socket.SOCK_STREAM)\n",
    "addr_info = socket.getaddrinfo(DNS_SEEDS[0], 8333, 0, socket.SOCK_STREAM)\n",
    "addr_info"
   ]
  },
  {
   "cell_type": "code",
   "execution_count": null,
   "metadata": {},
   "outputs": [],
   "source": [
    "# addresses in the last entry\n",
    "addrs = [ai[-1] for ai in addr_info]\n",
    "addrs"
   ]
  },
  {
   "cell_type": "code",
   "execution_count": null,
   "metadata": {},
   "outputs": [],
   "source": [
    "# addresses in the last entry\n",
    "addrs = [ai[-1][:2] for ai in addr_info]\n",
    "addrs"
   ]
  },
  {
   "cell_type": "code",
   "execution_count": null,
   "metadata": {},
   "outputs": [],
   "source": [
    "from mycrawler import Node\n",
    "\n",
    "# Turn them into Node instances\n",
    "nodes = [Node(*addr) for addr in addrs]\n",
    "nodes"
   ]
  },
  {
   "cell_type": "code",
   "execution_count": null,
   "metadata": {
    "scrolled": true
   },
   "outputs": [],
   "source": [
    "from mycrawler import Connection\n",
    "\n",
    "# Can we connect?\n",
    "conn = Connection(nodes[0]).open()"
   ]
  },
  {
   "cell_type": "code",
   "execution_count": null,
   "metadata": {},
   "outputs": [],
   "source": [
    "def query_dns_seeds():\n",
    "    nodes = []\n",
    "    for seed in DNS_SEEDS:\n",
    "        try:\n",
    "            addr_info = socket.getaddrinfo(seed, 8333, 0, socket.SOCK_STREAM)\n",
    "            addresses = [ai[-1][:2] for ai in addr_info]\n",
    "            nodes.extend([Node(*addr) for addr in addresses])\n",
    "        except OSError as e:\n",
    "            logger.info(f\"DNS seed query failed: {str(e)}\")\n",
    "    return nodes"
   ]
  },
  {
   "cell_type": "code",
   "execution_count": null,
   "metadata": {},
   "outputs": [],
   "source": [
    "# BEHOLD THE GLORIOUS BITCOIN NODES!!!\n",
    "\n",
    "for node in query_dns_seeds():\n",
    "    print(node.ip)"
   ]
  },
  {
   "cell_type": "markdown",
   "metadata": {},
   "source": [
    "BTW -- we're already using `getaddrinfo` under the hood when we call `socket.create_connection` ..."
   ]
  }
 ],
 "metadata": {
  "kernelspec": {
   "display_name": "Python 3",
   "language": "python",
   "name": "python3"
  },
  "language_info": {
   "codemirror_mode": {
    "name": "ipython",
    "version": 3
   },
   "file_extension": ".py",
   "mimetype": "text/x-python",
   "name": "python",
   "nbconvert_exporter": "python",
   "pygments_lexer": "ipython3",
   "version": "3.7.2"
  }
 },
 "nbformat": 4,
 "nbformat_minor": 2
}
