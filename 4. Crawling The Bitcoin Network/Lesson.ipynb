{
 "cells": [
  {
   "cell_type": "code",
   "execution_count": null,
   "metadata": {},
   "outputs": [],
   "source": [
    "%load_ext autoreload\n",
    "%autoreload 2"
   ]
  },
  {
   "cell_type": "code",
   "execution_count": null,
   "metadata": {},
   "outputs": [],
   "source": [
    "import logging\n",
    "import socket\n",
    "from crawler import *\n",
    "from lib import *\n",
    "from base64 import b32encode\n",
    "import sqlite3\n",
    "from report import report"
   ]
  },
  {
   "cell_type": "code",
   "execution_count": null,
   "metadata": {},
   "outputs": [],
   "source": [
    "# A little helper code ... please ignore!\n",
    "\n",
    "_addresses = fetch_addresses()\n",
    "\n",
    "def next_address():\n",
    "    return _addresses.pop()"
   ]
  },
  {
   "cell_type": "markdown",
   "metadata": {},
   "source": [
    "# Improving our `listener` from last time\n",
    "\n",
    "Where we left off last time"
   ]
  },
  {
   "cell_type": "code",
   "execution_count": null,
   "metadata": {},
   "outputs": [],
   "source": [
    "from lib import *\n",
    "\n",
    "def listener(address):\n",
    "    # Establish connection\n",
    "    sock = handshake(address)\n",
    "    stream = sock.makefile(\"rb\")\n",
    "    \n",
    "    # Print every gossip message we receive\n",
    "    while True:\n",
    "        print(read_msg(stream)['command'])"
   ]
  },
  {
   "cell_type": "code",
   "execution_count": null,
   "metadata": {},
   "outputs": [],
   "source": [
    "address = ['208.86.162.216', 8333]\n",
    "\n",
    "listener(address)"
   ]
  },
  {
   "cell_type": "markdown",
   "metadata": {},
   "source": [
    "Press the &#9632; button to kill the cell above.\n",
    "\n",
    "This just connects to a node and reads off comands forever. It's nothing special, but this is one of the most important things a Bitcoin node does!\n",
    "\n",
    "While we won't implement a full Bitcoin node -- that's a massive project -- I'd like to write a few more programs that accomplish some of the core tasks of a bitcoin full or light node.\n",
    "\n",
    "I think the obvious first one is initial block download. But that a lot to chew. I suggest we write a crawler first. Here's how it might work:\n",
    "\n",
    "* Initialize an `addresses` list\n",
    "* Remove one address from `addresses` and call `handshake(address)` to connect to a peer\n",
    "* Send a [`getaddr` message](https://en.bitcoin.it/wiki/Protocol_documentation#getaddr) to our peer requesting a list of their peers. They should respond with an `addr` message.\n",
    "* Enter a `while` loop which one bitcoin message from our peer every iteration, just like in `listener`. But instead of printing them out, let's:\n",
    "    * Wait until we receive an `addr` message (`msg['command'] == b'addr'`)\n",
    "    * When we do, call `read_addr_payload` on its payload to deserialize this list of peer addresses\n",
    "    * Add each of these addresses to out `addresses` list, and start all over\n",
    "\n",
    "In this way we could theoretically visit every node in the network. Let's try to implement this.\n",
    " "
   ]
  },
  {
   "cell_type": "markdown",
   "metadata": {},
   "source": [
    "# Naive Crawler\n",
    "\n",
    "First, we need to study the Bitcoin wiki to learn how to send a [`getaddr` message](https://en.bitcoin.it/wiki/Protocol_documentation#getaddr.\n",
    "\n",
    "Luckily for us, `getaddr` is one of those messages which doesn't require a payload. Therefore, we can produce on like this:"
   ]
  },
  {
   "cell_type": "code",
   "execution_count": null,
   "metadata": {},
   "outputs": [],
   "source": [
    "serialize_msg(command=b\"getaddr\", payload=b\"\")"
   ]
  },
  {
   "cell_type": "markdown",
   "metadata": {},
   "source": [
    "And we can send it like so:"
   ]
  },
  {
   "cell_type": "code",
   "execution_count": null,
   "metadata": {},
   "outputs": [],
   "source": [
    "# make a socket\n",
    "sock = handshake(address)\n",
    "\n",
    "msg = serialize_msg(command=b\"getaddr\", payload=b\"\")\n",
    "sock.sendall(msg)\n",
    "print('\"getaddr\" sent!')"
   ]
  },
  {
   "cell_type": "markdown",
   "metadata": {},
   "source": [
    "Very easy! Let's copy the body of `listener`, rename it to `crawler`, and add this code right before the loop."
   ]
  },
  {
   "cell_type": "code",
   "execution_count": null,
   "metadata": {},
   "outputs": [],
   "source": [
    "def crawler(address):\n",
    "    # Establish connection\n",
    "    sock = handshake(address)\n",
    "    stream = sock.makefile(\"rb\")\n",
    "    \n",
    "    # Request list of their peers\n",
    "    msg = serialize_msg(command=b\"getaddr\", payload=b\"\")\n",
    "    sock.sendall(msg)\n",
    "    \n",
    "    # TODO: Wait for `addr` response\n",
    "    while True:\n",
    "        print(read_msg(stream)['command'])"
   ]
  },
  {
   "cell_type": "code",
   "execution_count": null,
   "metadata": {},
   "outputs": [],
   "source": [
    "crawler(address)"
   ]
  },
  {
   "cell_type": "markdown",
   "metadata": {},
   "source": [
    "Next we modify `listener` to specially handle the `addr` message we just requested. For now, let's just print out the `addr` payload."
   ]
  },
  {
   "cell_type": "code",
   "execution_count": null,
   "metadata": {},
   "outputs": [],
   "source": [
    "from lib import handshake\n",
    "\n",
    "def crawler(address):\n",
    "    # Establish connection\n",
    "    print(f'Connecting to {address[0]}')\n",
    "    sock = connect(address)\n",
    "    stream = sock.makefile(\"rb\")\n",
    "    \n",
    "    # Request list of their peers\n",
    "    msg = serialize_msg(command=b\"getaddr\", payload=b\"\")\n",
    "    sock.sendall(msg)\n",
    "    \n",
    "    # Wait for `addr` response\n",
    "    while True:\n",
    "        msg = read_msg(stream)\n",
    "        if msg['command'] == b'addr':\n",
    "            print(f'Received \"addr\" payload: {msg[\"payload\"]}')\n",
    "            return\n",
    "        elif msg['command'] == b'ping':\n",
    "            sock.sendall(serialize_msg(b'pong'))\n",
    "        else:\n",
    "            print(f'Ignoring {msg[\"command\"]} message')\n"
   ]
  },
  {
   "cell_type": "code",
   "execution_count": null,
   "metadata": {
    "scrolled": true
   },
   "outputs": [],
   "source": [
    "crawler(next_address())"
   ]
  },
  {
   "cell_type": "markdown",
   "metadata": {},
   "source": [
    "One of the strange things you might notice is that they don't always "
   ]
  },
  {
   "cell_type": "markdown",
   "metadata": {},
   "source": [
    "Next, let's interpret the payload of the `addr` message when it finally arrives.\n",
    "\n",
    "Visit the [protocol docs](https://en.bitcoin.it/wiki/Protocol_documentation#addr) to see what this will require. \n",
    "\n",
    "We see that `addr` messages are just a list of `net_addr`s prefixed with a `varint` so we know how many of them there. Given that, let's write a `read_addr_payload` function that can take a byte stream containing the payload of an `addr` message and return a Python list of dictionaries containing `net_addr` attributes."
   ]
  },
  {
   "cell_type": "code",
   "execution_count": null,
   "metadata": {},
   "outputs": [],
   "source": [
    "# FIXME: should we just return the list? Do we need the dictionary?\n",
    "\n",
    "def read_addr_payload(stream):\n",
    "    r = {}\n",
    "    count = read_varint(stream)\n",
    "    r[\"addresses\"] = [read_address(stream) for _ in range(count)]\n",
    "    return r"
   ]
  },
  {
   "cell_type": "code",
   "execution_count": null,
   "metadata": {},
   "outputs": [],
   "source": [
    "read_addr_payload(BytesIO(b'\\x01hC\\x90\\\\\\r\\x04\\x00\\x00\\x00\\x00\\x00\\x00\\x00\\x00\\x00\\x00\\x00\\x00\\x00\\x00\\x00\\x00\\xff\\xff_\\x1c\\xda= \\x8d'))"
   ]
  },
  {
   "cell_type": "markdown",
   "metadata": {},
   "source": [
    "Let's call this function from within `crawler`:"
   ]
  },
  {
   "cell_type": "code",
   "execution_count": null,
   "metadata": {},
   "outputs": [],
   "source": [
    "def crawler(address):\n",
    "    # Establish connection\n",
    "    print(f'Connecting to {address[0]}')\n",
    "    sock = connect(address)\n",
    "    stream = sock.makefile(\"rb\")\n",
    "    \n",
    "    # Request list of their peers\n",
    "    msg = serialize_msg(command=b\"getaddr\", payload=b\"\")\n",
    "    sock.sendall(msg)\n",
    "    \n",
    "    # Wait for `addr` response\n",
    "    while True:\n",
    "        msg = read_msg(stream)\n",
    "        if msg['command'] == b'addr':\n",
    "            addr_msg = read_addr_payload(BytesIO(msg['payload']))\n",
    "            print(f'Received \"addr\" containing {addr_msg[\"addresses\"]}')\n",
    "            return\n",
    "        elif msg['command'] == b'ping':\n",
    "            sock.sendall(serialize_msg(b'pong'))\n",
    "        else:\n",
    "            print(f'Ignoring {msg[\"command\"]} message')\n"
   ]
  },
  {
   "cell_type": "code",
   "execution_count": null,
   "metadata": {
    "scrolled": true
   },
   "outputs": [],
   "source": [
    "crawler(next_address())"
   ]
  },
  {
   "cell_type": "markdown",
   "metadata": {},
   "source": [
    "Now that we can our peer's address list, let's extend the save them to an `addresses` list."
   ]
  },
  {
   "cell_type": "code",
   "execution_count": null,
   "metadata": {},
   "outputs": [],
   "source": [
    "def crawler(addresses):\n",
    "    # Get next address\n",
    "    address = addresses.pop()\n",
    "    \n",
    "    # Connect to this node\n",
    "    while True:\n",
    "        # Establish connection\n",
    "        print(f'Connecting to {address[0]}')\n",
    "        sock = connect(address)\n",
    "        stream = sock.makefile(\"rb\")\n",
    "\n",
    "        # Request list of their peers\n",
    "        msg = serialize_msg(command=b\"getaddr\", payload=b\"\")\n",
    "        sock.sendall(msg)\n",
    "\n",
    "        # Wait for `addr` response\n",
    "        while True:\n",
    "            msg = read_msg(stream)\n",
    "            if msg['command'] == b'addr':\n",
    "                addr_msg = read_addr_payload(BytesIO(msg['payload']))\n",
    "                print(f'Received \"addr\" containing {addr_msg[\"addresses\"]}')\n",
    "                addresses.extend(addr_msg['addresses'])\n",
    "                break\n",
    "            elif msg['command'] == b'ping':\n",
    "                sock.sendall(serialize_msg(b'pong'))\n",
    "            else:\n",
    "                print(f'Ignoring {msg[\"command\"]} message')"
   ]
  },
  {
   "cell_type": "code",
   "execution_count": null,
   "metadata": {
    "scrolled": true
   },
   "outputs": [],
   "source": [
    "crawler([next_address()])"
   ]
  },
  {
   "cell_type": "markdown",
   "metadata": {},
   "source": [
    "If you run this code enough times, you'll get output like this:\n",
    "\n",
    "```\n",
    "Connecting to 173.244.167.110\n",
    "Ignoring b'alert' message\n",
    "Received \"addr\" containing [{'time': 1552959039, 'services': b'\\r\\x04\\x00\\x00\\x00\\x00\\x00\\x00', 'ip': '::ffff:173.244.167.110', 'port': 8333}]\n",
    "Connecting to 173.244.167.110\n",
    "Received \"addr\" containing [{'time': 1552959039, 'services': b'\\r\\x04\\x00\\x00\\x00\\x00\\x00\\x00', 'ip': '::ffff:173.244.167.110', 'port': 8333}]\n",
    "Connecting to 173.244.167.110\n",
    "Received \"addr\" containing [{'time': 1552959039, 'services': b'\\r\\x04\\x00\\x00\\x00\\x00\\x00\\x00', 'ip': '::ffff:173.244.167.110', 'port': 8333}]\n",
    "Connecting to 173.244.167.110\n",
    "Received \"addr\" containing [{'time': 1552959039, 'services': b'\\r\\x04\\x00\\x00\\x00\\x00\\x00\\x00', 'ip': '::ffff:173.244.167.110', 'port': 8333}]\n",
    "...\n",
    "...\n",
    "...\n",
    "```\n",
    "\n",
    "It's just connecting to the same address over and over again. Why is this?\n",
    "\n",
    "Because the `addr` message our peer is sending us contains only 1 address: the address of the peer we're currently connected to! So that will go back into the queue, and we'll just keep connecting to the same peer over-and-over.\n",
    "\n",
    "We need a check for this:"
   ]
  },
  {
   "cell_type": "code",
   "execution_count": null,
   "metadata": {},
   "outputs": [],
   "source": [
    "from ipaddress import ip_address\n",
    "\n",
    "a = ip_address('::ffff:173.244.167.110')\n",
    "b = ip_address('173.244.167.110')"
   ]
  },
  {
   "cell_type": "code",
   "execution_count": null,
   "metadata": {},
   "outputs": [],
   "source": [
    "a"
   ]
  },
  {
   "cell_type": "code",
   "execution_count": null,
   "metadata": {},
   "outputs": [],
   "source": [
    "b"
   ]
  },
  {
   "cell_type": "code",
   "execution_count": null,
   "metadata": {},
   "outputs": [],
   "source": [
    "a.compressed"
   ]
  },
  {
   "cell_type": "code",
   "execution_count": null,
   "metadata": {},
   "outputs": [],
   "source": [
    "b.compressed"
   ]
  },
  {
   "cell_type": "code",
   "execution_count": null,
   "metadata": {},
   "outputs": [],
   "source": []
  },
  {
   "cell_type": "code",
   "execution_count": null,
   "metadata": {},
   "outputs": [],
   "source": [
    "def crawler(addresses):\n",
    "    # Get next address\n",
    "    address = addresses.pop()\n",
    "    \n",
    "    # Connect to this node\n",
    "    while True:\n",
    "        # Establish connection\n",
    "        print(f'Connecting to {address[0]}')\n",
    "        sock = connect(address)\n",
    "        stream = sock.makefile(\"rb\")\n",
    "\n",
    "        # Request list of their peers\n",
    "        msg = serialize_msg(command=b\"getaddr\", payload=b\"\")\n",
    "        sock.sendall(msg)\n",
    "\n",
    "        # Wait for `addr` response\n",
    "        while True:\n",
    "            msg = read_msg(stream)\n",
    "            if msg['command'] == b'addr':\n",
    "                addr_msg = read_addr_payload(BytesIO(msg['payload']))\n",
    "                # Only save if it contains new addresses\n",
    "                print(len(addr_msg[\"addresses\"]), addr_msg[\"addresses\"][0], address)\n",
    "                if len(addr_msg[\"addresses\"]) > 1:\n",
    "                    print(f'Received \"addr\" containing {addr_msg[\"addresses\"]}')\n",
    "                    addresses.extend([\n",
    "                        (a['ip'], a['port']) for a in addr_msg[\"addresses\"]\n",
    "                    ])\n",
    "                    break\n",
    "            elif msg['command'] == b'ping':\n",
    "                sock.sendall(serialize_msg(b'pong'))\n",
    "            else:\n",
    "                print(f'Ignoring {msg[\"command\"]} message')"
   ]
  },
  {
   "cell_type": "code",
   "execution_count": null,
   "metadata": {
    "scrolled": true
   },
   "outputs": [],
   "source": [
    "crawler([next_address()])"
   ]
  },
  {
   "cell_type": "code",
   "execution_count": null,
   "metadata": {},
   "outputs": [],
   "source": [
    "def crawler(addresses):\n",
    "    # Get next address\n",
    "    address = addresses.pop()\n",
    "    \n",
    "    # Connect to this node\n",
    "    while True:\n",
    "        # Establish connection\n",
    "        print(f'Connecting to {address[0]}')\n",
    "        try:\n",
    "            sock = connect(address)\n",
    "        except:\n",
    "            continue\n",
    "        stream = sock.makefile(\"rb\")\n",
    "\n",
    "        # Request list of their peers\n",
    "        msg = serialize_msg(command=b\"getaddr\", payload=b\"\")\n",
    "        sock.sendall(msg)\n",
    "\n",
    "        # Wait for `addr` response\n",
    "        while True:\n",
    "            try:\n",
    "                msg = read_msg(stream)\n",
    "            except:\n",
    "                break\n",
    "            if msg['command'] == b'addr':\n",
    "                addr_msg = read_addr_payload(BytesIO(msg['payload']))\n",
    "                # Only save if it contains new addresses\n",
    "                print(len(addr_msg[\"addresses\"]), addr_msg[\"addresses\"][0], address)\n",
    "                if len(addr_msg[\"addresses\"]) > 1:\n",
    "                    print(f'Received {len(addr_msg[\"addresses\"])} addrs')\n",
    "                    addresses.extend([\n",
    "                        (a['ip'], a['port']) for a in addr_msg[\"addresses\"]\n",
    "                    ])\n",
    "                    break\n",
    "            elif msg['command'] == b'ping':\n",
    "                sock.sendall(serialize_msg(b'pong'))\n",
    "            else:\n",
    "                print(f'Ignoring {msg[\"command\"]} message')"
   ]
  },
  {
   "cell_type": "code",
   "execution_count": null,
   "metadata": {},
   "outputs": [],
   "source": [
    "crawler([next_address()])"
   ]
  },
  {
   "cell_type": "markdown",
   "metadata": {},
   "source": [
    "This code is now a mess.\n",
    "\n",
    "A couple classes could significantly improve it.\n",
    "\n",
    "The biggest problem in my opinion is the 2 `while` loops. That's confusing, complex, and ugly. These two loops both represent different things.\n",
    "\n",
    "The outer loop represents the procession of new connections to peers. This is the \"crawler\" itself.\n",
    "\n",
    "The inner loop represent the reading of messages until an `addr` shows up. This is like a \"connection\", is it now?\n",
    "\n",
    "If we were to break this code up into classes, it might make sense to have a `Crawler` class which handles the outer loop, and a `Connection` class which handles the inner loop.\n",
    "\n"
   ]
  },
  {
   "cell_type": "code",
   "execution_count": null,
   "metadata": {},
   "outputs": [],
   "source": [
    "class Connection:\n",
    "    \n",
    "    def __init__(self, address):\n",
    "        self.address = address\n",
    "        self.sock = None\n",
    "        self.peer_addresses = None\n",
    "        self.finished = False\n",
    "        \n",
    "    def handle_addr(self, msg):\n",
    "        addr_msg = read_addr_payload(BytesIO(msg['payload']))\n",
    "        # Only save if it contains new addresses\n",
    "        print('received', len(addr_msg[\"addresses\"]), 'addresses') \n",
    "        if len(addr_msg[\"addresses\"]) > 1:\n",
    "            print(f'Received {len(addr_msg[\"addresses\"])} addrs')\n",
    "            addresses.extend([\n",
    "                (a['ip'], a['port']) for a in addr_msg[\"addresses\"]\n",
    "            ])\n",
    "            self.finished = True\n",
    "        \n",
    "    def open(self):\n",
    "        # Handshake\n",
    "        print(\"connecting to\", self.address)\n",
    "        self.sock = handshake(self.address)\n",
    "        stream = self.sock.makefile(\"rb\")\n",
    "\n",
    "        # Request list of their peers\n",
    "        msg = serialize_msg(command=b\"getaddr\", payload=b\"\")\n",
    "        self.sock.sendall(msg)\n",
    "        \n",
    "        while not self.finished:\n",
    "            msg = read_msg(stream)\n",
    "            if msg['command'] == b'addr':\n",
    "                self.handle_addr(msg)\n",
    "            elif msg['command'] == b'ping':\n",
    "                self.sock.sendall(serialize_msg(b'pong'))\n",
    "            else:\n",
    "                print(f'Ignoring {msg[\"command\"]} message')\n",
    "    \n",
    "    def close(self):\n",
    "        self.sock.close()\n",
    "    \n",
    "class Crawler:\n",
    "    \n",
    "    def __init__(self, addresses):\n",
    "        self.addresses = addresses\n",
    "        \n",
    "    def crawl(self):\n",
    "        while True:\n",
    "            address = self.addresses.pop()\n",
    "            \n",
    "            try:\n",
    "                connection = Connection(address)\n",
    "                connection.open()\n",
    "            except Exception as e:\n",
    "#                 raise\n",
    "                print(e)\n",
    "                logging.info(str(e))\n",
    "                continue\n",
    "\n",
    "            connection.close()\n",
    "            if connection.peer_addresses:\n",
    "                self.addresses.extend(connection.peer_addresses)"
   ]
  },
  {
   "cell_type": "code",
   "execution_count": null,
   "metadata": {
    "scrolled": true
   },
   "outputs": [],
   "source": [
    "addresses = [next_address()]\n",
    "Crawler(addresses).crawl()"
   ]
  },
  {
   "cell_type": "markdown",
   "metadata": {},
   "source": [
    "# Timeouts\n",
    "\n",
    "(Note that `handshake()` already contains a timeout _at the socket level_. This will raise exceptions if no messages are sent over the "
   ]
  },
  {
   "cell_type": "code",
   "execution_count": null,
   "metadata": {},
   "outputs": [],
   "source": [
    "# client.py\n",
    "\n",
    "import socket, time\n",
    "\n",
    "\n",
    "addr = \"localhost\", 11000\n",
    "\n",
    "def client_2():\n",
    "    sock = socket.create_connection(addr, timeout=5)\n",
    "    print('connected. attempting to read message')\n",
    "    sock.recv(1)\n",
    "\n",
    "def client_3():\n",
    "    sock = socket.create_connection(addr, timeout=5)\n",
    "    print('connected. attempting to read message')\n",
    "    try:\n",
    "        sock.recv(1)\n",
    "    except socket.timeout:\n",
    "        sock.close()\n",
    "\n",
    "client_2()\n"
   ]
  },
  {
   "cell_type": "code",
   "execution_count": null,
   "metadata": {},
   "outputs": [],
   "source": [
    "# server.py\n",
    "import socket, time\n",
    "\n",
    "addr = \"localhost\", 11000\n",
    "\n",
    "sock = socket.socket(socket.AF_INET, socket.SOCK_STREAM)\n",
    "sock.bind(addr)\n",
    "sock.listen()\n",
    "t = time.tim()\n",
    "conn, addr = sock.accept()\n",
    "while True:\n",
    "    print('Will it time out?')\n",
    "    time.sleep(1)\n",
    "    print()"
   ]
  },
  {
   "cell_type": "markdown",
   "metadata": {},
   "source": [
    "Demonstrates socket timeouts, but the server curiously doesn't know she's listening on a dead line! It's best to close your sockets before throwing them away:"
   ]
  },
  {
   "cell_type": "code",
   "execution_count": null,
   "metadata": {},
   "outputs": [],
   "source": [
    "# client.py (revision)\n",
    "\n",
    "import socket, time\n",
    "\n",
    "addr = \"localhost\", 11000\n",
    "\n",
    "sock = socket.create_connection(addr, timeout=5)\n",
    "start = time.time()\n",
    "print('connected. attempting to read message')\n",
    "try:\n",
    "    sock.recv(1)\n",
    "except socket.timeout:\n",
    "    sock.close()\n",
    "    print(f'Timed out after {time.time() - start} seconds')"
   ]
  },
  {
   "cell_type": "markdown",
   "metadata": {},
   "source": [
    "Next we need timeouts in the \"listen for `addr` message\" loop. We don't want to get stuck talking to a peer who just refuses to send an `addr` message.\n",
    "\n",
    "To implement this we'll need to add a Connection.start_time"
   ]
  },
  {
   "cell_type": "code",
   "execution_count": null,
   "metadata": {},
   "outputs": [],
   "source": [
    "class Connection:\n",
    "    \n",
    "    def __init__(self, address):\n",
    "        self.address = address\n",
    "        self.sock = None\n",
    "        self.start_time = None\n",
    "        self.peer_addresses = None\n",
    "        self.finished = False\n",
    "        \n",
    "    def handle_addr(self, msg):\n",
    "        addr_msg = read_addr_payload(BytesIO(msg['payload']))\n",
    "        # Only save if it contains new addresses\n",
    "        print('received', len(addr_msg[\"addresses\"]), 'addresses') \n",
    "        if len(addr_msg[\"addresses\"]) > 1:\n",
    "            print(f'Received {len(addr_msg[\"addresses\"])} addrs')\n",
    "            addresses.extend([\n",
    "                (a['ip'], a['port']) for a in addr_msg[\"addresses\"]\n",
    "            ])\n",
    "            self.finished = True\n",
    "        \n",
    "    def remain_alive(self):\n",
    "        return not self.finished and time.time() - self.start_time < 60\n",
    "\n",
    "    def open(self):\n",
    "        self.start_time = time.time()\n",
    "\n",
    "        # Handshake\n",
    "        print(\"connecting to\", self.address)\n",
    "        self.sock = handshake(self.address)\n",
    "        stream = self.sock.makefile(\"rb\")\n",
    "\n",
    "        # Request list of their peers\n",
    "        msg = serialize_msg(command=b\"getaddr\", payload=b\"\")\n",
    "        self.sock.sendall(msg)\n",
    "        \n",
    "        # Wait for response\n",
    "        while self.remain_alive():\n",
    "            msg = read_msg(stream)\n",
    "            if msg['command'] == b'addr':\n",
    "                self.handle_addr(msg)\n",
    "            elif msg['command'] == b'ping':\n",
    "                self.sock.sendall(serialize_msg(b'pong'))\n",
    "            else:\n",
    "                print(f'Ignoring {msg[\"command\"]} message')\n",
    "\n",
    "    def close(self):\n",
    "        self.sock.close()\n",
    "    "
   ]
  },
  {
   "cell_type": "code",
   "execution_count": null,
   "metadata": {},
   "outputs": [],
   "source": [
    "from lib import handshake, connect"
   ]
  },
  {
   "cell_type": "code",
   "execution_count": null,
   "metadata": {
    "scrolled": true
   },
   "outputs": [],
   "source": [
    "addresses = [next_address()]\n",
    "Crawler(addresses).crawl()"
   ]
  },
  {
   "cell_type": "markdown",
   "metadata": {},
   "source": [
    "# Seeds"
   ]
  },
  {
   "cell_type": "markdown",
   "metadata": {},
   "source": [
    "By this time you've probably hit this error:\n",
    "\n",
    "![image](../images/empty-list.png)\n",
    "\n",
    "It would be much better if we could prime our crawler with more addresses. It would be especially good if they were addresses of \"high quality\" nodes that are always online and have juicy peer lists to share with us.\n",
    "\n",
    "This is exactly what DNS seeds are for. Prominent bitcoin core developers run DNS servers from domains they contol which resolve not to the address of a machine serving a website -- which is true of most domain names -- but to a list of addresses of high quality bitcoin full nodes.\n",
    "\n",
    "These domains are actually [hard-coded into Bitcoin Core](https://github.com/bitcoin/bitcoin/blob/v0.17.1/src/chainparams.cpp#L127)!\n",
    "\n",
    "Most of them run [this crawler / server written by Peter Wuille](https://github.com/sipa/bitcoin-seeder).\n",
    "\n",
    "Let's learn to query these DNS seeds:"
   ]
  },
  {
   "cell_type": "code",
   "execution_count": null,
   "metadata": {},
   "outputs": [],
   "source": [
    "DNS_SEEDS = [\n",
    "    'dnsseed.bitcoin.dashjr.org', \n",
    "    'dnsseed.bluematt.me',\n",
    "    'seed.bitcoin.sipa.be', \n",
    "    'seed.bitcoinstats.com', \n",
    "    'seed.bitcoin.sprovoost.nl',\n",
    "]"
   ]
  },
  {
   "cell_type": "markdown",
   "metadata": {},
   "source": [
    "In your terminal type:\n",
    "\n",
    "```shell\n",
    "host dnsseed.bitcoin.dashjr.org\n",
    "```\n",
    "\n",
    "This will perform a DNS lookup. How can we do this from Python?"
   ]
  },
  {
   "cell_type": "code",
   "execution_count": null,
   "metadata": {},
   "outputs": [],
   "source": [
    "# getaddrinfo translates hostname -> ip address ... but it's messy\n",
    "addr_info = socket.getaddrinfo(DNS_SEEDS[0], 0, 0, 0, 0)\n",
    "addr_info"
   ]
  },
  {
   "cell_type": "code",
   "execution_count": null,
   "metadata": {},
   "outputs": [],
   "source": [
    "# ip addresses are the first item in the last entry\n",
    "ips = [ai[-1][0] for ai in addr_info]"
   ]
  },
  {
   "cell_type": "code",
   "execution_count": null,
   "metadata": {},
   "outputs": [],
   "source": [
    "# Remove duplicates\n",
    "ips = list(set(ips))\n",
    "ips"
   ]
  },
  {
   "cell_type": "code",
   "execution_count": null,
   "metadata": {},
   "outputs": [],
   "source": [
    "# Translate to an (ip, port) tuple for ready consumption by socket.create_connection\n",
    "addresses = [(ip, 8333) for ip in ips]\n",
    "addresses"
   ]
  },
  {
   "cell_type": "code",
   "execution_count": null,
   "metadata": {
    "scrolled": true
   },
   "outputs": [],
   "source": [
    "# Can we connect?\n",
    "sock = handshake(addresses[0])\n",
    "print(f'Received some bytes: {sock.recv(100)}')"
   ]
  },
  {
   "cell_type": "code",
   "execution_count": null,
   "metadata": {},
   "outputs": [],
   "source": [
    "def fetch_addresses():\n",
    "    addresses = []\n",
    "    for dns_seed in DNS_SEEDS:\n",
    "        try:\n",
    "            addr_info = socket.getaddrinfo(dns_seed, 0\n",
    "            new_addresses = [(ai[-1][0], 8333) for ai in addr_info]\n",
    "            addresses.extend(list(set(new_addresses)))\n",
    "        except Exception as e:\n",
    "            print(e)\n",
    "            logger.info(f\"error fetching addresses from {dns_seed}\")\n",
    "            continue\n",
    "    return addresses"
   ]
  },
  {
   "cell_type": "code",
   "execution_count": null,
   "metadata": {
    "scrolled": true
   },
   "outputs": [],
   "source": [
    "fetch_addresses()"
   ]
  },
  {
   "cell_type": "code",
   "execution_count": null,
   "metadata": {},
   "outputs": [],
   "source": [
    "socket.getaddrinfo(DNS_SEEDS[0], 0)"
   ]
  },
  {
   "cell_type": "code",
   "execution_count": null,
   "metadata": {},
   "outputs": [],
   "source": [
    "# Let's run the crawler with addresses from the DNS seeds\n",
    "\n",
    "Crawler(fetch_addresses()).crawl()"
   ]
  },
  {
   "cell_type": "markdown",
   "metadata": {},
   "source": [
    "# Saving the results\n",
    "\n",
    "Right now we're just throwing away the version messages we receive from our peers -- which contain interesting information about the node sofware they are using. We also don't keep any track record of the addresses we've successfully visited. That's essential if we want to make any claims that \"The Bitcoin network contains at least N nodes\".\n",
    "\n",
    "I propose we save this information in a SQLite database. If you've never used SQL before, I suggest you do [this tutorial](http://www.sqlitetutorial.net/)\n",
    "\n",
    "The essence of the idea is that it is a relational database that lives in a single file. Therefore, it's pretty easy to work with and quite portable -- you can even email the database file if you like!\n",
    "\n",
    "And since SQLite is perhaps the most deployed piece of software in the world (it's on your phone, you laptop, your TV, your refrigerator, etc) there exists a lot of nice tooling for it. One great tool is [SQLiteBrowser](https://sqlitebrowser.org). Please install it. We'll use it to query the data generated by our crawler.\n",
    "\n",
    "## SQLite Demo\n",
    "\n",
    "Here's how to do the two most important operations:\n",
    "* Add entries to the database with `INSERT`\n",
    "* Query the database with `SELECT`"
   ]
  },
  {
   "cell_type": "code",
   "execution_count": null,
   "metadata": {},
   "outputs": [],
   "source": [
    "import sqlite3\n",
    "\n",
    "con = sqlite3.connect('test.db')\n",
    "\n",
    "with con:\n",
    "\n",
    "    cur = con.cursor()\n",
    "\n",
    "    cur.execute(\"CREATE TABLE cars(id INT, name TEXT, price INT)\")\n",
    "    cur.execute(\"INSERT INTO cars VALUES(1,'Audi',52642)\")\n",
    "    cur.execute(\"INSERT INTO cars VALUES(2,'Mercedes',57127)\")\n",
    "    cur.execute(\"INSERT INTO cars VALUES(3,'Skoda',9000)\")\n",
    "    cur.execute(\"INSERT INTO cars VALUES(4,'Volvo',29000)\")\n",
    "    cur.execute(\"INSERT INTO cars VALUES(5,'Bentley',350000)\")\n",
    "    cur.execute(\"INSERT INTO cars VALUES(6,'Citroen',21000)\")\n",
    "    cur.execute(\"INSERT INTO cars VALUES(7,'Hummer',41400)\")\n",
    "    cur.execute(\"INSERT INTO cars VALUES(8,'Volkswagen',21600)\")"
   ]
  },
  {
   "cell_type": "code",
   "execution_count": null,
   "metadata": {},
   "outputs": [],
   "source": [
    "# Query all the cars\n",
    "\n",
    "with con:\n",
    "\n",
    "    cur = con.cursor()\n",
    "    cur.execute(\"SELECT * FROM cars\")\n",
    "\n",
    "    rows = cur.fetchall()\n",
    "\n",
    "    for row in rows:\n",
    "        print(f\"{row[0]} {row[1]} {row[2]}\")"
   ]
  },
  {
   "cell_type": "code",
   "execution_count": null,
   "metadata": {},
   "outputs": [],
   "source": [
    "# Query the expensive cars\n",
    "\n",
    "with con:\n",
    "\n",
    "    cur = con.cursor()\n",
    "    cur.execute(\"SELECT * FROM cars WHERE price > 30000\")\n",
    "\n",
    "    rows = cur.fetchall()\n",
    "\n",
    "    for row in rows:\n",
    "        print(f\"{row[0]} {row[1]} {row[2]}\")"
   ]
  },
  {
   "cell_type": "markdown",
   "metadata": {},
   "source": [
    "# Making an `observations` Table\n",
    "\n",
    "Just like we made a pretend \"cars\" table above, let's make an \"observations\" table for our crawler.\n",
    "\n",
    "This table will contain:\n",
    "* Everything in `version` messages\n",
    "* `ip` and `port`\n",
    "* `run` -- an integer that counts up every time we run the crawler"
   ]
  },
  {
   "cell_type": "code",
   "execution_count": null,
   "metadata": {},
   "outputs": [],
   "source": [
    "def execute(query, args={}):\n",
    "    with sqlite3.connect('test.db') as conn:\n",
    "        return conn.execute(query, args)"
   ]
  },
  {
   "cell_type": "code",
   "execution_count": null,
   "metadata": {},
   "outputs": [],
   "source": [
    "create_observations_table = \"\"\"\n",
    "CREATE TABLE IF NOT EXISTS observations (\n",
    "    run INT,\n",
    "    ip TEXT,\n",
    "    port INT,\n",
    "    services INT,\n",
    "    timestamp INT,\n",
    "    receiver_services INT,\n",
    "    receiver_ip TEXT,\n",
    "    receiver_port INT,\n",
    "    sender_services INT,\n",
    "    sender_ip TEXT,\n",
    "    sender_port INT,\n",
    "    nonce TEXT,\n",
    "    user_agent TEXT,\n",
    "    latest_block INT,\n",
    "    relay INT\n",
    ")\n",
    "\"\"\""
   ]
  },
  {
   "cell_type": "code",
   "execution_count": null,
   "metadata": {},
   "outputs": [],
   "source": [
    "execute(create_observations_table)"
   ]
  },
  {
   "cell_type": "code",
   "execution_count": null,
   "metadata": {},
   "outputs": [],
   "source": [
    "RUN = 0  # FIXME\n",
    "\n",
    "def observe_node(address, args):\n",
    "    query = \"\"\"\n",
    "    INSERT INTO observations (\n",
    "        run,\n",
    "        ip,\n",
    "        port,\n",
    "        services,\n",
    "        timestamp,\n",
    "        receiver_services,\n",
    "        receiver_ip,\n",
    "        receiver_port,\n",
    "        sender_services,\n",
    "        sender_ip,\n",
    "        sender_port,\n",
    "        nonce,\n",
    "        user_agent,\n",
    "        latest_block,\n",
    "        relay\n",
    "    ) VALUES (\n",
    "        :run,\n",
    "        :ip,\n",
    "        :port,\n",
    "        :services,\n",
    "        :timestamp,\n",
    "        :receiver_services,\n",
    "        :receiver_ip,\n",
    "        :receiver_port,\n",
    "        :sender_services,\n",
    "        :sender_ip,\n",
    "        :sender_port,\n",
    "        :nonce,\n",
    "        :user_agent,\n",
    "        :latest_block,\n",
    "        :relay\n",
    "    )\n",
    "    \"\"\"\n",
    "    args[\"nonce\"] = str(args[\"nonce\"]) # HACK\n",
    "    args[\"ip\"] = address[0]\n",
    "    args[\"port\"] = address[1]\n",
    "    args[\"run\"] = RUN\n",
    "    execute(query, args)\n"
   ]
  },
  {
   "cell_type": "code",
   "execution_count": null,
   "metadata": {},
   "outputs": [],
   "source": [
    "version_payload = {\n",
    "    'version': 70015,\n",
    "    'services': 1,\n",
    "    'timestamp': 1553189779,\n",
    "    'receiver_services': 1,\n",
    "    'receiver_ip': '0.0.0.0',\n",
    "    'receiver_port': 8333,\n",
    "    'sender_services': 1,\n",
    "    'sender_ip': '0.0.0.0',\n",
    "    'sender_port': 36128,\n",
    "    'nonce': 15042168689231199477,\n",
    "    'user_agent': b'/buidl-bootcamp/',\n",
    "    'latest_block': 500000,\n",
    "    'relay': 1,\n",
    "    'ip': '0.0.0.0',\n",
    "    'port': 8333}\n",
    "address = \"0.0.0.0\", 8333\n",
    "\n",
    "observe_node(address, version_payload)"
   ]
  },
  {
   "cell_type": "code",
   "execution_count": null,
   "metadata": {},
   "outputs": [],
   "source": [
    "version_payload"
   ]
  },
  {
   "cell_type": "code",
   "execution_count": null,
   "metadata": {
    "scrolled": true
   },
   "outputs": [],
   "source": [
    "results = execute(\"select * from observations\").fetchall()\n",
    "results"
   ]
  },
  {
   "cell_type": "code",
   "execution_count": null,
   "metadata": {
    "scrolled": true
   },
   "outputs": [],
   "source": [
    "# Turn the lists to dictionaries (a little more readable)\n",
    "\n",
    "params = ['run',\n",
    " 'ip',\n",
    " 'port',\n",
    " 'services',\n",
    " 'timestamp',\n",
    " 'receiver_services',\n",
    " 'receiver_ip',\n",
    " 'receiver_port',\n",
    " 'sender_services',\n",
    " 'sender_ip',\n",
    " 'sender_port',\n",
    " 'nonce',\n",
    " 'user_agent',\n",
    " 'latest_block',\n",
    " 'relay']\n",
    "\n",
    "results_dict = [dict(zip(params, result)) for result in results]\n",
    "results_dict"
   ]
  },
  {
   "cell_type": "code",
   "execution_count": null,
   "metadata": {},
   "outputs": [],
   "source": [
    "# just copied this ...\n",
    "class Crawler:\n",
    "    \n",
    "    def __init__(self, addresses):\n",
    "        self.addresses = addresses\n",
    "\n",
    "    def observe_node(self, connection):\n",
    "        # Save contents of `version` message\n",
    "        observe_node(connection.address, connection.version_payload)\n",
    "        \n",
    "        # Save contents of `addr` message\n",
    "        self.addresses.extend(connection.peer_addresses)\n",
    "        \n",
    "    def crawl(self):\n",
    "        while True:\n",
    "            address = self.addresses.pop()\n",
    "            \n",
    "            try:\n",
    "                connection = Connection(address)\n",
    "                connection.open()\n",
    "            except Exception as e:\n",
    "                raise\n",
    "                print(e)\n",
    "                logging.info(str(e))\n",
    "                continue\n",
    "\n",
    "            connection.close()\n",
    "            if connection.peer_addresses:\n",
    "                self.observe_node(connection)"
   ]
  },
  {
   "cell_type": "code",
   "execution_count": null,
   "metadata": {},
   "outputs": [],
   "source": [
    "class Connection:\n",
    "    \n",
    "    def __init__(self, address):\n",
    "        self.address = address\n",
    "        self.sock = None\n",
    "        self.start_time = None\n",
    "        self.peer_addresses = None\n",
    "        self.finished = False\n",
    "        \n",
    "    def send_version(self):\n",
    "        payload = serialize_version_payload()\n",
    "        msg = serialize_msg(b\"version\", payload)\n",
    "        self.sock.sendall(msg)\n",
    "\n",
    "    def send_verack(self):\n",
    "        msg = serialize_msg(b\"verack\", b\"\")\n",
    "        self.sock.sendall(msg)\n",
    "\n",
    "    def send_getaddr(self):\n",
    "        self.sock.send(serialize_msg(b\"getaddr\", b\"\"))\n",
    "\n",
    "    def handle_version(self, stream):\n",
    "        # Interpret payload stream\n",
    "        self.version_payload = read_version_payload(stream)\n",
    "\n",
    "        # Save the address & version payload\n",
    "        observe_node(self.address, self.version_payload)\n",
    "\n",
    "        # Complete handshake with a `verack`\n",
    "        self.send_verack()\n",
    "    \n",
    "    def handle_verack(self, stream):\n",
    "        # With connection established, ask for their peer list\n",
    "        self.send_getaddr()\n",
    "        \n",
    "    def handle_addr(self, stream):\n",
    "        addr_msg = read_addr_payload(stream)\n",
    "        # Only save if it contains new addresses\n",
    "        print('received', len(addr_msg[\"addresses\"]), 'addresses') \n",
    "        if len(addr_msg[\"addresses\"]) > 1:\n",
    "            print(f'Received {len(addr_msg[\"addresses\"])} addrs')\n",
    "            self.peer_addresses = [\n",
    "                (a['ip'], a['port']) for a in addr_msg[\"addresses\"]\n",
    "            ]\n",
    "            self.finished = True\n",
    "        \n",
    "    def handle_msg(self, msg):\n",
    "        command_str = msg['command'].decode('utf-8')\n",
    "        method = f\"handle_{command_str}\"\n",
    "        if hasattr(self, method):\n",
    "            stream = BytesIO(msg['payload'])\n",
    "            getattr(self, method)(stream)\n",
    "                  \n",
    "    def remain_alive(self):\n",
    "        return not self.finished and time.time() - self.start_time < 60\n",
    "\n",
    "    def open(self):\n",
    "        self.start_time = time.time()\n",
    "\n",
    "        # Open TCP connection\n",
    "        print(\"connecting to\", self.address)\n",
    "        self.sock = connect(self.address)\n",
    "        stream = self.sock.makefile(\"rb\")\n",
    "\n",
    "        # Start handshake\n",
    "        self.send_version()\n",
    "                  \n",
    "        # Handle messages until `addr` msg arrives or timout\n",
    "        while self.remain_alive():\n",
    "            msg = read_msg(stream)\n",
    "            self.handle_msg(msg)\n",
    "            \n",
    "    def close(self):\n",
    "        self.sock.close()"
   ]
  },
  {
   "cell_type": "code",
   "execution_count": null,
   "metadata": {
    "scrolled": true
   },
   "outputs": [],
   "source": [
    "Crawler(fetch_addresses()).crawl()"
   ]
  },
  {
   "cell_type": "code",
   "execution_count": null,
   "metadata": {},
   "outputs": [],
   "source": [
    "execute(\"select ip from observations\").fetchall()"
   ]
  },
  {
   "cell_type": "markdown",
   "metadata": {},
   "source": [
    "# Duplicates\n",
    "\n",
    "Let's only visit addresses once per run"
   ]
  },
  {
   "cell_type": "code",
   "execution_count": null,
   "metadata": {},
   "outputs": [],
   "source": [
    "# just copied this ...\n",
    "class Crawler:\n",
    "    \n",
    "    def __init__(self, addresses):\n",
    "        self.addresses = addresses\n",
    "        self.visited = set()\n",
    "        self.finished = False\n",
    "\n",
    "    def get_next_address(self):\n",
    "        \"\"\"Find an address we haven't visited yet\"\"\"\n",
    "        while self.addresses:\n",
    "            address = self.addresses.pop(0)  # get new addresses off the front\n",
    "            if address not in self.visited:\n",
    "                self.visited.add(address)\n",
    "                return address\n",
    "        self.finished = True\n",
    "        \n",
    "    def observe_node(self, connection):\n",
    "        # Save contents of `version` message\n",
    "        observe_node(connection.address, connection.version_payload)\n",
    "        \n",
    "        # Save contents of `addr` message\n",
    "        self.addresses.extend(connection.peer_addresses)\n",
    "        \n",
    "    def crawl(self):\n",
    "        while not self.finished:\n",
    "            address = self.get_next_address()\n",
    "            \n",
    "            try:\n",
    "                connection = Connection(address)\n",
    "                connection.open()\n",
    "            except Exception as e:\n",
    "                raise\n",
    "                print(e)\n",
    "                logging.info(str(e))\n",
    "                continue\n",
    "\n",
    "            connection.close()\n",
    "            if connection.peer_addresses:\n",
    "                self.observe_node(connection)"
   ]
  },
  {
   "cell_type": "code",
   "execution_count": null,
   "metadata": {
    "scrolled": false
   },
   "outputs": [],
   "source": [
    "# It only connects to this address once!\n",
    "\n",
    "addr = ('80.3.242.233', 8333)\n",
    "\n",
    "Crawler([addr, addr]).crawl()"
   ]
  },
  {
   "cell_type": "markdown",
   "metadata": {},
   "source": [
    "# Make it fast\n",
    "\n",
    "Modify Crawler.crawl ...\n",
    "\n",
    "```\n",
    "        start = time.time()\n",
    "        while time.time() - start < 30:\n",
    "```\n",
    "\n",
    "Run it with a profiler\n",
    "\n",
    "```shell\n",
    "$ python -m cProfile -s time crawler.py\n",
    "```\n",
    "\n",
    "You'll get a big ubly report. Two lines should stand out:\n",
    "\n",
    "```\n",
    "   ncalls  tottime  percall  cumtime  percall filename:lineno(function)\n",
    "       36   46.631    1.295   46.631    1.295 {method 'recv_into' of '_socket.socket' objects}\n",
    "        2    0.487    0.244    0.487    0.244 {method 'connect' of '_socket.socket' objects}\n",
    "        5    0.309    0.062    0.311    0.062 {built-in method _socket.getaddrinfo}\n",
    "        6    0.050    0.008    0.055    0.009 db.py:19(execute_statement)\n",
    "        7    0.017    0.002    0.017    0.002 {method 'execute' of 'sqlite3.Connection' objects}\n",
    "       14    0.009    0.001    0.009    0.001 {built-in method _imp.create_dynamic}\n",
    "     1002    0.005    0.000    0.013    0.000 lib.py:153(read_address)\n",
    "     1096    0.005    0.000    0.012    0.000 queue.py:121(put)\n",
    "       26    0.005    0.000    0.005    0.000 {built-in method marshal.loads}\n",
    "       78    0.003    0.000    0.006    0.000 {built-in method builtins.__build_class__}\n",
    "     1099    0.002    0.000    0.004    0.000 threading.py:335(notify)\n",
    "     1006    0.002    0.000    0.004    0.000 lib.py:57(bytes_to_ip)\n",
    "      124    0.002    0.000    0.007    0.000 <frozen importlib._bootstrap_external>:1356(find_spec)\n",
    "     1006    0.002    0.000    0.002    0.000 {built-in method _socket.inet_ntop}\n",
    "        7    0.002    0.000    0.002    0.000 {built-in method _sqlite3.connect}\n",
    "     4040    0.002    0.000    0.002    0.000 {method 'read' of '_io.BytesIO' objects}\n",
    "...\n",
    "...\n",
    "...\n",
    "```\n",
    "\n",
    "The speed of our program is dominated by 1 method: `sock.recv`\n",
    "\n",
    "`socket.connect` is also taking up time. If I ran this longer we would sometimes get a bigger number here.\n",
    "\n",
    "Lastly, `socket.getaddrinfo` is kind of slow -- but that's only called once per running of the program so shouldn't be a big problem.\n",
    "\n",
    "The problem is that we're always wwaiting around for TCP messages. Our cpu is completely idle during this time. Wouldn't it be nice if we could spread the work out and have hundreds or thousands of simultaneous TCP connections waiting for a response?\n",
    "\n",
    "Let's do exactly that.\n",
    "\n",
    "We will do this by running a copies of Crawler in threads. The tricky part here is that they will all share the `addresses` list and might both make simultaneous, conflicting changes to the list"
   ]
  },
  {
   "cell_type": "code",
   "execution_count": null,
   "metadata": {},
   "outputs": [],
   "source": [
    "from report import report\n",
    "\n",
    "def threaded_crawler():\n",
    "\n",
    "    address_queue = fetch_addresses()\n",
    "    print(address_queue)\n",
    "    # Run it\n",
    "    num_threads = 10\n",
    "    threads = []\n",
    "\n",
    "    def target():\n",
    "        return Crawler(address_queue).crawl()\n",
    "\n",
    "    for _ in range(num_threads):\n",
    "        thread = Thread(target=target)\n",
    "        thread.start()\n",
    "        threads.append(thread)\n",
    "\n",
    "    # Break out of loop if all threads are dead\n",
    "    while any([t.is_alive() for t in threads]):\n",
    "\n",
    "        # Clear terminal window and print fresh report\n",
    "#         os.system('cls' if os.name == 'nt' else 'clear')\n",
    "        report(threads, address_queue)\n",
    "        time.sleep(2)\n",
    "\n",
    "    print(\"All threads have finished\")"
   ]
  },
  {
   "cell_type": "code",
   "execution_count": null,
   "metadata": {
    "scrolled": true
   },
   "outputs": [],
   "source": [
    "threaded_crawler()"
   ]
  },
  {
   "cell_type": "markdown",
   "metadata": {},
   "source": [
    "Significantly faster. Not by improving our code, but just by running more copies of it."
   ]
  },
  {
   "cell_type": "markdown",
   "metadata": {},
   "source": [
    "One nice thing about this new code is that we only have to handle socket errors in 1 place: `Crawler.crawl`. All errors bubble up and are caught here.\n",
    "\n",
    "Another nice thing is that the code is more organized. Each method pretty much does one thing. We're no longer staring at a monolith!\n",
    "\n",
    "A couple problems:\n",
    "- It's slow as hell. We'll address this last.\n",
    "- We're throwing away the version messages our peers send us. We should keep them -- many interesting data science projects could be done if we download the version message of every node in the network.\n",
    "- We don't keep track of the nodes we've visited, or of the nodes the addresses which have caused multiple errors.\n",
    "- Can't connect to tor nodes\n",
    "- If they never send an `addr` message we'll be waiting forever. We should time out if they don't send us their peer list after some amount of time\n",
    "- We could use a better initial address list. And I never really explained where `next_address` came from -- just that we needed it to mix things up a bit. Bitcoin has \"dns seeds\" which are used by the ndoe software to bootstramp peer connections. We can query these same DNS seeds to get a list of high quality addresses.\n",
    "\n",
    "Let's tackle the second one. If we can ensure a juicy initial peer list, that will allow us to be more aggressive with the timeouts\n",
    "\n"
   ]
  },
  {
   "cell_type": "markdown",
   "metadata": {},
   "source": [
    "- DNS seeds\n",
    "\n",
    "- Timeouts\n",
    "\n",
    "- Sqlite demo\n",
    "\n",
    "- Install sqlitebrowser\n",
    "\n",
    "- Save results\n",
    "\n",
    "- Save errors\n",
    "\n",
    "- `Crawler.visited`\n",
    "\n",
    "- Run in threads\n",
    "    - list -> queue\n",
    "    - lock for `Crawler.visited`?\n",
    "\n",
    "- Report\n",
    "\n",
    "- Tor\n",
    "\n",
    "- Break out wireshark to watch the magic happen\n",
    "- Connect to local node? "
   ]
  },
  {
   "cell_type": "markdown",
   "metadata": {},
   "source": [
    "How does bitcoin core manage all this? Well take a look at peers.dat: https://raghavsood.com/blog//2018/05/20/demystifying-peers-dat"
   ]
  },
  {
   "cell_type": "markdown",
   "metadata": {},
   "source": [
    "\n",
    "Homework ideas\n",
    "\n",
    "- write your own dns seed using something like this \n",
    "    - https://gist.github.com/andreif/6069838\n",
    "    - https://github.com/pathes/fakedns/blob/master/fakedns.py\n",
    "    - https://www.youtube.com/watch?v=ViTAg8YGI5Q\n",
    "- write a python script to parse peers.dat. Use this go script as a guide: https://github.com/RaghavSood/bitpeers/\n"
   ]
  },
  {
   "cell_type": "markdown",
   "metadata": {},
   "source": [
    "# Tor\n",
    "\n",
    "(do this one once we've got a fast multi-threaded crawler up-and-running. this will be a demonstration of why it's nice to have our errors in SQLite ...)\n",
    "\n",
    "If you run this crawler long enough, eventually you'll begin to encounter addresses that look like `'fd87:d87e:eb43:20e:46fd:450c:e42c:29a5'`\n",
    "\n",
    "That curious 6 byte `fd87:d87e:eb43` prefix will show up far more than it should.\n",
    "\n",
    "Curiously, these prefixes never appear amonth the IPs where connections were successful, only among the unsuccessful connections. \n",
    "\n",
    "Try connecting to a few and you'll just get timeouts\n",
    "\n",
    "So what are they?"
   ]
  },
  {
   "cell_type": "markdown",
   "metadata": {},
   "source": [
    "They're Tor nodes.\n",
    "\n",
    "Here's how we can convert these 16 bytes into an \"onion\" address used by the Tor network:"
   ]
  },
  {
   "cell_type": "code",
   "execution_count": null,
   "metadata": {},
   "outputs": [],
   "source": [
    "# First, strip the 6-byte prefix\n",
    "onion = addr_bytes[6:]\n",
    "onion"
   ]
  },
  {
   "cell_type": "code",
   "execution_count": null,
   "metadata": {},
   "outputs": [],
   "source": [
    "from base64 import b32encode\n",
    "\n",
    "# Base32 encode the bytes\n",
    "onion = b32encode(onion)\n",
    "onion"
   ]
  },
  {
   "cell_type": "code",
   "execution_count": null,
   "metadata": {},
   "outputs": [],
   "source": [
    "# Lowercase it (strictly speaking you don't need to do this)\n",
    "onion = onion.lower()\n",
    "onion"
   ]
  },
  {
   "cell_type": "code",
   "execution_count": null,
   "metadata": {
    "scrolled": true
   },
   "outputs": [],
   "source": [
    "# Decode to a string and .onion to the end\n",
    "onion = onion.decode() + \".onion\"\n",
    "onion"
   ]
  },
  {
   "cell_type": "code",
   "execution_count": null,
   "metadata": {},
   "outputs": [],
   "source": [
    "# all together now ...\n",
    "\n",
    "def ip_bytes_to_onion(ip_bytes):\n",
    "    return b32encode(addr_bytes[6:]).lower().decode(\"ascii\") + \".onion\"\n",
    "\n",
    "ip_bytes_to_onion(addr_bytes)"
   ]
  },
  {
   "cell_type": "code",
   "execution_count": null,
   "metadata": {},
   "outputs": [],
   "source": [
    "# But we still can't connect to us from a trusty socket ...\n",
    "\n",
    "socket.create_connection(onion)"
   ]
  },
  {
   "cell_type": "markdown",
   "metadata": {},
   "source": [
    "This is because we need to be running Tor locally and need to install a python package that can use tor as a proxy to make this connection\n",
    "\n",
    "Go to the [Tor website](https://www.torproject.org/download/download-easy.html.en) and install Tor if you haven't already"
   ]
  },
  {
   "cell_type": "markdown",
   "metadata": {},
   "source": [
    "Run this command in your terminal to check whether it's working:\n",
    "\n",
    "```shell\n",
    "$ curl --socks5 localhost:9050 --socks5-hostname localhost:9050 -s https://check.torproject.org/ | cat | grep -m 1 Congratulations | xargs\n",
    "```\n",
    "\n",
    "If everything is working, you should get a response declaring `Congratulations. This browser is configured to use Tor.`"
   ]
  },
  {
   "cell_type": "markdown",
   "metadata": {},
   "source": [
    "Once you've done that, install the pysocks python proxy:\n",
    "\n",
    "```shell\n",
    "$ pip install PySocks \n",
    "```\n",
    "\n",
    "Here's a demonstration showing, at the very least, the recipients of requests over this proxy no longer see your original IP address:"
   ]
  },
  {
   "cell_type": "code",
   "execution_count": null,
   "metadata": {},
   "outputs": [],
   "source": [
    "import socks\n",
    "import urllib\n",
    "\n",
    "print(\"Old IP\", urllib.request.urlopen('http://icanhazip.com').read().decode().strip())\n",
    "socks.setdefaultproxy(\n",
    "    proxy_type=socks.PROXY_TYPE_SOCKS5, \n",
    "    addr=\"127.0.0.1\", \n",
    "    port=9050,\n",
    ")\n",
    "socket.socket = socks.socksocket  # swap out socket.socket\n",
    "print(\"New IP\", urllib.request.urlopen('http://icanhazip.com').read().decode().strip())\n",
    "import socket  # swap socket.socket back in ..."
   ]
  },
  {
   "cell_type": "markdown",
   "metadata": {},
   "source": [
    "And finally, let's acually connect to the tor bitcoin node:"
   ]
  },
  {
   "cell_type": "code",
   "execution_count": null,
   "metadata": {},
   "outputs": [],
   "source": [
    "sock = socks.create_connection(\n",
    "    (onion, 8333),\n",
    "    timeout=20,\n",
    "    proxy_type=socks.PROXY_TYPE_SOCKS5,\n",
    "    proxy_addr=\"127.0.0.1\",\n",
    "    proxy_port=9050\n",
    ")\n",
    "stream = sock.makefile('rb')\n",
    "\n",
    "# Send \"version\"\n",
    "payload = serialize_version_payload()\n",
    "msg = serialize_msg(command=b\"version\", payload=payload)\n",
    "sock.sendall(msg)\n",
    "\n",
    "# Receive \"version\"\n",
    "their_version = read_msg(stream)\n",
    "print(f\"Received {their_version}\")\n",
    "\n",
    "# ... it works ..."
   ]
  },
  {
   "cell_type": "code",
   "execution_count": null,
   "metadata": {
    "scrolled": true
   },
   "outputs": [],
   "source": [
    "# The connect() function in lib.py already does this ...\n",
    "connect((onion, 8333))"
   ]
  },
  {
   "cell_type": "code",
   "execution_count": null,
   "metadata": {
    "scrolled": true
   },
   "outputs": [],
   "source": [
    "connect(('AIHEN7KFBTSCYKNF.onion', 8333))"
   ]
  }
 ],
 "metadata": {
  "kernelspec": {
   "display_name": "Python 3",
   "language": "python",
   "name": "python3"
  },
  "language_info": {
   "codemirror_mode": {
    "name": "ipython",
    "version": 3
   },
   "file_extension": ".py",
   "mimetype": "text/x-python",
   "name": "python",
   "nbconvert_exporter": "python",
   "pygments_lexer": "ipython3",
   "version": "3.7.2"
  }
 },
 "nbformat": 4,
 "nbformat_minor": 2
}
