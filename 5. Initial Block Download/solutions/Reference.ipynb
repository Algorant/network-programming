{
 "cells": [
  {
   "cell_type": "code",
   "execution_count": 1,
   "metadata": {},
   "outputs": [],
   "source": [
    "\n",
    "%load_ext autoreload\n",
    "%autoreload 2"
   ]
  },
  {
   "cell_type": "code",
   "execution_count": 24,
   "metadata": {},
   "outputs": [
    {
     "name": "stdout",
     "output_type": "stream",
     "text": [
      "<block.BlockHeader object at 0x7f0120499438>\n"
     ]
    }
   ],
   "source": [
    "\n",
    "from io import BytesIO\n",
    "from block import Block, FULL_GENESIS_BLOCK\n",
    "\n",
    "genesis = Block.parse(BytesIO(FULL_GENESIS_BLOCK))\n",
    "\n",
    "print(genesis)"
   ]
  },
  {
   "cell_type": "code",
   "execution_count": 4,
   "metadata": {},
   "outputs": [
    {
     "data": {
      "text/plain": [
       "b'\\xff\\xff\\x00\\x1d'"
      ]
     },
     "execution_count": 4,
     "metadata": {},
     "output_type": "execute_result"
    }
   ],
   "source": [
    "genesis.bits"
   ]
  },
  {
   "cell_type": "code",
   "execution_count": 5,
   "metadata": {},
   "outputs": [
    {
     "data": {
      "text/plain": [
       "1"
      ]
     },
     "execution_count": 5,
     "metadata": {},
     "output_type": "execute_result"
    }
   ],
   "source": [
    "genesis.version"
   ]
  },
  {
   "cell_type": "code",
   "execution_count": 6,
   "metadata": {},
   "outputs": [
    {
     "data": {
      "text/plain": [
       "b'J^\\x1eK\\xaa\\xb8\\x9f:2Q\\x8a\\x88\\xc3\\x1b\\xc8\\x7fa\\x8fvg>,\\xc7z\\xb2\\x12{z\\xfd\\xed\\xa3;'"
      ]
     },
     "execution_count": 6,
     "metadata": {},
     "output_type": "execute_result"
    }
   ],
   "source": [
    "genesis.merkle_root"
   ]
  },
  {
   "cell_type": "code",
   "execution_count": 7,
   "metadata": {},
   "outputs": [
    {
     "data": {
      "text/plain": [
       "b'J^\\x1eK\\xaa\\xb8\\x9f:2Q\\x8a\\x88\\xc3\\x1b\\xc8\\x7fa\\x8fvg>,\\xc7z\\xb2\\x12{z\\xfd\\xed\\xa3;'"
      ]
     },
     "execution_count": 7,
     "metadata": {},
     "output_type": "execute_result"
    }
   ],
   "source": [
    "from helper import merkle_root\n",
    "\n",
    "merkle_root([tx.hash() for tx in genesis.txns])"
   ]
  },
  {
   "cell_type": "code",
   "execution_count": 8,
   "metadata": {},
   "outputs": [
    {
     "data": {
      "text/plain": [
       "True"
      ]
     },
     "execution_count": 8,
     "metadata": {},
     "output_type": "execute_result"
    }
   ],
   "source": [
    "genesis.merkle_root == merkle_root([tx.hash() for tx in genesis.txns])"
   ]
  },
  {
   "cell_type": "code",
   "execution_count": 43,
   "metadata": {},
   "outputs": [],
   "source": [
    "from helper import little_endian_to_int, hash256, bits_to_target, int_to_little_endian, target_to_bits\n",
    "\n",
    "def mine(block):\n",
    "    target = bits_to_target(block.bits)\n",
    "    nonce = 0\n",
    "    serialized_block = block.serialize()\n",
    "    nonce_index = 76\n",
    "    while True:\n",
    "        ser = serialized_block[:76] + int_to_little_endian(nonce, 4) + serialized_block[80:]\n",
    "        proof = little_endian_to_int(hash256(ser))\n",
    "        if proof < target:\n",
    "            block.nonce = int_to_little_endian(nonce, 4)\n",
    "            return block\n",
    "        else:\n",
    "            nonce += 1\n",
    "        if nonce % 100_000_000 == 0:\n",
    "            print(nonce)\n",
    "        "
   ]
  },
  {
   "cell_type": "code",
   "execution_count": 47,
   "metadata": {},
   "outputs": [
    {
     "data": {
      "text/plain": [
       "<block.BlockHeader at 0x7f0120499438>"
      ]
     },
     "execution_count": 47,
     "metadata": {},
     "output_type": "execute_result"
    }
   ],
   "source": [
    "genesis.bits = target_to_bits(16**62)\n",
    "mine(genesis)"
   ]
  },
  {
   "cell_type": "code",
   "execution_count": null,
   "metadata": {},
   "outputs": [],
   "source": []
  }
 ],
 "metadata": {
  "kernelspec": {
   "display_name": "Python 3",
   "language": "python",
   "name": "python3"
  },
  "language_info": {
   "codemirror_mode": {
    "name": "ipython",
    "version": 3
   },
   "file_extension": ".py",
   "mimetype": "text/x-python",
   "name": "python",
   "nbconvert_exporter": "python",
   "pygments_lexer": "ipython3",
   "version": "3.7.2"
  }
 },
 "nbformat": 4,
 "nbformat_minor": 2
}
