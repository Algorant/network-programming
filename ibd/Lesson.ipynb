{
 "cells": [
  {
   "cell_type": "code",
   "execution_count": 1,
   "metadata": {},
   "outputs": [],
   "source": [
    "%load_ext autoreload\n",
    "%autoreload 2"
   ]
  },
  {
   "cell_type": "markdown",
   "metadata": {},
   "source": []
  },
  {
   "cell_type": "markdown",
   "metadata": {},
   "source": [
    "# Refactor\n",
    "\n",
    "lib.py was refactored ... "
   ]
  },
  {
   "cell_type": "code",
   "execution_count": 13,
   "metadata": {},
   "outputs": [],
   "source": [
    "ADDRESS = ('217.19.216.210', 8333)"
   ]
  },
  {
   "cell_type": "code",
   "execution_count": 14,
   "metadata": {},
   "outputs": [],
   "source": []
  },
  {
   "cell_type": "code",
   "execution_count": 15,
   "metadata": {},
   "outputs": [],
   "source": [
    "from solutions.network import *\n",
    "\n",
    "peer = PeerConnection(*ADDRESS)\n",
    "\n",
    "peer.handshake()"
   ]
  },
  {
   "cell_type": "markdown",
   "metadata": {},
   "source": [
    "Our goal is initial block download on the first 10,000 bitcoin blocks. Bitcoin does initial block download by first downloading \"block headers\" -- which are blocks without the transactions -- and validating their hashes form and chain and that they satisfy bitcoin's proof of work requirements. Once the longest valid chain of block headers has been discovered and validated, then the bitcoin software proceeds to download and the full blocks -- block headers plus all the transactions. This takes a lot longer, but can be downloaded in parallel from multiple peers, which speeds up the process. \n",
    "\n",
    "First of all, we need to figure out how to download block headers. The bitcoin wiki tells us how: behold the We need to send a getheaders message to request the [`getheaders`](https://en.bitcoin.it/wiki/Protocol_documentation#getheaders) network message.\n",
    "\n",
    "# `getheaders`\n",
    "\n",
    "[lib.py](./lib.py) contains a stub for a `serialize_getheaders()` method. Let's fill it out so that we can send a `getheaders` message in the cell below and get a first batch of headers from a bitcoin peer."
   ]
  },
  {
   "cell_type": "code",
   "execution_count": null,
   "metadata": {},
   "outputs": [],
   "source": []
  }
 ],
 "metadata": {
  "kernelspec": {
   "display_name": "Python 3",
   "language": "python",
   "name": "python3"
  },
  "language_info": {
   "codemirror_mode": {
    "name": "ipython",
    "version": 3
   },
   "file_extension": ".py",
   "mimetype": "text/x-python",
   "name": "python",
   "nbconvert_exporter": "python",
   "pygments_lexer": "ipython3",
   "version": "3.7.2"
  }
 },
 "nbformat": 4,
 "nbformat_minor": 2
}
